{
 "cells": [
  {
   "cell_type": "markdown",
   "id": "5a3c13df",
   "metadata": {},
   "source": [
    "Variables"
   ]
  },
  {
   "cell_type": "code",
   "execution_count": 1,
   "id": "44554865",
   "metadata": {},
   "outputs": [
    {
     "data": {
      "text/plain": [
       "5"
      ]
     },
     "execution_count": 1,
     "metadata": {},
     "output_type": "execute_result"
    }
   ],
   "source": [
    "a = 5 #This  is create a variable that will be used to store the value 5\n",
    "# print(a) #This will print the value of the variable a\n",
    "# CELL: 5\n",
    "a"
   ]
  },
  {
   "cell_type": "code",
   "execution_count": null,
   "id": "2a08c85e",
   "metadata": {},
   "outputs": [
    {
     "data": {
      "text/plain": [
       "5"
      ]
     },
     "execution_count": 4,
     "metadata": {},
     "output_type": "execute_result"
    }
   ],
   "source": [
    "b = 'kamran'\n",
    "b # b is not printed because of that is after a\n",
    "a # This will print the value of the variable a \n",
    "# and without using it in print function it will not be printed on the console a and b which is the last element that ii the only print"
   ]
  },
  {
   "cell_type": "code",
   "execution_count": 5,
   "id": "124c12a9",
   "metadata": {},
   "outputs": [
    {
     "data": {
      "text/plain": [
       "'kamran'"
      ]
     },
     "execution_count": 5,
     "metadata": {},
     "output_type": "execute_result"
    }
   ],
   "source": [
    "c = \"kamran\"\n",
    "c"
   ]
  },
  {
   "cell_type": "code",
   "execution_count": 6,
   "id": "a247ef55",
   "metadata": {},
   "outputs": [
    {
     "name": "stdout",
     "output_type": "stream",
     "text": [
      "5\n",
      "kamran\n"
     ]
    }
   ],
   "source": [
    "print(a)\n",
    "print(b)"
   ]
  },
  {
   "cell_type": "code",
   "execution_count": 7,
   "id": "79894260",
   "metadata": {},
   "outputs": [
    {
     "name": "stdout",
     "output_type": "stream",
     "text": [
      "5\n",
      "5\n",
      "5.0\n"
     ]
    }
   ],
   "source": [
    "x = str(5)  # print 5 as a string implicitly(jabardasti change karna int to str)\n",
    "y = int(5)  # print 5 as a integer  \n",
    "z = float(5) # print 5 as a float\n",
    "\n",
    "print(x)\n",
    "print(y)\n",
    "print(z)"
   ]
  },
  {
   "cell_type": "code",
   "execution_count": 8,
   "id": "8d63e0bb",
   "metadata": {},
   "outputs": [
    {
     "name": "stdout",
     "output_type": "stream",
     "text": [
      "<class 'str'>\n",
      "<class 'int'>\n",
      "<class 'float'>\n"
     ]
    }
   ],
   "source": [
    "print(type(x)) # print the type of x variable is str\n",
    "print(type(y)) # print the type of y variable is int\n",
    "print(type(z)) # print the type of z variable is float"
   ]
  },
  {
   "cell_type": "code",
   "execution_count": 9,
   "id": "f6d65e41",
   "metadata": {},
   "outputs": [],
   "source": [
    "p = 'kamran'\n",
    "P = 'Hussain'"
   ]
  },
  {
   "cell_type": "code",
   "execution_count": null,
   "id": "1f4fcd50",
   "metadata": {},
   "outputs": [
    {
     "name": "stdout",
     "output_type": "stream",
     "text": [
      "kamran\n",
      "Hussain\n"
     ]
    }
   ],
   "source": [
    "print(p) # Small p \n",
    "print(P) # Capital P\n",
    "# that means both  p and P are different variables because of the case sensitive"
   ]
  },
  {
   "cell_type": "code",
   "execution_count": 12,
   "id": "9d92f452",
   "metadata": {},
   "outputs": [
    {
     "name": "stdout",
     "output_type": "stream",
     "text": [
      "kamran Hussain\n"
     ]
    }
   ],
   "source": [
    "print(p, P)"
   ]
  },
  {
   "cell_type": "code",
   "execution_count": 13,
   "id": "5beacf65",
   "metadata": {},
   "outputs": [
    {
     "name": "stdout",
     "output_type": "stream",
     "text": [
      "kamran Hussain\n"
     ]
    }
   ],
   "source": [
    "print(p + ' ' + P)"
   ]
  },
  {
   "cell_type": "code",
   "execution_count": 16,
   "id": "92068e7e",
   "metadata": {},
   "outputs": [
    {
     "name": "stdout",
     "output_type": "stream",
     "text": [
      "10\n",
      "10.0\n"
     ]
    }
   ],
   "source": [
    "print(a+y) # 5+5=10\n",
    "print(a+z) # 5+5.0=10.0 "
   ]
  },
  {
   "cell_type": "code",
   "execution_count": null,
   "id": "cbbd34ce",
   "metadata": {},
   "outputs": [
    {
     "ename": "TypeError",
     "evalue": "unsupported operand type(s) for +: 'int' and 'str'",
     "output_type": "error",
     "traceback": [
      "\u001b[1;31m---------------------------------------------------------------------------\u001b[0m",
      "\u001b[1;31mTypeError\u001b[0m                                 Traceback (most recent call last)",
      "Cell \u001b[1;32mIn[17], line 1\u001b[0m\n\u001b[1;32m----> 1\u001b[0m \u001b[38;5;28mprint\u001b[39m(a\u001b[38;5;241m+\u001b[39mb)\n",
      "\u001b[1;31mTypeError\u001b[0m: unsupported operand type(s) for +: 'int' and 'str'"
     ]
    }
   ],
   "source": [
    "print(a+b) # 5+kamran=error because of the different data types\n",
    "print(a+c) # 5+kamran=error because of the different data types"
   ]
  },
  {
   "cell_type": "code",
   "execution_count": null,
   "id": "ff61c74b",
   "metadata": {},
   "outputs": [],
   "source": [
    "variable = 5\n",
    "vari_able = 5\n",
    "_variable = 5\n",
    "Variable = 5\n",
    "VARIABLE = 5\n",
    "variable5 = 5\n",
    "# these all variable names are correct"
   ]
  },
  {
   "cell_type": "code",
   "execution_count": null,
   "id": "c66147d4",
   "metadata": {},
   "outputs": [
    {
     "ename": "SyntaxError",
     "evalue": "invalid syntax (3299328541.py, line 1)",
     "output_type": "error",
     "traceback": [
      "\u001b[0;36m  File \u001b[0;32m\"/var/folders/m0/4t6ggwz51774ll_46v6qgz3h0000gn/T/ipykernel_12305/3299328541.py\"\u001b[0;36m, line \u001b[0;32m1\u001b[0m\n\u001b[0;31m    5variable = 5\u001b[0m\n\u001b[0m     ^\u001b[0m\n\u001b[0;31mSyntaxError\u001b[0m\u001b[0;31m:\u001b[0m invalid syntax\n"
     ]
    }
   ],
   "source": [
    "5variable = 5 # this is incorrect because the variable name can not start with a number\n",
    "variable-5 = 5 # this is incorrect because the variable name can not contain special characters"
   ]
  },
  {
   "cell_type": "code",
   "execution_count": 19,
   "id": "a06a50c2",
   "metadata": {},
   "outputs": [
    {
     "ename": "SyntaxError",
     "evalue": "cannot assign to expression here. Maybe you meant '==' instead of '='? (848293487.py, line 1)",
     "output_type": "error",
     "traceback": [
      "\u001b[1;36m  Cell \u001b[1;32mIn[19], line 1\u001b[1;36m\u001b[0m\n\u001b[1;33m    vari-able = 5 # this is incorrect because the variable name can not contain special characters\u001b[0m\n\u001b[1;37m    ^\u001b[0m\n\u001b[1;31mSyntaxError\u001b[0m\u001b[1;31m:\u001b[0m cannot assign to expression here. Maybe you meant '==' instead of '='?\n"
     ]
    }
   ],
   "source": [
    "vari-able = 5 # this is incorrect because the variable name can not contain special characters\n",
    "vari_able = 5 # this is correct because the variable name can contain underscore\n",
    "variable = 5 # this is correct because the variable name can contain a letter"
   ]
  },
  {
   "cell_type": "code",
   "execution_count": 20,
   "id": "5adfe82c",
   "metadata": {},
   "outputs": [
    {
     "ename": "SyntaxError",
     "evalue": "invalid syntax (1849710098.py, line 1)",
     "output_type": "error",
     "traceback": [
      "\u001b[1;36m  Cell \u001b[1;32mIn[20], line 1\u001b[1;36m\u001b[0m\n\u001b[1;33m    var$able = 5 # this is incorrect because the variable name can not contain special characters\u001b[0m\n\u001b[1;37m       ^\u001b[0m\n\u001b[1;31mSyntaxError\u001b[0m\u001b[1;31m:\u001b[0m invalid syntax\n"
     ]
    }
   ],
   "source": [
    "var$able = 5 # this is incorrect because the variable name can not contain special characters"
   ]
  },
  {
   "cell_type": "code",
   "execution_count": 21,
   "id": "be7e776f",
   "metadata": {},
   "outputs": [
    {
     "ename": "SyntaxError",
     "evalue": "invalid syntax (4196344997.py, line 1)",
     "output_type": "error",
     "traceback": [
      "\u001b[1;36m  Cell \u001b[1;32mIn[21], line 1\u001b[1;36m\u001b[0m\n\u001b[1;33m    vari able =5    # this is correct because the variable name can contain space\u001b[0m\n\u001b[1;37m         ^\u001b[0m\n\u001b[1;31mSyntaxError\u001b[0m\u001b[1;31m:\u001b[0m invalid syntax\n"
     ]
    }
   ],
   "source": [
    "vari able =5    # this is correct because the variable name can contain space\n",
    "print(vari able) # this will print the value of the variable vari able"
   ]
  },
  {
   "cell_type": "code",
   "execution_count": 23,
   "id": "c40ef506",
   "metadata": {},
   "outputs": [],
   "source": [
    "Variable1,Variable2,Variable3  = '1','2','3' # this is the diff variable store diff data"
   ]
  },
  {
   "cell_type": "code",
   "execution_count": 24,
   "id": "49f164a4",
   "metadata": {},
   "outputs": [
    {
     "name": "stdout",
     "output_type": "stream",
     "text": [
      "1\n",
      "2\n",
      "3\n"
     ]
    }
   ],
   "source": [
    "print(Variable1)\n",
    "print(Variable2)\n",
    "print(Variable3)"
   ]
  },
  {
   "cell_type": "code",
   "execution_count": 25,
   "id": "789fa5b4",
   "metadata": {},
   "outputs": [],
   "source": [
    "Variable1=Variable2=Variable3 = 5 # this is the same variable store the same data"
   ]
  },
  {
   "cell_type": "code",
   "execution_count": 26,
   "id": "df40b1d8",
   "metadata": {},
   "outputs": [
    {
     "name": "stdout",
     "output_type": "stream",
     "text": [
      "5\n",
      "5\n",
      "5\n"
     ]
    }
   ],
   "source": [
    "print(Variable1)\n",
    "print(Variable2)\n",
    "print(Variable3)"
   ]
  },
  {
   "cell_type": "markdown",
   "id": "737330ef",
   "metadata": {},
   "source": [
    "Datatypes"
   ]
  },
  {
   "cell_type": "code",
   "execution_count": 28,
   "id": "60f7a19b",
   "metadata": {},
   "outputs": [],
   "source": [
    "x1 = 5\n",
    "x2 = 'kamran'\n",
    "x3 = 5.0\n",
    "x4 = True\n",
    "x5 = 5j\n",
    "x6 = [1,2,3] # list\n",
    "x7 = {1,2,3} # set\n",
    "x8 = (1,2,3) # tuple \n",
    "x9 = {'naam' : 'kamran', 'kaam' : 'Students ki help karna'} # dictionary\n",
    "x10 = None"
   ]
  },
  {
   "cell_type": "code",
   "execution_count": 29,
   "id": "8a80d646",
   "metadata": {},
   "outputs": [
    {
     "name": "stdout",
     "output_type": "stream",
     "text": [
      "<class 'int'>\n",
      "<class 'str'>\n",
      "<class 'float'>\n",
      "<class 'bool'>\n",
      "<class 'complex'>\n",
      "<class 'list'>\n",
      "<class 'set'>\n",
      "<class 'tuple'>\n",
      "<class 'dict'>\n",
      "<class 'NoneType'>\n"
     ]
    }
   ],
   "source": [
    "print(type(x1))\n",
    "print(type(x2))\n",
    "print(type(x3))\n",
    "print(type(x4))\n",
    "print(type(x5))\n",
    "print(type(x6))\n",
    "print(type(x7))\n",
    "print(type(x8))\n",
    "print(type(x9))\n",
    "print(type(x10))"
   ]
  },
  {
   "cell_type": "markdown",
   "id": "65f47eb7",
   "metadata": {},
   "source": [
    "Numbers"
   ]
  },
  {
   "cell_type": "code",
   "execution_count": 32,
   "id": "10e987db",
   "metadata": {},
   "outputs": [],
   "source": [
    "num1 = 5\n",
    "num2 = -5\n",
    "num3 = 5555555555555555555555555\n",
    "num4 = 5555555555555555555555555555555555555555555555555555555555555555555555555555555555555555555555555555555555555"
   ]
  },
  {
   "cell_type": "code",
   "execution_count": null,
   "id": "bb4b5cb9",
   "metadata": {},
   "outputs": [
    {
     "name": "stdout",
     "output_type": "stream",
     "text": [
      "76\n",
      "28\n",
      "36\n",
      "28\n"
     ]
    }
   ],
   "source": [
    "import sys\n",
    "print(sys.getsizeof(num4)) # get the size of the variable num4 from the memory buffer and print it\n",
    "print(sys.getsizeof(num2)) # get the size of the variable num2 from the memory buffer and print it\n",
    "print(sys.getsizeof(num3)) # memory buffer size\n",
    "print(sys.getsizeof(num1))\n"
   ]
  },
  {
   "cell_type": "code",
   "execution_count": 35,
   "id": "3df47b15",
   "metadata": {},
   "outputs": [
    {
     "name": "stdout",
     "output_type": "stream",
     "text": [
      "<class 'int'>\n",
      "<class 'int'>\n",
      "<class 'int'>\n"
     ]
    }
   ],
   "source": [
    "print(type(num1))\n",
    "print(type(num2))\n",
    "print(type(num3))"
   ]
  },
  {
   "cell_type": "code",
   "execution_count": 43,
   "id": "85fc4746",
   "metadata": {},
   "outputs": [],
   "source": [
    "float1 = 5.0\n",
    "float2 = -5.5\n",
    "float3 = 123e4"
   ]
  },
  {
   "cell_type": "code",
   "execution_count": 37,
   "id": "c4ddbf2e",
   "metadata": {},
   "outputs": [
    {
     "name": "stdout",
     "output_type": "stream",
     "text": [
      "<class 'float'>\n",
      "<class 'float'>\n",
      "<class 'float'>\n"
     ]
    }
   ],
   "source": [
    "print(type(float1))\n",
    "print(type(float2))\n",
    "print(type(float3))"
   ]
  },
  {
   "cell_type": "code",
   "execution_count": 38,
   "id": "b773db97",
   "metadata": {},
   "outputs": [],
   "source": [
    "com1 = 0+1j\n",
    "com2 = 5j\n",
    "com3 = 1+2j\n",
    "com4 = -5j"
   ]
  },
  {
   "cell_type": "code",
   "execution_count": 44,
   "id": "fe783856",
   "metadata": {},
   "outputs": [
    {
     "name": "stdout",
     "output_type": "stream",
     "text": [
      "<class 'complex'>\n",
      "<class 'complex'>\n",
      "<class 'complex'>\n",
      "<class 'complex'>\n"
     ]
    }
   ],
   "source": [
    "print(type(com1))\n",
    "print(type(com2))\n",
    "print(type(com3))\n",
    "print(type(com4))"
   ]
  },
  {
   "cell_type": "code",
   "execution_count": null,
   "id": "b9f9fd18",
   "metadata": {},
   "outputs": [
    {
     "ename": "TypeError",
     "evalue": "int() argument must be a string, a bytes-like object or a real number, not 'complex'",
     "output_type": "error",
     "traceback": [
      "\u001b[1;31m---------------------------------------------------------------------------\u001b[0m",
      "\u001b[1;31mTypeError\u001b[0m                                 Traceback (most recent call last)",
      "Cell \u001b[1;32mIn[45], line 2\u001b[0m\n\u001b[0;32m      1\u001b[0m int1 \u001b[38;5;241m=\u001b[39m \u001b[38;5;28mint\u001b[39m(float1)\n\u001b[1;32m----> 2\u001b[0m int2 \u001b[38;5;241m=\u001b[39m \u001b[38;5;28mint\u001b[39m(com1)\n",
      "\u001b[1;31mTypeError\u001b[0m: int() argument must be a string, a bytes-like object or a real number, not 'complex'"
     ]
    }
   ],
   "source": [
    "int1 = int(float1) # float to int type casting conversion function\n",
    "int2 = int(com1) # complex to int type casting conversion function that is not allowed to be converted"
   ]
  },
  {
   "cell_type": "code",
   "execution_count": 46,
   "id": "68bdb4de",
   "metadata": {},
   "outputs": [],
   "source": [
    "complex1 = complex(num1)"
   ]
  },
  {
   "cell_type": "code",
   "execution_count": 47,
   "id": "c3574ede",
   "metadata": {},
   "outputs": [
    {
     "data": {
      "text/plain": [
       "(5+0j)"
      ]
     },
     "execution_count": 47,
     "metadata": {},
     "output_type": "execute_result"
    }
   ],
   "source": [
    "complex1"
   ]
  },
  {
   "cell_type": "markdown",
   "id": "69c65c8b",
   "metadata": {},
   "source": [
    "Strings"
   ]
  },
  {
   "cell_type": "code",
   "execution_count": 48,
   "id": "edf419f5",
   "metadata": {},
   "outputs": [
    {
     "name": "stdout",
     "output_type": "stream",
     "text": [
      "Hello and welcome dosto\n",
      "to 5 minutes engineering,\n",
      "aaj ka session bada kamal ka hone wala hai\n"
     ]
    }
   ],
   "source": [
    "X = '''Hello and welcome dosto\n",
    "to 5 minutes engineering,\n",
    "aaj ka session bada kamal ka hone wala hai'''\n",
    "print(X)"
   ]
  },
  {
   "cell_type": "code",
   "execution_count": 49,
   "id": "df40c8fc",
   "metadata": {},
   "outputs": [
    {
     "name": "stdout",
     "output_type": "stream",
     "text": [
      "Hello and welcome dosto\n",
      "to 5 minutes engineering,\n",
      "aaj ka session bada kamal ka hone wala hai\n"
     ]
    }
   ],
   "source": [
    "Y = \"\"\"Hello and welcome dosto\n",
    "to 5 minutes engineering,\n",
    "aaj ka session bada kamal ka hone wala hai\"\"\"\n",
    "print(Y)"
   ]
  },
  {
   "cell_type": "code",
   "execution_count": null,
   "id": "03b28daf",
   "metadata": {},
   "outputs": [
    {
     "name": "stdout",
     "output_type": "stream",
     "text": [
      "k\n",
      "a\n",
      "m\n",
      "r\n",
      "a\n",
      "n\n"
     ]
    }
   ],
   "source": [
    "Z = 'kamran'\n",
    "print(Z[0])\n",
    "print(Z[1])\n",
    "print(Z[2])\n",
    "print(Z[3])\n",
    "print(Z[4])\n",
    "print(Z[5])\n"
   ]
  },
  {
   "cell_type": "code",
   "execution_count": 55,
   "id": "966b842f",
   "metadata": {},
   "outputs": [
    {
     "name": "stdout",
     "output_type": "stream",
     "text": [
      "6\n"
     ]
    }
   ],
   "source": [
    "print(len(Z))"
   ]
  },
  {
   "cell_type": "code",
   "execution_count": 56,
   "id": "527b689c",
   "metadata": {},
   "outputs": [
    {
     "name": "stdout",
     "output_type": "stream",
     "text": [
      "92\n"
     ]
    }
   ],
   "source": [
    "print(len(X))"
   ]
  },
  {
   "cell_type": "code",
   "execution_count": 57,
   "id": "0534c92a",
   "metadata": {},
   "outputs": [
    {
     "name": "stdout",
     "output_type": "stream",
     "text": [
      "False\n"
     ]
    }
   ],
   "source": [
    "print('Hello' not in X)"
   ]
  },
  {
   "cell_type": "code",
   "execution_count": 59,
   "id": "b9c39123",
   "metadata": {},
   "outputs": [
    {
     "name": "stdout",
     "output_type": "stream",
     "text": [
      "True\n"
     ]
    }
   ],
   "source": [
    "print('Hllo' not in X)"
   ]
  }
 ],
 "metadata": {
  "kernelspec": {
   "display_name": "base",
   "language": "python",
   "name": "python3"
  },
  "language_info": {
   "codemirror_mode": {
    "name": "ipython",
    "version": 3
   },
   "file_extension": ".py",
   "mimetype": "text/x-python",
   "name": "python",
   "nbconvert_exporter": "python",
   "pygments_lexer": "ipython3",
   "version": "3.12.7"
  }
 },
 "nbformat": 4,
 "nbformat_minor": 5
}
