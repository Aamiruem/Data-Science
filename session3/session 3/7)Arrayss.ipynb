{
 "cells": [
  {
   "cell_type": "code",
   "execution_count": 1,
   "id": "5a75f4cb",
   "metadata": {},
   "outputs": [],
   "source": [
    "arr1 = [\"pune\", \"mumbai\", \"surat\", \"kolkata\", \"bihar\", \"jaipur\", \"chennai\"]"
   ]
  },
  {
   "cell_type": "code",
   "execution_count": 2,
   "id": "fca336e9",
   "metadata": {},
   "outputs": [
    {
     "data": {
      "text/plain": [
       "list"
      ]
     },
     "execution_count": 2,
     "metadata": {},
     "output_type": "execute_result"
    }
   ],
   "source": [
    "type(arr1)"
   ]
  },
  {
   "cell_type": "code",
   "execution_count": 3,
   "id": "19e8b1c4",
   "metadata": {},
   "outputs": [
    {
     "data": {
      "text/plain": [
       "'pune'"
      ]
     },
     "execution_count": 3,
     "metadata": {},
     "output_type": "execute_result"
    }
   ],
   "source": [
    "arr1[0]"
   ]
  },
  {
   "cell_type": "code",
   "execution_count": null,
   "id": "80e2f852",
   "metadata": {},
   "outputs": [
    {
     "ename": "AttributeError",
     "evalue": "module 'numpy' has no attribute 'ndarray'",
     "output_type": "error",
     "traceback": [
      "\u001b[1;31m---------------------------------------------------------------------------\u001b[0m",
      "\u001b[1;31mAttributeError\u001b[0m                            Traceback (most recent call last)",
      "Cell \u001b[1;32mIn[7], line 1\u001b[0m\n\u001b[1;32m----> 1\u001b[0m \u001b[38;5;28;01mimport\u001b[39;00m\u001b[38;5;250m \u001b[39m\u001b[38;5;21;01mnumpy\u001b[39;00m\n\u001b[0;32m      4\u001b[0m arr2 \u001b[38;5;241m=\u001b[39m numpy\u001b[38;5;241m.\u001b[39marray([\u001b[38;5;241m10\u001b[39m, \u001b[38;5;241m20\u001b[39m, \u001b[38;5;241m30\u001b[39m, \u001b[38;5;241m40\u001b[39m, \u001b[38;5;241m50\u001b[39m])\n",
      "File \u001b[1;32m~\\AppData\\Roaming\\Python\\Python312\\site-packages\\numpy\\__init__.py:249\u001b[0m\n\u001b[0;32m    247\u001b[0m \u001b[38;5;28;01mfrom\u001b[39;00m\u001b[38;5;250m \u001b[39m\u001b[38;5;21;01m.\u001b[39;00m\u001b[38;5;21;01mcore\u001b[39;00m\u001b[38;5;250m \u001b[39m\u001b[38;5;28;01mimport\u001b[39;00m \u001b[38;5;28mabs\u001b[39m\n\u001b[0;32m    248\u001b[0m \u001b[38;5;66;03m# now that numpy modules are imported, can initialize limits\u001b[39;00m\n\u001b[1;32m--> 249\u001b[0m core\u001b[38;5;241m.\u001b[39mgetlimits\u001b[38;5;241m.\u001b[39m_register_known_types()\n\u001b[0;32m    251\u001b[0m __all__\u001b[38;5;241m.\u001b[39mextend([\u001b[38;5;124m'\u001b[39m\u001b[38;5;124m__version__\u001b[39m\u001b[38;5;124m'\u001b[39m, \u001b[38;5;124m'\u001b[39m\u001b[38;5;124mshow_config\u001b[39m\u001b[38;5;124m'\u001b[39m])\n\u001b[0;32m    252\u001b[0m __all__\u001b[38;5;241m.\u001b[39mextend(core\u001b[38;5;241m.\u001b[39m__all__)\n",
      "File \u001b[1;32m~\\AppData\\Roaming\\Python\\Python312\\site-packages\\numpy\\core\\getlimits.py:230\u001b[0m, in \u001b[0;36m_register_known_types\u001b[1;34m()\u001b[0m\n\u001b[0;32m    228\u001b[0m \u001b[38;5;28;01mwith\u001b[39;00m numeric\u001b[38;5;241m.\u001b[39merrstate(\u001b[38;5;28mall\u001b[39m\u001b[38;5;241m=\u001b[39m\u001b[38;5;124m'\u001b[39m\u001b[38;5;124mignore\u001b[39m\u001b[38;5;124m'\u001b[39m):\n\u001b[0;32m    229\u001b[0m     huge_f128 \u001b[38;5;241m=\u001b[39m (ld(\u001b[38;5;241m1\u001b[39m) \u001b[38;5;241m-\u001b[39m epsneg_f128) \u001b[38;5;241m/\u001b[39m tiny_f128 \u001b[38;5;241m*\u001b[39m ld(\u001b[38;5;241m4\u001b[39m)\n\u001b[1;32m--> 230\u001b[0m float128_ma \u001b[38;5;241m=\u001b[39m MachArLike(ld,\n\u001b[0;32m    231\u001b[0m                          machep\u001b[38;5;241m=\u001b[39m\u001b[38;5;241m-\u001b[39m\u001b[38;5;241m112\u001b[39m,\n\u001b[0;32m    232\u001b[0m                          negep\u001b[38;5;241m=\u001b[39m\u001b[38;5;241m-\u001b[39m\u001b[38;5;241m113\u001b[39m,\n\u001b[0;32m    233\u001b[0m                          minexp\u001b[38;5;241m=\u001b[39m\u001b[38;5;241m-\u001b[39m\u001b[38;5;241m16382\u001b[39m,\n\u001b[0;32m    234\u001b[0m                          maxexp\u001b[38;5;241m=\u001b[39m\u001b[38;5;241m16384\u001b[39m,\n\u001b[0;32m    235\u001b[0m                          it\u001b[38;5;241m=\u001b[39m\u001b[38;5;241m112\u001b[39m,\n\u001b[0;32m    236\u001b[0m                          iexp\u001b[38;5;241m=\u001b[39m\u001b[38;5;241m15\u001b[39m,\n\u001b[0;32m    237\u001b[0m                          ibeta\u001b[38;5;241m=\u001b[39m\u001b[38;5;241m2\u001b[39m,\n\u001b[0;32m    238\u001b[0m                          irnd\u001b[38;5;241m=\u001b[39m\u001b[38;5;241m5\u001b[39m,\n\u001b[0;32m    239\u001b[0m                          ngrd\u001b[38;5;241m=\u001b[39m\u001b[38;5;241m0\u001b[39m,\n\u001b[0;32m    240\u001b[0m                          eps\u001b[38;5;241m=\u001b[39mexp2(ld(\u001b[38;5;241m-\u001b[39m\u001b[38;5;241m112\u001b[39m)),\n\u001b[0;32m    241\u001b[0m                          epsneg\u001b[38;5;241m=\u001b[39mepsneg_f128,\n\u001b[0;32m    242\u001b[0m                          huge\u001b[38;5;241m=\u001b[39mhuge_f128,\n\u001b[0;32m    243\u001b[0m                          tiny\u001b[38;5;241m=\u001b[39mtiny_f128)\n\u001b[0;32m    244\u001b[0m \u001b[38;5;66;03m# IEEE 754 128-bit binary float\u001b[39;00m\n\u001b[0;32m    245\u001b[0m _register_type(float128_ma,\n\u001b[0;32m    246\u001b[0m     \u001b[38;5;124mb\u001b[39m\u001b[38;5;124m'\u001b[39m\u001b[38;5;130;01m\\x9a\u001b[39;00m\u001b[38;5;130;01m\\x99\u001b[39;00m\u001b[38;5;130;01m\\x99\u001b[39;00m\u001b[38;5;130;01m\\x99\u001b[39;00m\u001b[38;5;130;01m\\x99\u001b[39;00m\u001b[38;5;130;01m\\x99\u001b[39;00m\u001b[38;5;130;01m\\x99\u001b[39;00m\u001b[38;5;130;01m\\x99\u001b[39;00m\u001b[38;5;130;01m\\x99\u001b[39;00m\u001b[38;5;130;01m\\x99\u001b[39;00m\u001b[38;5;130;01m\\x99\u001b[39;00m\u001b[38;5;130;01m\\x99\u001b[39;00m\u001b[38;5;130;01m\\x99\u001b[39;00m\u001b[38;5;130;01m\\x99\u001b[39;00m\u001b[38;5;130;01m\\xfb\u001b[39;00m\u001b[38;5;130;01m\\xbf\u001b[39;00m\u001b[38;5;124m'\u001b[39m)\n",
      "File \u001b[1;32m~\\AppData\\Roaming\\Python\\Python312\\site-packages\\numpy\\core\\getlimits.py:55\u001b[0m, in \u001b[0;36mMachArLike.__init__\u001b[1;34m(self, ftype, eps, epsneg, huge, tiny, ibeta, smallest_subnormal, **kwargs)\u001b[0m\n\u001b[0;32m     52\u001b[0m \u001b[38;5;28mself\u001b[39m\u001b[38;5;241m.\u001b[39mprecision \u001b[38;5;241m=\u001b[39m \u001b[38;5;28mint\u001b[39m(\u001b[38;5;241m-\u001b[39mlog10(\u001b[38;5;28mself\u001b[39m\u001b[38;5;241m.\u001b[39meps))\n\u001b[0;32m     53\u001b[0m \u001b[38;5;28mself\u001b[39m\u001b[38;5;241m.\u001b[39mresolution \u001b[38;5;241m=\u001b[39m \u001b[38;5;28mself\u001b[39m\u001b[38;5;241m.\u001b[39m_float_to_float(\n\u001b[0;32m     54\u001b[0m     \u001b[38;5;28mself\u001b[39m\u001b[38;5;241m.\u001b[39m_float_conv(\u001b[38;5;241m10\u001b[39m) \u001b[38;5;241m*\u001b[39m\u001b[38;5;241m*\u001b[39m (\u001b[38;5;241m-\u001b[39m\u001b[38;5;28mself\u001b[39m\u001b[38;5;241m.\u001b[39mprecision))\n\u001b[1;32m---> 55\u001b[0m \u001b[38;5;28mself\u001b[39m\u001b[38;5;241m.\u001b[39m_str_eps \u001b[38;5;241m=\u001b[39m \u001b[38;5;28mself\u001b[39m\u001b[38;5;241m.\u001b[39m_float_to_str(\u001b[38;5;28mself\u001b[39m\u001b[38;5;241m.\u001b[39meps)\n\u001b[0;32m     56\u001b[0m \u001b[38;5;28mself\u001b[39m\u001b[38;5;241m.\u001b[39m_str_epsneg \u001b[38;5;241m=\u001b[39m \u001b[38;5;28mself\u001b[39m\u001b[38;5;241m.\u001b[39m_float_to_str(\u001b[38;5;28mself\u001b[39m\u001b[38;5;241m.\u001b[39mepsneg)\n\u001b[0;32m     57\u001b[0m \u001b[38;5;28mself\u001b[39m\u001b[38;5;241m.\u001b[39m_str_xmin \u001b[38;5;241m=\u001b[39m \u001b[38;5;28mself\u001b[39m\u001b[38;5;241m.\u001b[39m_float_to_str(\u001b[38;5;28mself\u001b[39m\u001b[38;5;241m.\u001b[39mxmin)\n",
      "File \u001b[1;32m~\\AppData\\Roaming\\Python\\Python312\\site-packages\\numpy\\core\\getlimits.py:119\u001b[0m, in \u001b[0;36mMachArLike._float_to_str\u001b[1;34m(self, value)\u001b[0m\n\u001b[0;32m    111\u001b[0m \u001b[38;5;28;01mdef\u001b[39;00m\u001b[38;5;250m \u001b[39m\u001b[38;5;21m_float_to_str\u001b[39m(\u001b[38;5;28mself\u001b[39m, value):\n\u001b[0;32m    112\u001b[0m \u001b[38;5;250m    \u001b[39m\u001b[38;5;124;03m\"\"\"Converts float to str.\u001b[39;00m\n\u001b[0;32m    113\u001b[0m \n\u001b[0;32m    114\u001b[0m \u001b[38;5;124;03m    Parameters\u001b[39;00m\n\u001b[1;32m   (...)\u001b[0m\n\u001b[0;32m    117\u001b[0m \u001b[38;5;124;03m        value to be converted.\u001b[39;00m\n\u001b[0;32m    118\u001b[0m \u001b[38;5;124;03m    \"\"\"\u001b[39;00m\n\u001b[1;32m--> 119\u001b[0m     \u001b[38;5;28;01mreturn\u001b[39;00m \u001b[38;5;28mself\u001b[39m\u001b[38;5;241m.\u001b[39mparams[\u001b[38;5;124m'\u001b[39m\u001b[38;5;124mfmt\u001b[39m\u001b[38;5;124m'\u001b[39m] \u001b[38;5;241m%\u001b[39m array(_fr0(value)[\u001b[38;5;241m0\u001b[39m], \u001b[38;5;28mself\u001b[39m\u001b[38;5;241m.\u001b[39mftype)\n",
      "File \u001b[1;32m~\\AppData\\Roaming\\Python\\Python312\\site-packages\\numpy\\core\\arrayprint.py:1610\u001b[0m, in \u001b[0;36m_array_str_implementation\u001b[1;34m(a, max_line_width, precision, suppress_small, array2string)\u001b[0m\n\u001b[0;32m   1603\u001b[0m \u001b[38;5;66;03m# the str of 0d arrays is a special case: It should appear like a scalar,\u001b[39;00m\n\u001b[0;32m   1604\u001b[0m \u001b[38;5;66;03m# so floats are not truncated by `precision`, and strings are not wrapped\u001b[39;00m\n\u001b[0;32m   1605\u001b[0m \u001b[38;5;66;03m# in quotes. So we return the str of the scalar value.\u001b[39;00m\n\u001b[0;32m   1606\u001b[0m \u001b[38;5;28;01mif\u001b[39;00m a\u001b[38;5;241m.\u001b[39mshape \u001b[38;5;241m==\u001b[39m ():\n\u001b[0;32m   1607\u001b[0m     \u001b[38;5;66;03m# obtain a scalar and call str on it, avoiding problems for subclasses\u001b[39;00m\n\u001b[0;32m   1608\u001b[0m     \u001b[38;5;66;03m# for which indexing with () returns a 0d instead of a scalar by using\u001b[39;00m\n\u001b[0;32m   1609\u001b[0m     \u001b[38;5;66;03m# ndarray's getindex. Also guard against recursive 0d object arrays.\u001b[39;00m\n\u001b[1;32m-> 1610\u001b[0m     \u001b[38;5;28;01mreturn\u001b[39;00m _guarded_repr_or_str(np\u001b[38;5;241m.\u001b[39mndarray\u001b[38;5;241m.\u001b[39m\u001b[38;5;21m__getitem__\u001b[39m(a, ()))\n\u001b[0;32m   1612\u001b[0m \u001b[38;5;28;01mreturn\u001b[39;00m array2string(a, max_line_width, precision, suppress_small, \u001b[38;5;124m'\u001b[39m\u001b[38;5;124m \u001b[39m\u001b[38;5;124m'\u001b[39m, \u001b[38;5;124m\"\u001b[39m\u001b[38;5;124m\"\u001b[39m)\n",
      "\u001b[1;31mAttributeError\u001b[0m: module 'numpy' has no attribute 'ndarray'"
     ]
    }
   ],
   "source": [
    "import numpy\n",
    "\n",
    "arr2 = numpy.array([10, 20, 30, 40, 50])"
   ]
  },
  {
   "cell_type": "code",
   "execution_count": 6,
   "id": "e4db4b38",
   "metadata": {},
   "outputs": [
    {
     "name": "stdout",
     "output_type": "stream",
     "text": [
      "Requirement already satisfied: numpy in c:\\users\\aamir\\appdata\\roaming\\python\\python312\\site-packages (1.26.4)\n",
      "Note: you may need to restart the kernel to use updated packages.\n"
     ]
    }
   ],
   "source": [
    "pip install numpy"
   ]
  },
  {
   "cell_type": "code",
   "execution_count": 5,
   "id": "a2a87edb",
   "metadata": {},
   "outputs": [
    {
     "ename": "NameError",
     "evalue": "name 'arr2' is not defined",
     "output_type": "error",
     "traceback": [
      "\u001b[1;31m---------------------------------------------------------------------------\u001b[0m",
      "\u001b[1;31mNameError\u001b[0m                                 Traceback (most recent call last)",
      "Cell \u001b[1;32mIn[5], line 1\u001b[0m\n\u001b[1;32m----> 1\u001b[0m \u001b[38;5;28mtype\u001b[39m(arr2)\n",
      "\u001b[1;31mNameError\u001b[0m: name 'arr2' is not defined"
     ]
    }
   ],
   "source": [
    "type(arr2)"
   ]
  },
  {
   "cell_type": "code",
   "execution_count": 6,
   "id": "1fc75f5e",
   "metadata": {},
   "outputs": [
    {
     "name": "stdout",
     "output_type": "stream",
     "text": [
      "[10 20 30 40 50]\n"
     ]
    }
   ],
   "source": [
    "print(arr2)"
   ]
  },
  {
   "cell_type": "code",
   "execution_count": 7,
   "id": "db0bf30c",
   "metadata": {},
   "outputs": [
    {
     "data": {
      "text/plain": [
       "array([10, 20, 30, 40, 50])"
      ]
     },
     "execution_count": 7,
     "metadata": {},
     "output_type": "execute_result"
    }
   ],
   "source": [
    "arr2"
   ]
  },
  {
   "cell_type": "code",
   "execution_count": 8,
   "id": "d2ddacf1",
   "metadata": {},
   "outputs": [],
   "source": [
    "arr3 = numpy.array((100,200,300,400,500))"
   ]
  },
  {
   "cell_type": "code",
   "execution_count": 9,
   "id": "9ad7fea1",
   "metadata": {},
   "outputs": [
    {
     "data": {
      "text/plain": [
       "numpy.ndarray"
      ]
     },
     "execution_count": 9,
     "metadata": {},
     "output_type": "execute_result"
    }
   ],
   "source": [
    "type(arr3)"
   ]
  },
  {
   "cell_type": "code",
   "execution_count": 6,
   "id": "40901695",
   "metadata": {},
   "outputs": [],
   "source": [
    "import numpy as np\n",
    "a0 = np.array(10)"
   ]
  },
  {
   "cell_type": "code",
   "execution_count": 11,
   "id": "98f26d11",
   "metadata": {},
   "outputs": [
    {
     "name": "stdout",
     "output_type": "stream",
     "text": [
      "10\n"
     ]
    }
   ],
   "source": [
    "print(a0)"
   ]
  },
  {
   "cell_type": "code",
   "execution_count": 12,
   "id": "29c5bf29",
   "metadata": {},
   "outputs": [
    {
     "data": {
      "text/plain": [
       "0"
      ]
     },
     "execution_count": 12,
     "metadata": {},
     "output_type": "execute_result"
    }
   ],
   "source": [
    "a0.ndim"
   ]
  },
  {
   "cell_type": "code",
   "execution_count": 13,
   "id": "7769c786",
   "metadata": {},
   "outputs": [
    {
     "data": {
      "text/plain": [
       "array(10)"
      ]
     },
     "execution_count": 13,
     "metadata": {},
     "output_type": "execute_result"
    }
   ],
   "source": [
    "a0"
   ]
  },
  {
   "cell_type": "code",
   "execution_count": 14,
   "id": "8416a461",
   "metadata": {},
   "outputs": [],
   "source": [
    "a1 = np.array([1,2,3,4,5,6,7,8,9,10])"
   ]
  },
  {
   "cell_type": "code",
   "execution_count": 15,
   "id": "0f15dcd0",
   "metadata": {},
   "outputs": [
    {
     "data": {
      "text/plain": [
       "array([ 1,  2,  3,  4,  5,  6,  7,  8,  9, 10])"
      ]
     },
     "execution_count": 15,
     "metadata": {},
     "output_type": "execute_result"
    }
   ],
   "source": [
    "a1"
   ]
  },
  {
   "cell_type": "code",
   "execution_count": 16,
   "id": "0fb3adb9",
   "metadata": {},
   "outputs": [
    {
     "data": {
      "text/plain": [
       "1"
      ]
     },
     "execution_count": 16,
     "metadata": {},
     "output_type": "execute_result"
    }
   ],
   "source": [
    "a1.ndim"
   ]
  },
  {
   "cell_type": "code",
   "execution_count": 17,
   "id": "3cd2b063",
   "metadata": {},
   "outputs": [],
   "source": [
    "a2 = np.array([[1,2,3],[10,20,30],[100,200,300],[1000,2000,3000]])"
   ]
  },
  {
   "cell_type": "code",
   "execution_count": 18,
   "id": "a2dc4c63",
   "metadata": {},
   "outputs": [
    {
     "data": {
      "text/plain": [
       "array([[   1,    2,    3],\n",
       "       [  10,   20,   30],\n",
       "       [ 100,  200,  300],\n",
       "       [1000, 2000, 3000]])"
      ]
     },
     "execution_count": 18,
     "metadata": {},
     "output_type": "execute_result"
    }
   ],
   "source": [
    "a2"
   ]
  },
  {
   "cell_type": "code",
   "execution_count": 19,
   "id": "30940674",
   "metadata": {},
   "outputs": [
    {
     "data": {
      "text/plain": [
       "2"
      ]
     },
     "execution_count": 19,
     "metadata": {},
     "output_type": "execute_result"
    }
   ],
   "source": [
    "a2.ndim"
   ]
  },
  {
   "cell_type": "code",
   "execution_count": 20,
   "id": "6718014d",
   "metadata": {},
   "outputs": [],
   "source": [
    "a3 = np.array([[[1,2,3],[10,20,30]],[[100,200,300],[1000,2000,3000]]])"
   ]
  },
  {
   "cell_type": "code",
   "execution_count": 21,
   "id": "06536505",
   "metadata": {},
   "outputs": [
    {
     "data": {
      "text/plain": [
       "array([[[   1,    2,    3],\n",
       "        [  10,   20,   30]],\n",
       "\n",
       "       [[ 100,  200,  300],\n",
       "        [1000, 2000, 3000]]])"
      ]
     },
     "execution_count": 21,
     "metadata": {},
     "output_type": "execute_result"
    }
   ],
   "source": [
    "a3"
   ]
  },
  {
   "cell_type": "code",
   "execution_count": 22,
   "id": "fb2c97e9",
   "metadata": {},
   "outputs": [
    {
     "data": {
      "text/plain": [
       "3"
      ]
     },
     "execution_count": 22,
     "metadata": {},
     "output_type": "execute_result"
    }
   ],
   "source": [
    "a3.ndim"
   ]
  },
  {
   "cell_type": "code",
   "execution_count": 23,
   "id": "8784d5a8",
   "metadata": {},
   "outputs": [],
   "source": [
    "a4 = np.array([4,44,444,4444], ndmin=4)"
   ]
  },
  {
   "cell_type": "code",
   "execution_count": 24,
   "id": "8e6fcd88",
   "metadata": {},
   "outputs": [
    {
     "data": {
      "text/plain": [
       "array([[[[   4,   44,  444, 4444]]]])"
      ]
     },
     "execution_count": 24,
     "metadata": {},
     "output_type": "execute_result"
    }
   ],
   "source": [
    "a4"
   ]
  },
  {
   "cell_type": "code",
   "execution_count": 25,
   "id": "1d65927c",
   "metadata": {},
   "outputs": [
    {
     "data": {
      "text/plain": [
       "4"
      ]
     },
     "execution_count": 25,
     "metadata": {},
     "output_type": "execute_result"
    }
   ],
   "source": [
    "a4.ndim"
   ]
  },
  {
   "cell_type": "code",
   "execution_count": 26,
   "id": "c59585cc",
   "metadata": {},
   "outputs": [],
   "source": [
    "amix1 = np.array(['pune',1,\"mumbai\",2])"
   ]
  },
  {
   "cell_type": "code",
   "execution_count": 27,
   "id": "12021245",
   "metadata": {},
   "outputs": [
    {
     "data": {
      "text/plain": [
       "array(['pune', '1', 'mumbai', '2'], dtype='<U21')"
      ]
     },
     "execution_count": 27,
     "metadata": {},
     "output_type": "execute_result"
    }
   ],
   "source": [
    "amix1"
   ]
  },
  {
   "cell_type": "code",
   "execution_count": 28,
   "id": "9e65a1ce",
   "metadata": {},
   "outputs": [
    {
     "data": {
      "text/plain": [
       "numpy.ndarray"
      ]
     },
     "execution_count": 28,
     "metadata": {},
     "output_type": "execute_result"
    }
   ],
   "source": [
    "type(amix1)"
   ]
  },
  {
   "cell_type": "code",
   "execution_count": 29,
   "id": "f579d5ea",
   "metadata": {},
   "outputs": [],
   "source": [
    "amix2 = np.array([True,5])"
   ]
  },
  {
   "cell_type": "code",
   "execution_count": 30,
   "id": "a857884f",
   "metadata": {},
   "outputs": [
    {
     "data": {
      "text/plain": [
       "array([1, 5])"
      ]
     },
     "execution_count": 30,
     "metadata": {},
     "output_type": "execute_result"
    }
   ],
   "source": [
    "amix2"
   ]
  },
  {
   "cell_type": "code",
   "execution_count": 31,
   "id": "1fd43dd6",
   "metadata": {},
   "outputs": [],
   "source": [
    "amix3 = np.array([False,10])"
   ]
  },
  {
   "cell_type": "code",
   "execution_count": 32,
   "id": "6509e729",
   "metadata": {},
   "outputs": [
    {
     "data": {
      "text/plain": [
       "array([ 0, 10])"
      ]
     },
     "execution_count": 32,
     "metadata": {},
     "output_type": "execute_result"
    }
   ],
   "source": [
    "amix3"
   ]
  },
  {
   "cell_type": "code",
   "execution_count": 33,
   "id": "5d98c80b",
   "metadata": {},
   "outputs": [],
   "source": [
    "amix4 = np.array([True,'shridhar',5,5.0])"
   ]
  },
  {
   "cell_type": "code",
   "execution_count": 34,
   "id": "081d6ebe",
   "metadata": {},
   "outputs": [
    {
     "data": {
      "text/plain": [
       "array(['True', 'shridhar', '5', '5.0'], dtype='<U32')"
      ]
     },
     "execution_count": 34,
     "metadata": {},
     "output_type": "execute_result"
    }
   ],
   "source": [
    "amix4"
   ]
  },
  {
   "cell_type": "code",
   "execution_count": 36,
   "id": "f29a08e3",
   "metadata": {},
   "outputs": [],
   "source": [
    "amix6 = np.array([False,10],dtype = np.int32)"
   ]
  },
  {
   "cell_type": "code",
   "execution_count": 37,
   "id": "45962381",
   "metadata": {},
   "outputs": [
    {
     "data": {
      "text/plain": [
       "array([ 0, 10], dtype=int32)"
      ]
     },
     "execution_count": 37,
     "metadata": {},
     "output_type": "execute_result"
    }
   ],
   "source": [
    "amix6"
   ]
  },
  {
   "cell_type": "code",
   "execution_count": 38,
   "id": "22b617f0",
   "metadata": {},
   "outputs": [],
   "source": [
    "amix7 = np.array([1,5.55,2,6.9], dtype = np.float64)"
   ]
  },
  {
   "cell_type": "code",
   "execution_count": 39,
   "id": "f57a2136",
   "metadata": {},
   "outputs": [
    {
     "data": {
      "text/plain": [
       "array([1.  , 5.55, 2.  , 6.9 ])"
      ]
     },
     "execution_count": 39,
     "metadata": {},
     "output_type": "execute_result"
    }
   ],
   "source": [
    "amix7"
   ]
  },
  {
   "cell_type": "code",
   "execution_count": 40,
   "id": "2adf4c51",
   "metadata": {},
   "outputs": [
    {
     "data": {
      "text/plain": [
       "'pune'"
      ]
     },
     "execution_count": 40,
     "metadata": {},
     "output_type": "execute_result"
    }
   ],
   "source": [
    "arr1[0] "
   ]
  },
  {
   "cell_type": "code",
   "execution_count": 41,
   "id": "532662b3",
   "metadata": {},
   "outputs": [
    {
     "data": {
      "text/plain": [
       "20"
      ]
     },
     "execution_count": 41,
     "metadata": {},
     "output_type": "execute_result"
    }
   ],
   "source": [
    "arr2[1]  [10,20,30,40,50]"
   ]
  },
  {
   "cell_type": "code",
   "execution_count": 42,
   "id": "e8f363b4",
   "metadata": {},
   "outputs": [
    {
     "data": {
      "text/plain": [
       "30"
      ]
     },
     "execution_count": 42,
     "metadata": {},
     "output_type": "execute_result"
    }
   ],
   "source": [
    "arr2[0]+arr2[1]"
   ]
  },
  {
   "cell_type": "code",
   "execution_count": 43,
   "id": "92c79672",
   "metadata": {},
   "outputs": [
    {
     "data": {
      "text/plain": [
       "30"
      ]
     },
     "execution_count": 43,
     "metadata": {},
     "output_type": "execute_result"
    }
   ],
   "source": [
    "a2[1,2] [[1,2,3],[10,20,30],[100,200,300],[1000,2000,3000]]"
   ]
  },
  {
   "cell_type": "code",
   "execution_count": 44,
   "id": "5087c835",
   "metadata": {},
   "outputs": [
    {
     "data": {
      "text/plain": [
       "300"
      ]
     },
     "execution_count": 44,
     "metadata": {},
     "output_type": "execute_result"
    }
   ],
   "source": [
    "a2[2,2]"
   ]
  },
  {
   "cell_type": "code",
   "execution_count": 45,
   "id": "326ab636",
   "metadata": {},
   "outputs": [
    {
     "data": {
      "text/plain": [
       "1"
      ]
     },
     "execution_count": 45,
     "metadata": {},
     "output_type": "execute_result"
    }
   ],
   "source": [
    "a3[0,0,0] [[[1,2,3],[10,20,30]],[[100,200,300],[1000,2000,3000]]]"
   ]
  },
  {
   "cell_type": "code",
   "execution_count": 46,
   "id": "62d49676",
   "metadata": {},
   "outputs": [
    {
     "data": {
      "text/plain": [
       "2"
      ]
     },
     "execution_count": 46,
     "metadata": {},
     "output_type": "execute_result"
    }
   ],
   "source": [
    "a3[0,0,1]"
   ]
  },
  {
   "cell_type": "code",
   "execution_count": 47,
   "id": "ad39bfc6",
   "metadata": {},
   "outputs": [
    {
     "data": {
      "text/plain": [
       "3"
      ]
     },
     "execution_count": 47,
     "metadata": {},
     "output_type": "execute_result"
    }
   ],
   "source": [
    "a3[0,0,2]"
   ]
  },
  {
   "cell_type": "code",
   "execution_count": 48,
   "id": "f92875e0",
   "metadata": {},
   "outputs": [
    {
     "data": {
      "text/plain": [
       "10"
      ]
     },
     "execution_count": 48,
     "metadata": {},
     "output_type": "execute_result"
    }
   ],
   "source": [
    "a3[0,1,0]"
   ]
  },
  {
   "cell_type": "code",
   "execution_count": 49,
   "id": "deb9a206",
   "metadata": {},
   "outputs": [
    {
     "data": {
      "text/plain": [
       "20"
      ]
     },
     "execution_count": 49,
     "metadata": {},
     "output_type": "execute_result"
    }
   ],
   "source": [
    "a3[0,1,1]"
   ]
  },
  {
   "cell_type": "code",
   "execution_count": 50,
   "id": "5c009f4f",
   "metadata": {},
   "outputs": [
    {
     "data": {
      "text/plain": [
       "30"
      ]
     },
     "execution_count": 50,
     "metadata": {},
     "output_type": "execute_result"
    }
   ],
   "source": [
    "a3[0,1,2]"
   ]
  },
  {
   "cell_type": "code",
   "execution_count": 51,
   "id": "6695ba24",
   "metadata": {},
   "outputs": [
    {
     "data": {
      "text/plain": [
       "100"
      ]
     },
     "execution_count": 51,
     "metadata": {},
     "output_type": "execute_result"
    }
   ],
   "source": [
    "a3[1,0,0]"
   ]
  },
  {
   "cell_type": "code",
   "execution_count": 52,
   "id": "fb770c28",
   "metadata": {},
   "outputs": [
    {
     "data": {
      "text/plain": [
       "4"
      ]
     },
     "execution_count": 52,
     "metadata": {},
     "output_type": "execute_result"
    }
   ],
   "source": [
    "a4[0,0,0,0]"
   ]
  },
  {
   "cell_type": "code",
   "execution_count": 53,
   "id": "f20d4d95",
   "metadata": {},
   "outputs": [
    {
     "data": {
      "text/plain": [
       "44"
      ]
     },
     "execution_count": 53,
     "metadata": {},
     "output_type": "execute_result"
    }
   ],
   "source": [
    "a4[0,0,0,1]"
   ]
  },
  {
   "cell_type": "code",
   "execution_count": 54,
   "id": "7d0fc371",
   "metadata": {},
   "outputs": [
    {
     "data": {
      "text/plain": [
       "444"
      ]
     },
     "execution_count": 54,
     "metadata": {},
     "output_type": "execute_result"
    }
   ],
   "source": [
    "a4[0,0,0,2]"
   ]
  },
  {
   "cell_type": "code",
   "execution_count": 55,
   "id": "099a4231",
   "metadata": {},
   "outputs": [
    {
     "data": {
      "text/plain": [
       "4444"
      ]
     },
     "execution_count": 55,
     "metadata": {},
     "output_type": "execute_result"
    }
   ],
   "source": [
    "a4[0,0,0,3]"
   ]
  },
  {
   "cell_type": "code",
   "execution_count": 56,
   "id": "15ca03f0",
   "metadata": {},
   "outputs": [
    {
     "ename": "IndexError",
     "evalue": "index 1 is out of bounds for axis 2 with size 1",
     "output_type": "error",
     "traceback": [
      "\u001b[0;31m---------------------------------------------------------------------------\u001b[0m",
      "\u001b[0;31mIndexError\u001b[0m                                Traceback (most recent call last)",
      "\u001b[0;32m/var/folders/m0/4t6ggwz51774ll_46v6qgz3h0000gn/T/ipykernel_37101/2377285933.py\u001b[0m in \u001b[0;36m<module>\u001b[0;34m\u001b[0m\n\u001b[0;32m----> 1\u001b[0;31m \u001b[0ma4\u001b[0m\u001b[0;34m[\u001b[0m\u001b[0;36m0\u001b[0m\u001b[0;34m,\u001b[0m\u001b[0;36m0\u001b[0m\u001b[0;34m,\u001b[0m\u001b[0;36m1\u001b[0m\u001b[0;34m,\u001b[0m\u001b[0;36m0\u001b[0m\u001b[0;34m]\u001b[0m\u001b[0;34m\u001b[0m\u001b[0;34m\u001b[0m\u001b[0m\n\u001b[0m",
      "\u001b[0;31mIndexError\u001b[0m: index 1 is out of bounds for axis 2 with size 1"
     ]
    }
   ],
   "source": [
    "a4[0,0,1,0]"
   ]
  },
  {
   "cell_type": "code",
   "execution_count": 7,
   "id": "27c81e7d",
   "metadata": {},
   "outputs": [],
   "source": [
    "a12 = np.array([1,2,3])"
   ]
  },
  {
   "cell_type": "code",
   "execution_count": 12,
   "id": "a5c09cea",
   "metadata": {},
   "outputs": [
    {
     "ename": "IndexError",
     "evalue": "index 3 is out of bounds for axis 0 with size 3",
     "output_type": "error",
     "traceback": [
      "\u001b[0;31m---------------------------------------------------------------------------\u001b[0m",
      "\u001b[0;31mIndexError\u001b[0m                                Traceback (most recent call last)",
      "\u001b[0;32m/var/folders/m0/4t6ggwz51774ll_46v6qgz3h0000gn/T/ipykernel_3134/229340010.py\u001b[0m in \u001b[0;36m<module>\u001b[0;34m\u001b[0m\n\u001b[0;32m----> 1\u001b[0;31m \u001b[0ma12\u001b[0m\u001b[0;34m[\u001b[0m\u001b[0;36m3\u001b[0m\u001b[0;34m]\u001b[0m\u001b[0;34m\u001b[0m\u001b[0;34m\u001b[0m\u001b[0m\n\u001b[0m",
      "\u001b[0;31mIndexError\u001b[0m: index 3 is out of bounds for axis 0 with size 3"
     ]
    }
   ],
   "source": [
    "a12[3]"
   ]
  },
  {
   "cell_type": "code",
   "execution_count": 8,
   "id": "9b330cb0",
   "metadata": {},
   "outputs": [],
   "source": [
    "arrr = np.array([1,2,3,1,2,3,1,2,3])"
   ]
  },
  {
   "cell_type": "code",
   "execution_count": 58,
   "id": "15d3924d",
   "metadata": {},
   "outputs": [
    {
     "data": {
      "text/plain": [
       "array([1, 2, 3, 1, 2, 3, 1, 2, 3])"
      ]
     },
     "execution_count": 58,
     "metadata": {},
     "output_type": "execute_result"
    }
   ],
   "source": [
    "arrr"
   ]
  },
  {
   "cell_type": "code",
   "execution_count": 59,
   "id": "5e44b043",
   "metadata": {},
   "outputs": [
    {
     "data": {
      "text/plain": [
       "array([10, 20, 30, 40, 50])"
      ]
     },
     "execution_count": 59,
     "metadata": {},
     "output_type": "execute_result"
    }
   ],
   "source": [
    "arr2"
   ]
  },
  {
   "cell_type": "code",
   "execution_count": 60,
   "id": "e5967314",
   "metadata": {},
   "outputs": [
    {
     "data": {
      "text/plain": [
       "50"
      ]
     },
     "execution_count": 60,
     "metadata": {},
     "output_type": "execute_result"
    }
   ],
   "source": [
    "arr2[-1]"
   ]
  },
  {
   "cell_type": "code",
   "execution_count": 61,
   "id": "2cf267ba",
   "metadata": {},
   "outputs": [
    {
     "data": {
      "text/plain": [
       "40"
      ]
     },
     "execution_count": 61,
     "metadata": {},
     "output_type": "execute_result"
    }
   ],
   "source": [
    "arr2[-2]"
   ]
  },
  {
   "cell_type": "code",
   "execution_count": 62,
   "id": "f6fcc9d4",
   "metadata": {},
   "outputs": [
    {
     "data": {
      "text/plain": [
       "array([20, 30, 40, 50])"
      ]
     },
     "execution_count": 62,
     "metadata": {},
     "output_type": "execute_result"
    }
   ],
   "source": [
    "arr2[1:]"
   ]
  },
  {
   "cell_type": "code",
   "execution_count": 63,
   "id": "e4a7da30",
   "metadata": {},
   "outputs": [
    {
     "data": {
      "text/plain": [
       "array([10, 20, 30])"
      ]
     },
     "execution_count": 63,
     "metadata": {},
     "output_type": "execute_result"
    }
   ],
   "source": [
    "arr2[:3]"
   ]
  },
  {
   "cell_type": "code",
   "execution_count": 64,
   "id": "839de200",
   "metadata": {},
   "outputs": [
    {
     "data": {
      "text/plain": [
       "array([10, 20, 30, 40, 50])"
      ]
     },
     "execution_count": 64,
     "metadata": {},
     "output_type": "execute_result"
    }
   ],
   "source": [
    "arr2[:]"
   ]
  },
  {
   "cell_type": "code",
   "execution_count": 65,
   "id": "c215cadc",
   "metadata": {},
   "outputs": [
    {
     "data": {
      "text/plain": [
       "array([20, 30, 40])"
      ]
     },
     "execution_count": 65,
     "metadata": {},
     "output_type": "execute_result"
    }
   ],
   "source": [
    "arr2[1:4:1]"
   ]
  },
  {
   "cell_type": "code",
   "execution_count": 66,
   "id": "0d3e919e",
   "metadata": {},
   "outputs": [
    {
     "data": {
      "text/plain": [
       "array([20, 40])"
      ]
     },
     "execution_count": 66,
     "metadata": {},
     "output_type": "execute_result"
    }
   ],
   "source": [
    "arr2[1:4:2]"
   ]
  },
  {
   "cell_type": "code",
   "execution_count": 67,
   "id": "472e1a85",
   "metadata": {},
   "outputs": [
    {
     "data": {
      "text/plain": [
       "array([10, 40])"
      ]
     },
     "execution_count": 67,
     "metadata": {},
     "output_type": "execute_result"
    }
   ],
   "source": [
    "arr2[:4:3]"
   ]
  },
  {
   "cell_type": "code",
   "execution_count": 68,
   "id": "a11b7c0e",
   "metadata": {},
   "outputs": [
    {
     "data": {
      "text/plain": [
       "array([10, 50])"
      ]
     },
     "execution_count": 68,
     "metadata": {},
     "output_type": "execute_result"
    }
   ],
   "source": [
    "arr2[::4]"
   ]
  },
  {
   "cell_type": "code",
   "execution_count": 69,
   "id": "3179ce49",
   "metadata": {},
   "outputs": [
    {
     "data": {
      "text/plain": [
       "array([10, 20, 30, 40, 50])"
      ]
     },
     "execution_count": 69,
     "metadata": {},
     "output_type": "execute_result"
    }
   ],
   "source": [
    "arr2[::]"
   ]
  },
  {
   "cell_type": "code",
   "execution_count": 70,
   "id": "39cfde31",
   "metadata": {},
   "outputs": [
    {
     "name": "stdout",
     "output_type": "stream",
     "text": [
      "10\n",
      "20\n",
      "30\n",
      "40\n",
      "50\n"
     ]
    }
   ],
   "source": [
    "for i in arr2:\n",
    "  print(i)"
   ]
  },
  {
   "cell_type": "code",
   "execution_count": 71,
   "id": "24f5fa91",
   "metadata": {},
   "outputs": [
    {
     "name": "stdout",
     "output_type": "stream",
     "text": [
      "(array([1]),)\n"
     ]
    }
   ],
   "source": [
    "x = np.where(arr2 == 20)\n",
    "print(x)"
   ]
  },
  {
   "cell_type": "code",
   "execution_count": 72,
   "id": "bcf0c60e",
   "metadata": {},
   "outputs": [
    {
     "name": "stdout",
     "output_type": "stream",
     "text": [
      "(array([4]),)\n"
     ]
    }
   ],
   "source": [
    "x = np.where(arr2 == 50)\n",
    "print(x)"
   ]
  },
  {
   "cell_type": "code",
   "execution_count": 73,
   "id": "ecb2d422",
   "metadata": {},
   "outputs": [
    {
     "name": "stdout",
     "output_type": "stream",
     "text": [
      "(array([1, 4, 7]),)\n"
     ]
    }
   ],
   "source": [
    "x = np.where(arrr == 2)\n",
    "print(x)"
   ]
  },
  {
   "cell_type": "code",
   "execution_count": 74,
   "id": "f6b0fa10",
   "metadata": {},
   "outputs": [],
   "source": [
    "arraysort = np.array([2,1,5,3,7,5,9,8,5,7,3])"
   ]
  },
  {
   "cell_type": "code",
   "execution_count": 75,
   "id": "8a94b6f6",
   "metadata": {},
   "outputs": [
    {
     "data": {
      "text/plain": [
       "array([1, 2, 3, 3, 5, 5, 5, 7, 7, 8, 9])"
      ]
     },
     "execution_count": 75,
     "metadata": {},
     "output_type": "execute_result"
    }
   ],
   "source": [
    "np.sort(arraysort)"
   ]
  },
  {
   "cell_type": "code",
   "execution_count": 76,
   "id": "11e47378",
   "metadata": {},
   "outputs": [
    {
     "data": {
      "text/plain": [
       "array([10, 20, 30, 40, 50, 60])"
      ]
     },
     "execution_count": 76,
     "metadata": {},
     "output_type": "execute_result"
    }
   ],
   "source": [
    "np.insert(arr2,5,60)"
   ]
  },
  {
   "cell_type": "code",
   "execution_count": 77,
   "id": "d83f427e",
   "metadata": {},
   "outputs": [
    {
     "data": {
      "text/plain": [
       "array([ 2,  1,  5,  3,  7,  5,  9,  8,  5,  7,  3, 10])"
      ]
     },
     "execution_count": 77,
     "metadata": {},
     "output_type": "execute_result"
    }
   ],
   "source": [
    "np.insert(arraysort,11,10)"
   ]
  },
  {
   "cell_type": "code",
   "execution_count": 78,
   "id": "f549cefe",
   "metadata": {},
   "outputs": [
    {
     "data": {
      "text/plain": [
       "array([100,   2,   1,   5,   3,   7,   5,   9,   8,   5,   7,   3])"
      ]
     },
     "execution_count": 78,
     "metadata": {},
     "output_type": "execute_result"
    }
   ],
   "source": [
    "np.insert(arraysort,0,100)"
   ]
  },
  {
   "cell_type": "code",
   "execution_count": 79,
   "id": "17b8b67b",
   "metadata": {},
   "outputs": [
    {
     "data": {
      "text/plain": [
       "array([1, 5, 3, 7, 5, 9, 8, 5, 7, 3])"
      ]
     },
     "execution_count": 79,
     "metadata": {},
     "output_type": "execute_result"
    }
   ],
   "source": [
    "np.delete(arraysort,0)"
   ]
  },
  {
   "cell_type": "code",
   "execution_count": 80,
   "id": "2b4e7d45",
   "metadata": {},
   "outputs": [
    {
     "data": {
      "text/plain": [
       "array([2, 1, 5, 3, 7, 5, 9, 8, 5, 7, 3])"
      ]
     },
     "execution_count": 80,
     "metadata": {},
     "output_type": "execute_result"
    }
   ],
   "source": [
    "arraysort"
   ]
  },
  {
   "cell_type": "code",
   "execution_count": 81,
   "id": "b21e3c8d",
   "metadata": {},
   "outputs": [],
   "source": [
    "arrr1 = np.insert(arr2,5,60)"
   ]
  },
  {
   "cell_type": "code",
   "execution_count": 82,
   "id": "ec2d2b21",
   "metadata": {},
   "outputs": [
    {
     "data": {
      "text/plain": [
       "array([10, 20, 30, 40, 50, 60])"
      ]
     },
     "execution_count": 82,
     "metadata": {},
     "output_type": "execute_result"
    }
   ],
   "source": [
    "arrr1"
   ]
  },
  {
   "cell_type": "code",
   "execution_count": 83,
   "id": "610f1821",
   "metadata": {},
   "outputs": [
    {
     "data": {
      "text/plain": [
       "array([10, 20, 30, 40, 50])"
      ]
     },
     "execution_count": 83,
     "metadata": {},
     "output_type": "execute_result"
    }
   ],
   "source": [
    "arr2"
   ]
  },
  {
   "cell_type": "code",
   "execution_count": 84,
   "id": "414c4b26",
   "metadata": {},
   "outputs": [],
   "source": [
    "index = [0,1,2]"
   ]
  },
  {
   "cell_type": "code",
   "execution_count": 85,
   "id": "b7cf9ebc",
   "metadata": {},
   "outputs": [],
   "source": [
    "arrr2 = np.delete(arr2,index)"
   ]
  },
  {
   "cell_type": "code",
   "execution_count": 86,
   "id": "50e80172",
   "metadata": {},
   "outputs": [
    {
     "data": {
      "text/plain": [
       "array([40, 50])"
      ]
     },
     "execution_count": 86,
     "metadata": {},
     "output_type": "execute_result"
    }
   ],
   "source": [
    "arrr2"
   ]
  },
  {
   "cell_type": "code",
   "execution_count": 87,
   "id": "5fd295ca",
   "metadata": {},
   "outputs": [
    {
     "data": {
      "text/plain": [
       "array([10, 20, 30, 40, 50])"
      ]
     },
     "execution_count": 87,
     "metadata": {},
     "output_type": "execute_result"
    }
   ],
   "source": [
    "arr2"
   ]
  },
  {
   "cell_type": "code",
   "execution_count": 88,
   "id": "ae79f75f",
   "metadata": {},
   "outputs": [
    {
     "data": {
      "text/plain": [
       "array([50, 40, 30, 20, 10])"
      ]
     },
     "execution_count": 88,
     "metadata": {},
     "output_type": "execute_result"
    }
   ],
   "source": [
    "np.flip(arr2)"
   ]
  },
  {
   "cell_type": "code",
   "execution_count": 89,
   "id": "8b2861c4",
   "metadata": {},
   "outputs": [
    {
     "data": {
      "text/plain": [
       "array([10, 20, 30, 40, 50])"
      ]
     },
     "execution_count": 89,
     "metadata": {},
     "output_type": "execute_result"
    }
   ],
   "source": [
    "arr2"
   ]
  },
  {
   "cell_type": "code",
   "execution_count": 90,
   "id": "aa2d73b4",
   "metadata": {},
   "outputs": [],
   "source": [
    "arrflip = np.flip(arr2)"
   ]
  },
  {
   "cell_type": "code",
   "execution_count": 91,
   "id": "ba1fe4e6",
   "metadata": {},
   "outputs": [
    {
     "data": {
      "text/plain": [
       "array([50, 40, 30, 20, 10])"
      ]
     },
     "execution_count": 91,
     "metadata": {},
     "output_type": "execute_result"
    }
   ],
   "source": [
    "arrflip"
   ]
  },
  {
   "cell_type": "code",
   "execution_count": 92,
   "id": "802ec2ff",
   "metadata": {},
   "outputs": [],
   "source": [
    "arr2[0] = 100"
   ]
  },
  {
   "cell_type": "code",
   "execution_count": 93,
   "id": "9bb1ed8a",
   "metadata": {},
   "outputs": [
    {
     "data": {
      "text/plain": [
       "array([100,  20,  30,  40,  50])"
      ]
     },
     "execution_count": 93,
     "metadata": {},
     "output_type": "execute_result"
    }
   ],
   "source": [
    "arr2"
   ]
  },
  {
   "cell_type": "code",
   "execution_count": 94,
   "id": "c5b3e3ae",
   "metadata": {},
   "outputs": [],
   "source": [
    "arr2.sort()"
   ]
  },
  {
   "cell_type": "code",
   "execution_count": 95,
   "id": "f0335ba6",
   "metadata": {},
   "outputs": [
    {
     "data": {
      "text/plain": [
       "array([ 20,  30,  40,  50, 100])"
      ]
     },
     "execution_count": 95,
     "metadata": {},
     "output_type": "execute_result"
    }
   ],
   "source": [
    "arr2"
   ]
  },
  {
   "cell_type": "code",
   "execution_count": 96,
   "id": "3804d870",
   "metadata": {},
   "outputs": [
    {
     "data": {
      "text/plain": [
       "array([  20,   30,   40,   50,  100, 1000])"
      ]
     },
     "execution_count": 96,
     "metadata": {},
     "output_type": "execute_result"
    }
   ],
   "source": [
    "np.append(arr2,1000)"
   ]
  },
  {
   "cell_type": "code",
   "execution_count": 97,
   "id": "6cbff905",
   "metadata": {},
   "outputs": [
    {
     "data": {
      "text/plain": [
       "array([ 20,  30,  40,  50, 100])"
      ]
     },
     "execution_count": 97,
     "metadata": {},
     "output_type": "execute_result"
    }
   ],
   "source": [
    "arr2"
   ]
  },
  {
   "cell_type": "code",
   "execution_count": 113,
   "id": "94975b4d",
   "metadata": {},
   "outputs": [
    {
     "ename": "AttributeError",
     "evalue": "'numpy.ndarray' object has no attribute 'append'",
     "output_type": "error",
     "traceback": [
      "\u001b[0;31m---------------------------------------------------------------------------\u001b[0m",
      "\u001b[0;31mAttributeError\u001b[0m                            Traceback (most recent call last)",
      "\u001b[0;32m/var/folders/m0/4t6ggwz51774ll_46v6qgz3h0000gn/T/ipykernel_37101/448774566.py\u001b[0m in \u001b[0;36m<module>\u001b[0;34m\u001b[0m\n\u001b[0;32m----> 1\u001b[0;31m \u001b[0marr2\u001b[0m\u001b[0;34m.\u001b[0m\u001b[0mappend\u001b[0m\u001b[0;34m(\u001b[0m\u001b[0;36m1000\u001b[0m\u001b[0;34m)\u001b[0m\u001b[0;34m\u001b[0m\u001b[0;34m\u001b[0m\u001b[0m\n\u001b[0m",
      "\u001b[0;31mAttributeError\u001b[0m: 'numpy.ndarray' object has no attribute 'append'"
     ]
    }
   ],
   "source": [
    "arr2.append(1000)"
   ]
  },
  {
   "cell_type": "code",
   "execution_count": null,
   "id": "bcab5cde",
   "metadata": {},
   "outputs": [],
   "source": []
  }
 ],
 "metadata": {
  "kernelspec": {
   "display_name": "base",
   "language": "python",
   "name": "python3"
  },
  "language_info": {
   "codemirror_mode": {
    "name": "ipython",
    "version": 3
   },
   "file_extension": ".py",
   "mimetype": "text/x-python",
   "name": "python",
   "nbconvert_exporter": "python",
   "pygments_lexer": "ipython3",
   "version": "3.12.7"
  }
 },
 "nbformat": 4,
 "nbformat_minor": 5
}
