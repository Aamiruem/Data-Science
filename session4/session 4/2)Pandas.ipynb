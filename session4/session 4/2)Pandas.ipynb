{
 "cells": [
  {
   "cell_type": "code",
   "execution_count": 1,
   "id": "3d8a8ab5",
   "metadata": {},
   "outputs": [],
   "source": [
    "import pandas as pd\n",
    "import numpy as np"
   ]
  },
  {
   "cell_type": "code",
   "execution_count": 2,
   "id": "6b8d26ee",
   "metadata": {},
   "outputs": [
    {
     "data": {
      "text/plain": [
       "0    10\n",
       "1    20\n",
       "2    30\n",
       "3    40\n",
       "4    50\n",
       "dtype: int64"
      ]
     },
     "execution_count": 2,
     "metadata": {},
     "output_type": "execute_result"
    }
   ],
   "source": [
    "s1 = pd.Series(data=[10, 20, 30, 40, 50])\n",
    "s1"
   ]
  },
  {
   "cell_type": "code",
   "execution_count": 3,
   "id": "489391c1",
   "metadata": {},
   "outputs": [
    {
     "data": {
      "text/plain": [
       "0    100\n",
       "1    200\n",
       "2    300\n",
       "3    400\n",
       "4    500\n",
       "dtype: int64"
      ]
     },
     "execution_count": 3,
     "metadata": {},
     "output_type": "execute_result"
    }
   ],
   "source": [
    "s2 = pd.Series(data=[100, 200, 300, 400, 500])\n",
    "s2"
   ]
  },
  {
   "cell_type": "code",
   "execution_count": 4,
   "id": "0b5b7f0a",
   "metadata": {},
   "outputs": [
    {
     "data": {
      "text/plain": [
       "v    1000\n",
       "w    2000\n",
       "x    3000\n",
       "y    4000\n",
       "z    5000\n",
       "dtype: int64"
      ]
     },
     "execution_count": 4,
     "metadata": {},
     "output_type": "execute_result"
    }
   ],
   "source": [
    "s3 = pd.Series(data=[1000, 2000, 3000, 4000, 5000], index=list(\"vwxyz\"))\n",
    "s3"
   ]
  },
  {
   "cell_type": "code",
   "execution_count": 5,
   "id": "d5bdd683",
   "metadata": {},
   "outputs": [
    {
     "data": {
      "application/vnd.microsoft.datawrangler.viewer.v0+json": {
       "columns": [
        {
         "name": "index",
         "rawType": "int64",
         "type": "integer"
        },
        {
         "name": "C1",
         "rawType": "int64",
         "type": "integer"
        },
        {
         "name": "C2",
         "rawType": "int64",
         "type": "integer"
        }
       ],
       "conversionMethod": "pd.DataFrame",
       "ref": "f8c9d64d-fc7f-416a-9474-cd81fb69940a",
       "rows": [
        [
         "0",
         "10",
         "100"
        ],
        [
         "1",
         "20",
         "200"
        ],
        [
         "2",
         "30",
         "300"
        ],
        [
         "3",
         "40",
         "400"
        ],
        [
         "4",
         "50",
         "500"
        ]
       ],
       "shape": {
        "columns": 2,
        "rows": 5
       }
      },
      "text/html": [
       "<div>\n",
       "<style scoped>\n",
       "    .dataframe tbody tr th:only-of-type {\n",
       "        vertical-align: middle;\n",
       "    }\n",
       "\n",
       "    .dataframe tbody tr th {\n",
       "        vertical-align: top;\n",
       "    }\n",
       "\n",
       "    .dataframe thead th {\n",
       "        text-align: right;\n",
       "    }\n",
       "</style>\n",
       "<table border=\"1\" class=\"dataframe\">\n",
       "  <thead>\n",
       "    <tr style=\"text-align: right;\">\n",
       "      <th></th>\n",
       "      <th>C1</th>\n",
       "      <th>C2</th>\n",
       "    </tr>\n",
       "  </thead>\n",
       "  <tbody>\n",
       "    <tr>\n",
       "      <th>0</th>\n",
       "      <td>10</td>\n",
       "      <td>100</td>\n",
       "    </tr>\n",
       "    <tr>\n",
       "      <th>1</th>\n",
       "      <td>20</td>\n",
       "      <td>200</td>\n",
       "    </tr>\n",
       "    <tr>\n",
       "      <th>2</th>\n",
       "      <td>30</td>\n",
       "      <td>300</td>\n",
       "    </tr>\n",
       "    <tr>\n",
       "      <th>3</th>\n",
       "      <td>40</td>\n",
       "      <td>400</td>\n",
       "    </tr>\n",
       "    <tr>\n",
       "      <th>4</th>\n",
       "      <td>50</td>\n",
       "      <td>500</td>\n",
       "    </tr>\n",
       "  </tbody>\n",
       "</table>\n",
       "</div>"
      ],
      "text/plain": [
       "   C1   C2\n",
       "0  10  100\n",
       "1  20  200\n",
       "2  30  300\n",
       "3  40  400\n",
       "4  50  500"
      ]
     },
     "execution_count": 5,
     "metadata": {},
     "output_type": "execute_result"
    }
   ],
   "source": [
    "df = pd.DataFrame({\"C1\": s1, \"C2\": s2})\n",
    "df"
   ]
  },
  {
   "cell_type": "code",
   "execution_count": 6,
   "id": "b271e677",
   "metadata": {},
   "outputs": [
    {
     "data": {
      "application/vnd.microsoft.datawrangler.viewer.v0+json": {
       "columns": [
        {
         "name": "index",
         "rawType": "int64",
         "type": "integer"
        },
        {
         "name": "a",
         "rawType": "int32",
         "type": "integer"
        },
        {
         "name": "b",
         "rawType": "int32",
         "type": "integer"
        },
        {
         "name": "c",
         "rawType": "int32",
         "type": "integer"
        },
        {
         "name": "d",
         "rawType": "int32",
         "type": "integer"
        },
        {
         "name": "e",
         "rawType": "int32",
         "type": "integer"
        }
       ],
       "conversionMethod": "pd.DataFrame",
       "ref": "16e5970b-fe8a-4dd3-abc4-c8da7cbb6a8b",
       "rows": [
        [
         "0",
         "89",
         "60",
         "66",
         "15",
         "79"
        ],
        [
         "1",
         "94",
         "51",
         "91",
         "46",
         "23"
        ],
        [
         "2",
         "4",
         "71",
         "16",
         "3",
         "5"
        ],
        [
         "3",
         "18",
         "61",
         "68",
         "97",
         "7"
        ],
        [
         "4",
         "27",
         "70",
         "61",
         "76",
         "90"
        ],
        [
         "5",
         "68",
         "9",
         "41",
         "7",
         "61"
        ],
        [
         "6",
         "66",
         "79",
         "14",
         "4",
         "79"
        ],
        [
         "7",
         "69",
         "74",
         "97",
         "26",
         "51"
        ],
        [
         "8",
         "4",
         "15",
         "13",
         "13",
         "12"
        ],
        [
         "9",
         "1",
         "58",
         "90",
         "21",
         "40"
        ],
        [
         "10",
         "45",
         "86",
         "13",
         "50",
         "35"
        ],
        [
         "11",
         "56",
         "25",
         "76",
         "50",
         "82"
        ],
        [
         "12",
         "48",
         "98",
         "11",
         "94",
         "51"
        ],
        [
         "13",
         "56",
         "79",
         "14",
         "34",
         "64"
        ],
        [
         "14",
         "25",
         "48",
         "47",
         "28",
         "62"
        ],
        [
         "15",
         "44",
         "37",
         "89",
         "58",
         "96"
        ],
        [
         "16",
         "60",
         "40",
         "39",
         "29",
         "74"
        ],
        [
         "17",
         "46",
         "25",
         "57",
         "82",
         "67"
        ],
        [
         "18",
         "63",
         "8",
         "11",
         "15",
         "7"
        ],
        [
         "19",
         "11",
         "88",
         "85",
         "46",
         "50"
        ],
        [
         "20",
         "87",
         "94",
         "2",
         "9",
         "81"
        ],
        [
         "21",
         "2",
         "24",
         "5",
         "3",
         "87"
        ],
        [
         "22",
         "59",
         "67",
         "34",
         "25",
         "72"
        ],
        [
         "23",
         "96",
         "67",
         "78",
         "40",
         "74"
        ],
        [
         "24",
         "19",
         "52",
         "11",
         "51",
         "61"
        ],
        [
         "25",
         "18",
         "98",
         "34",
         "3",
         "75"
        ],
        [
         "26",
         "55",
         "77",
         "97",
         "33",
         "4"
        ],
        [
         "27",
         "38",
         "8",
         "7",
         "82",
         "46"
        ],
        [
         "28",
         "8",
         "51",
         "73",
         "75",
         "9"
        ],
        [
         "29",
         "91",
         "31",
         "30",
         "2",
         "14"
        ],
        [
         "30",
         "51",
         "64",
         "10",
         "99",
         "5"
        ],
        [
         "31",
         "14",
         "53",
         "74",
         "79",
         "70"
        ],
        [
         "32",
         "81",
         "8",
         "71",
         "22",
         "68"
        ],
        [
         "33",
         "62",
         "22",
         "46",
         "14",
         "63"
        ],
        [
         "34",
         "22",
         "85",
         "42",
         "83",
         "95"
        ],
        [
         "35",
         "56",
         "73",
         "28",
         "4",
         "24"
        ],
        [
         "36",
         "46",
         "78",
         "84",
         "96",
         "36"
        ],
        [
         "37",
         "41",
         "39",
         "85",
         "80",
         "53"
        ],
        [
         "38",
         "88",
         "35",
         "4",
         "75",
         "74"
        ],
        [
         "39",
         "95",
         "73",
         "70",
         "35",
         "53"
        ],
        [
         "40",
         "34",
         "7",
         "53",
         "95",
         "54"
        ],
        [
         "41",
         "74",
         "32",
         "46",
         "35",
         "42"
        ],
        [
         "42",
         "28",
         "31",
         "54",
         "59",
         "23"
        ],
        [
         "43",
         "88",
         "73",
         "30",
         "4",
         "32"
        ],
        [
         "44",
         "96",
         "31",
         "79",
         "98",
         "82"
        ],
        [
         "45",
         "79",
         "33",
         "69",
         "10",
         "81"
        ],
        [
         "46",
         "47",
         "72",
         "27",
         "79",
         "71"
        ],
        [
         "47",
         "83",
         "57",
         "84",
         "18",
         "90"
        ],
        [
         "48",
         "57",
         "32",
         "29",
         "25",
         "15"
        ],
        [
         "49",
         "66",
         "81",
         "14",
         "4",
         "81"
        ]
       ],
       "shape": {
        "columns": 5,
        "rows": 1000
       }
      },
      "text/html": [
       "<div>\n",
       "<style scoped>\n",
       "    .dataframe tbody tr th:only-of-type {\n",
       "        vertical-align: middle;\n",
       "    }\n",
       "\n",
       "    .dataframe tbody tr th {\n",
       "        vertical-align: top;\n",
       "    }\n",
       "\n",
       "    .dataframe thead th {\n",
       "        text-align: right;\n",
       "    }\n",
       "</style>\n",
       "<table border=\"1\" class=\"dataframe\">\n",
       "  <thead>\n",
       "    <tr style=\"text-align: right;\">\n",
       "      <th></th>\n",
       "      <th>a</th>\n",
       "      <th>b</th>\n",
       "      <th>c</th>\n",
       "      <th>d</th>\n",
       "      <th>e</th>\n",
       "    </tr>\n",
       "  </thead>\n",
       "  <tbody>\n",
       "    <tr>\n",
       "      <th>0</th>\n",
       "      <td>89</td>\n",
       "      <td>60</td>\n",
       "      <td>66</td>\n",
       "      <td>15</td>\n",
       "      <td>79</td>\n",
       "    </tr>\n",
       "    <tr>\n",
       "      <th>1</th>\n",
       "      <td>94</td>\n",
       "      <td>51</td>\n",
       "      <td>91</td>\n",
       "      <td>46</td>\n",
       "      <td>23</td>\n",
       "    </tr>\n",
       "    <tr>\n",
       "      <th>2</th>\n",
       "      <td>4</td>\n",
       "      <td>71</td>\n",
       "      <td>16</td>\n",
       "      <td>3</td>\n",
       "      <td>5</td>\n",
       "    </tr>\n",
       "    <tr>\n",
       "      <th>3</th>\n",
       "      <td>18</td>\n",
       "      <td>61</td>\n",
       "      <td>68</td>\n",
       "      <td>97</td>\n",
       "      <td>7</td>\n",
       "    </tr>\n",
       "    <tr>\n",
       "      <th>4</th>\n",
       "      <td>27</td>\n",
       "      <td>70</td>\n",
       "      <td>61</td>\n",
       "      <td>76</td>\n",
       "      <td>90</td>\n",
       "    </tr>\n",
       "    <tr>\n",
       "      <th>...</th>\n",
       "      <td>...</td>\n",
       "      <td>...</td>\n",
       "      <td>...</td>\n",
       "      <td>...</td>\n",
       "      <td>...</td>\n",
       "    </tr>\n",
       "    <tr>\n",
       "      <th>995</th>\n",
       "      <td>13</td>\n",
       "      <td>11</td>\n",
       "      <td>69</td>\n",
       "      <td>57</td>\n",
       "      <td>74</td>\n",
       "    </tr>\n",
       "    <tr>\n",
       "      <th>996</th>\n",
       "      <td>15</td>\n",
       "      <td>64</td>\n",
       "      <td>8</td>\n",
       "      <td>75</td>\n",
       "      <td>20</td>\n",
       "    </tr>\n",
       "    <tr>\n",
       "      <th>997</th>\n",
       "      <td>54</td>\n",
       "      <td>7</td>\n",
       "      <td>76</td>\n",
       "      <td>66</td>\n",
       "      <td>47</td>\n",
       "    </tr>\n",
       "    <tr>\n",
       "      <th>998</th>\n",
       "      <td>94</td>\n",
       "      <td>66</td>\n",
       "      <td>54</td>\n",
       "      <td>44</td>\n",
       "      <td>98</td>\n",
       "    </tr>\n",
       "    <tr>\n",
       "      <th>999</th>\n",
       "      <td>41</td>\n",
       "      <td>62</td>\n",
       "      <td>29</td>\n",
       "      <td>12</td>\n",
       "      <td>33</td>\n",
       "    </tr>\n",
       "  </tbody>\n",
       "</table>\n",
       "<p>1000 rows × 5 columns</p>\n",
       "</div>"
      ],
      "text/plain": [
       "      a   b   c   d   e\n",
       "0    89  60  66  15  79\n",
       "1    94  51  91  46  23\n",
       "2     4  71  16   3   5\n",
       "3    18  61  68  97   7\n",
       "4    27  70  61  76  90\n",
       "..   ..  ..  ..  ..  ..\n",
       "995  13  11  69  57  74\n",
       "996  15  64   8  75  20\n",
       "997  54   7  76  66  47\n",
       "998  94  66  54  44  98\n",
       "999  41  62  29  12  33\n",
       "\n",
       "[1000 rows x 5 columns]"
      ]
     },
     "execution_count": 6,
     "metadata": {},
     "output_type": "execute_result"
    }
   ],
   "source": [
    "df = pd.DataFrame(data=np.random.randint(1, 100, size=(1000, 5)), columns=list(\"abcde\"))\n",
    "df"
   ]
  },
  {
   "cell_type": "code",
   "execution_count": 8,
   "id": "e53c3b9c",
   "metadata": {},
   "outputs": [
    {
     "name": "stderr",
     "output_type": "stream",
     "text": [
      "<>:1: SyntaxWarning: invalid escape sequence '\\D'\n",
      "<>:1: SyntaxWarning: invalid escape sequence '\\D'\n",
      "C:\\Users\\aamir\\AppData\\Local\\Temp\\ipykernel_13828\\1358886232.py:1: SyntaxWarning: invalid escape sequence '\\D'\n",
      "  dataset = pd.read_csv(\"E:\\Data Science\\session4\\session 4\\Car.csv\")\n"
     ]
    },
    {
     "data": {
      "application/vnd.microsoft.datawrangler.viewer.v0+json": {
       "columns": [
        {
         "name": "index",
         "rawType": "int64",
         "type": "integer"
        },
        {
         "name": "Age",
         "rawType": "int64",
         "type": "integer"
        },
        {
         "name": "Income",
         "rawType": "int64",
         "type": "integer"
        },
        {
         "name": "Car",
         "rawType": "int64",
         "type": "integer"
        }
       ],
       "conversionMethod": "pd.DataFrame",
       "ref": "091209d6-2a7b-4963-9c78-9acfc1f31a8f",
       "rows": [
        [
         "0",
         "28",
         "37000",
         "0"
        ],
        [
         "1",
         "27",
         "88000",
         "0"
        ],
        [
         "2",
         "28",
         "59000",
         "0"
        ],
        [
         "3",
         "32",
         "86000",
         "0"
        ],
        [
         "4",
         "33",
         "149000",
         "1"
        ],
        [
         "5",
         "19",
         "21000",
         "0"
        ],
        [
         "6",
         "21",
         "72000",
         "0"
        ],
        [
         "7",
         "26",
         "35000",
         "0"
        ],
        [
         "8",
         "27",
         "89000",
         "0"
        ],
        [
         "9",
         "26",
         "86000",
         "0"
        ],
        [
         "10",
         "38",
         "80000",
         "0"
        ],
        [
         "11",
         "39",
         "71000",
         "0"
        ],
        [
         "12",
         "37",
         "71000",
         "0"
        ],
        [
         "13",
         "38",
         "61000",
         "0"
        ],
        [
         "14",
         "37",
         "55000",
         "0"
        ],
        [
         "15",
         "42",
         "80000",
         "0"
        ],
        [
         "16",
         "40",
         "57000",
         "0"
        ],
        [
         "17",
         "35",
         "75000",
         "0"
        ],
        [
         "18",
         "36",
         "52000",
         "0"
        ],
        [
         "19",
         "40",
         "59000",
         "0"
        ],
        [
         "20",
         "41",
         "59000",
         "0"
        ],
        [
         "21",
         "36",
         "75000",
         "0"
        ],
        [
         "22",
         "37",
         "72000",
         "0"
        ],
        [
         "23",
         "40",
         "75000",
         "0"
        ],
        [
         "24",
         "35",
         "53000",
         "0"
        ],
        [
         "25",
         "41",
         "51000",
         "0"
        ],
        [
         "26",
         "39",
         "61000",
         "0"
        ],
        [
         "27",
         "42",
         "65000",
         "0"
        ],
        [
         "28",
         "26",
         "32000",
         "0"
        ],
        [
         "29",
         "30",
         "17000",
         "0"
        ],
        [
         "30",
         "26",
         "84000",
         "0"
        ],
        [
         "31",
         "31",
         "58000",
         "0"
        ],
        [
         "32",
         "33",
         "31000",
         "0"
        ],
        [
         "33",
         "30",
         "87000",
         "0"
        ],
        [
         "34",
         "21",
         "68000",
         "0"
        ],
        [
         "35",
         "28",
         "55000",
         "0"
        ],
        [
         "36",
         "23",
         "63000",
         "0"
        ],
        [
         "37",
         "20",
         "82000",
         "0"
        ],
        [
         "38",
         "30",
         "107000",
         "1"
        ],
        [
         "39",
         "28",
         "59000",
         "0"
        ],
        [
         "40",
         "19",
         "25000",
         "0"
        ],
        [
         "41",
         "19",
         "85000",
         "0"
        ],
        [
         "42",
         "18",
         "68000",
         "0"
        ],
        [
         "43",
         "35",
         "59000",
         "0"
        ],
        [
         "44",
         "30",
         "89000",
         "0"
        ],
        [
         "45",
         "34",
         "25000",
         "0"
        ],
        [
         "46",
         "24",
         "89000",
         "0"
        ],
        [
         "47",
         "27",
         "96000",
         "1"
        ],
        [
         "48",
         "41",
         "30000",
         "0"
        ],
        [
         "49",
         "29",
         "61000",
         "0"
        ]
       ],
       "shape": {
        "columns": 3,
        "rows": 100
       }
      },
      "text/html": [
       "<div>\n",
       "<style scoped>\n",
       "    .dataframe tbody tr th:only-of-type {\n",
       "        vertical-align: middle;\n",
       "    }\n",
       "\n",
       "    .dataframe tbody tr th {\n",
       "        vertical-align: top;\n",
       "    }\n",
       "\n",
       "    .dataframe thead th {\n",
       "        text-align: right;\n",
       "    }\n",
       "</style>\n",
       "<table border=\"1\" class=\"dataframe\">\n",
       "  <thead>\n",
       "    <tr style=\"text-align: right;\">\n",
       "      <th></th>\n",
       "      <th>Age</th>\n",
       "      <th>Income</th>\n",
       "      <th>Car</th>\n",
       "    </tr>\n",
       "  </thead>\n",
       "  <tbody>\n",
       "    <tr>\n",
       "      <th>0</th>\n",
       "      <td>28</td>\n",
       "      <td>37000</td>\n",
       "      <td>0</td>\n",
       "    </tr>\n",
       "    <tr>\n",
       "      <th>1</th>\n",
       "      <td>27</td>\n",
       "      <td>88000</td>\n",
       "      <td>0</td>\n",
       "    </tr>\n",
       "    <tr>\n",
       "      <th>2</th>\n",
       "      <td>28</td>\n",
       "      <td>59000</td>\n",
       "      <td>0</td>\n",
       "    </tr>\n",
       "    <tr>\n",
       "      <th>3</th>\n",
       "      <td>32</td>\n",
       "      <td>86000</td>\n",
       "      <td>0</td>\n",
       "    </tr>\n",
       "    <tr>\n",
       "      <th>4</th>\n",
       "      <td>33</td>\n",
       "      <td>149000</td>\n",
       "      <td>1</td>\n",
       "    </tr>\n",
       "    <tr>\n",
       "      <th>...</th>\n",
       "      <td>...</td>\n",
       "      <td>...</td>\n",
       "      <td>...</td>\n",
       "    </tr>\n",
       "    <tr>\n",
       "      <th>95</th>\n",
       "      <td>28</td>\n",
       "      <td>89000</td>\n",
       "      <td>0</td>\n",
       "    </tr>\n",
       "    <tr>\n",
       "      <th>96</th>\n",
       "      <td>34</td>\n",
       "      <td>43000</td>\n",
       "      <td>0</td>\n",
       "    </tr>\n",
       "    <tr>\n",
       "      <th>97</th>\n",
       "      <td>30</td>\n",
       "      <td>79000</td>\n",
       "      <td>0</td>\n",
       "    </tr>\n",
       "    <tr>\n",
       "      <th>98</th>\n",
       "      <td>20</td>\n",
       "      <td>36000</td>\n",
       "      <td>0</td>\n",
       "    </tr>\n",
       "    <tr>\n",
       "      <th>99</th>\n",
       "      <td>26</td>\n",
       "      <td>80000</td>\n",
       "      <td>0</td>\n",
       "    </tr>\n",
       "  </tbody>\n",
       "</table>\n",
       "<p>100 rows × 3 columns</p>\n",
       "</div>"
      ],
      "text/plain": [
       "    Age  Income  Car\n",
       "0    28   37000    0\n",
       "1    27   88000    0\n",
       "2    28   59000    0\n",
       "3    32   86000    0\n",
       "4    33  149000    1\n",
       "..  ...     ...  ...\n",
       "95   28   89000    0\n",
       "96   34   43000    0\n",
       "97   30   79000    0\n",
       "98   20   36000    0\n",
       "99   26   80000    0\n",
       "\n",
       "[100 rows x 3 columns]"
      ]
     },
     "execution_count": 8,
     "metadata": {},
     "output_type": "execute_result"
    }
   ],
   "source": [
    "dataset = pd.read_csv(\"E:\\Data Science\\session4\\session 4\\Car.csv\")\n",
    "dataset"
   ]
  },
  {
   "cell_type": "code",
   "execution_count": 9,
   "id": "e4d77ed2",
   "metadata": {},
   "outputs": [
    {
     "name": "stdout",
     "output_type": "stream",
     "text": [
      "<class 'pandas.core.frame.DataFrame'>\n",
      "RangeIndex: 100 entries, 0 to 99\n",
      "Data columns (total 3 columns):\n",
      " #   Column  Non-Null Count  Dtype\n",
      "---  ------  --------------  -----\n",
      " 0   Age     100 non-null    int64\n",
      " 1   Income  100 non-null    int64\n",
      " 2   Car     100 non-null    int64\n",
      "dtypes: int64(3)\n",
      "memory usage: 2.5 KB\n"
     ]
    }
   ],
   "source": [
    "dataset.info()"
   ]
  },
  {
   "cell_type": "code",
   "execution_count": 10,
   "id": "306adcc6",
   "metadata": {},
   "outputs": [
    {
     "data": {
      "application/vnd.microsoft.datawrangler.viewer.v0+json": {
       "columns": [
        {
         "name": "index",
         "rawType": "int64",
         "type": "integer"
        },
        {
         "name": "Age",
         "rawType": "int64",
         "type": "integer"
        },
        {
         "name": "Income",
         "rawType": "int64",
         "type": "integer"
        },
        {
         "name": "Car",
         "rawType": "int64",
         "type": "integer"
        }
       ],
       "conversionMethod": "pd.DataFrame",
       "ref": "1edb5dab-7da3-4182-b6c7-87d9ae228004",
       "rows": [
        [
         "0",
         "28",
         "37000",
         "0"
        ],
        [
         "1",
         "27",
         "88000",
         "0"
        ],
        [
         "2",
         "28",
         "59000",
         "0"
        ],
        [
         "3",
         "32",
         "86000",
         "0"
        ],
        [
         "4",
         "33",
         "149000",
         "1"
        ]
       ],
       "shape": {
        "columns": 3,
        "rows": 5
       }
      },
      "text/html": [
       "<div>\n",
       "<style scoped>\n",
       "    .dataframe tbody tr th:only-of-type {\n",
       "        vertical-align: middle;\n",
       "    }\n",
       "\n",
       "    .dataframe tbody tr th {\n",
       "        vertical-align: top;\n",
       "    }\n",
       "\n",
       "    .dataframe thead th {\n",
       "        text-align: right;\n",
       "    }\n",
       "</style>\n",
       "<table border=\"1\" class=\"dataframe\">\n",
       "  <thead>\n",
       "    <tr style=\"text-align: right;\">\n",
       "      <th></th>\n",
       "      <th>Age</th>\n",
       "      <th>Income</th>\n",
       "      <th>Car</th>\n",
       "    </tr>\n",
       "  </thead>\n",
       "  <tbody>\n",
       "    <tr>\n",
       "      <th>0</th>\n",
       "      <td>28</td>\n",
       "      <td>37000</td>\n",
       "      <td>0</td>\n",
       "    </tr>\n",
       "    <tr>\n",
       "      <th>1</th>\n",
       "      <td>27</td>\n",
       "      <td>88000</td>\n",
       "      <td>0</td>\n",
       "    </tr>\n",
       "    <tr>\n",
       "      <th>2</th>\n",
       "      <td>28</td>\n",
       "      <td>59000</td>\n",
       "      <td>0</td>\n",
       "    </tr>\n",
       "    <tr>\n",
       "      <th>3</th>\n",
       "      <td>32</td>\n",
       "      <td>86000</td>\n",
       "      <td>0</td>\n",
       "    </tr>\n",
       "    <tr>\n",
       "      <th>4</th>\n",
       "      <td>33</td>\n",
       "      <td>149000</td>\n",
       "      <td>1</td>\n",
       "    </tr>\n",
       "  </tbody>\n",
       "</table>\n",
       "</div>"
      ],
      "text/plain": [
       "   Age  Income  Car\n",
       "0   28   37000    0\n",
       "1   27   88000    0\n",
       "2   28   59000    0\n",
       "3   32   86000    0\n",
       "4   33  149000    1"
      ]
     },
     "execution_count": 10,
     "metadata": {},
     "output_type": "execute_result"
    }
   ],
   "source": [
    "dataset.head()"
   ]
  },
  {
   "cell_type": "code",
   "execution_count": 11,
   "id": "6806bf6d",
   "metadata": {},
   "outputs": [
    {
     "data": {
      "application/vnd.microsoft.datawrangler.viewer.v0+json": {
       "columns": [
        {
         "name": "index",
         "rawType": "int64",
         "type": "integer"
        },
        {
         "name": "Age",
         "rawType": "int64",
         "type": "integer"
        },
        {
         "name": "Income",
         "rawType": "int64",
         "type": "integer"
        },
        {
         "name": "Car",
         "rawType": "int64",
         "type": "integer"
        }
       ],
       "conversionMethod": "pd.DataFrame",
       "ref": "8554f63d-ebeb-4380-8c97-53bed3c2ea76",
       "rows": [
        [
         "95",
         "28",
         "89000",
         "0"
        ],
        [
         "96",
         "34",
         "43000",
         "0"
        ],
        [
         "97",
         "30",
         "79000",
         "0"
        ],
        [
         "98",
         "20",
         "36000",
         "0"
        ],
        [
         "99",
         "26",
         "80000",
         "0"
        ]
       ],
       "shape": {
        "columns": 3,
        "rows": 5
       }
      },
      "text/html": [
       "<div>\n",
       "<style scoped>\n",
       "    .dataframe tbody tr th:only-of-type {\n",
       "        vertical-align: middle;\n",
       "    }\n",
       "\n",
       "    .dataframe tbody tr th {\n",
       "        vertical-align: top;\n",
       "    }\n",
       "\n",
       "    .dataframe thead th {\n",
       "        text-align: right;\n",
       "    }\n",
       "</style>\n",
       "<table border=\"1\" class=\"dataframe\">\n",
       "  <thead>\n",
       "    <tr style=\"text-align: right;\">\n",
       "      <th></th>\n",
       "      <th>Age</th>\n",
       "      <th>Income</th>\n",
       "      <th>Car</th>\n",
       "    </tr>\n",
       "  </thead>\n",
       "  <tbody>\n",
       "    <tr>\n",
       "      <th>95</th>\n",
       "      <td>28</td>\n",
       "      <td>89000</td>\n",
       "      <td>0</td>\n",
       "    </tr>\n",
       "    <tr>\n",
       "      <th>96</th>\n",
       "      <td>34</td>\n",
       "      <td>43000</td>\n",
       "      <td>0</td>\n",
       "    </tr>\n",
       "    <tr>\n",
       "      <th>97</th>\n",
       "      <td>30</td>\n",
       "      <td>79000</td>\n",
       "      <td>0</td>\n",
       "    </tr>\n",
       "    <tr>\n",
       "      <th>98</th>\n",
       "      <td>20</td>\n",
       "      <td>36000</td>\n",
       "      <td>0</td>\n",
       "    </tr>\n",
       "    <tr>\n",
       "      <th>99</th>\n",
       "      <td>26</td>\n",
       "      <td>80000</td>\n",
       "      <td>0</td>\n",
       "    </tr>\n",
       "  </tbody>\n",
       "</table>\n",
       "</div>"
      ],
      "text/plain": [
       "    Age  Income  Car\n",
       "95   28   89000    0\n",
       "96   34   43000    0\n",
       "97   30   79000    0\n",
       "98   20   36000    0\n",
       "99   26   80000    0"
      ]
     },
     "execution_count": 11,
     "metadata": {},
     "output_type": "execute_result"
    }
   ],
   "source": [
    "dataset.tail()"
   ]
  },
  {
   "cell_type": "code",
   "execution_count": 12,
   "id": "dd42273b",
   "metadata": {},
   "outputs": [
    {
     "data": {
      "text/plain": [
       "Car\n",
       "0    93\n",
       "1     7\n",
       "Name: count, dtype: int64"
      ]
     },
     "execution_count": 12,
     "metadata": {},
     "output_type": "execute_result"
    }
   ],
   "source": [
    "dataset.Car.value_counts()"
   ]
  },
  {
   "cell_type": "code",
   "execution_count": 13,
   "id": "efece47a",
   "metadata": {},
   "outputs": [
    {
     "data": {
      "application/vnd.microsoft.datawrangler.viewer.v0+json": {
       "columns": [
        {
         "name": "index",
         "rawType": "int64",
         "type": "integer"
        },
        {
         "name": "Age",
         "rawType": "int64",
         "type": "integer"
        },
        {
         "name": "Income",
         "rawType": "int64",
         "type": "integer"
        },
        {
         "name": "Target",
         "rawType": "int64",
         "type": "integer"
        }
       ],
       "conversionMethod": "pd.DataFrame",
       "ref": "4a7ef9e9-ef8b-4f55-b7e3-8a8b729885ab",
       "rows": [
        [
         "0",
         "28",
         "37000",
         "0"
        ],
        [
         "1",
         "27",
         "88000",
         "0"
        ],
        [
         "2",
         "28",
         "59000",
         "0"
        ],
        [
         "3",
         "32",
         "86000",
         "0"
        ],
        [
         "4",
         "33",
         "149000",
         "1"
        ],
        [
         "5",
         "19",
         "21000",
         "0"
        ],
        [
         "6",
         "21",
         "72000",
         "0"
        ],
        [
         "7",
         "26",
         "35000",
         "0"
        ],
        [
         "8",
         "27",
         "89000",
         "0"
        ],
        [
         "9",
         "26",
         "86000",
         "0"
        ],
        [
         "10",
         "38",
         "80000",
         "0"
        ],
        [
         "11",
         "39",
         "71000",
         "0"
        ],
        [
         "12",
         "37",
         "71000",
         "0"
        ],
        [
         "13",
         "38",
         "61000",
         "0"
        ],
        [
         "14",
         "37",
         "55000",
         "0"
        ],
        [
         "15",
         "42",
         "80000",
         "0"
        ],
        [
         "16",
         "40",
         "57000",
         "0"
        ],
        [
         "17",
         "35",
         "75000",
         "0"
        ],
        [
         "18",
         "36",
         "52000",
         "0"
        ],
        [
         "19",
         "40",
         "59000",
         "0"
        ],
        [
         "20",
         "41",
         "59000",
         "0"
        ],
        [
         "21",
         "36",
         "75000",
         "0"
        ],
        [
         "22",
         "37",
         "72000",
         "0"
        ],
        [
         "23",
         "40",
         "75000",
         "0"
        ],
        [
         "24",
         "35",
         "53000",
         "0"
        ],
        [
         "25",
         "41",
         "51000",
         "0"
        ],
        [
         "26",
         "39",
         "61000",
         "0"
        ],
        [
         "27",
         "42",
         "65000",
         "0"
        ],
        [
         "28",
         "26",
         "32000",
         "0"
        ],
        [
         "29",
         "30",
         "17000",
         "0"
        ],
        [
         "30",
         "26",
         "84000",
         "0"
        ],
        [
         "31",
         "31",
         "58000",
         "0"
        ],
        [
         "32",
         "33",
         "31000",
         "0"
        ],
        [
         "33",
         "30",
         "87000",
         "0"
        ],
        [
         "34",
         "21",
         "68000",
         "0"
        ],
        [
         "35",
         "28",
         "55000",
         "0"
        ],
        [
         "36",
         "23",
         "63000",
         "0"
        ],
        [
         "37",
         "20",
         "82000",
         "0"
        ],
        [
         "38",
         "30",
         "107000",
         "1"
        ],
        [
         "39",
         "28",
         "59000",
         "0"
        ],
        [
         "40",
         "19",
         "25000",
         "0"
        ],
        [
         "41",
         "19",
         "85000",
         "0"
        ],
        [
         "42",
         "18",
         "68000",
         "0"
        ],
        [
         "43",
         "35",
         "59000",
         "0"
        ],
        [
         "44",
         "30",
         "89000",
         "0"
        ],
        [
         "45",
         "34",
         "25000",
         "0"
        ],
        [
         "46",
         "24",
         "89000",
         "0"
        ],
        [
         "47",
         "27",
         "96000",
         "1"
        ],
        [
         "48",
         "41",
         "30000",
         "0"
        ],
        [
         "49",
         "29",
         "61000",
         "0"
        ]
       ],
       "shape": {
        "columns": 3,
        "rows": 100
       }
      },
      "text/html": [
       "<div>\n",
       "<style scoped>\n",
       "    .dataframe tbody tr th:only-of-type {\n",
       "        vertical-align: middle;\n",
       "    }\n",
       "\n",
       "    .dataframe tbody tr th {\n",
       "        vertical-align: top;\n",
       "    }\n",
       "\n",
       "    .dataframe thead th {\n",
       "        text-align: right;\n",
       "    }\n",
       "</style>\n",
       "<table border=\"1\" class=\"dataframe\">\n",
       "  <thead>\n",
       "    <tr style=\"text-align: right;\">\n",
       "      <th></th>\n",
       "      <th>Age</th>\n",
       "      <th>Income</th>\n",
       "      <th>Target</th>\n",
       "    </tr>\n",
       "  </thead>\n",
       "  <tbody>\n",
       "    <tr>\n",
       "      <th>0</th>\n",
       "      <td>28</td>\n",
       "      <td>37000</td>\n",
       "      <td>0</td>\n",
       "    </tr>\n",
       "    <tr>\n",
       "      <th>1</th>\n",
       "      <td>27</td>\n",
       "      <td>88000</td>\n",
       "      <td>0</td>\n",
       "    </tr>\n",
       "    <tr>\n",
       "      <th>2</th>\n",
       "      <td>28</td>\n",
       "      <td>59000</td>\n",
       "      <td>0</td>\n",
       "    </tr>\n",
       "    <tr>\n",
       "      <th>3</th>\n",
       "      <td>32</td>\n",
       "      <td>86000</td>\n",
       "      <td>0</td>\n",
       "    </tr>\n",
       "    <tr>\n",
       "      <th>4</th>\n",
       "      <td>33</td>\n",
       "      <td>149000</td>\n",
       "      <td>1</td>\n",
       "    </tr>\n",
       "    <tr>\n",
       "      <th>...</th>\n",
       "      <td>...</td>\n",
       "      <td>...</td>\n",
       "      <td>...</td>\n",
       "    </tr>\n",
       "    <tr>\n",
       "      <th>95</th>\n",
       "      <td>28</td>\n",
       "      <td>89000</td>\n",
       "      <td>0</td>\n",
       "    </tr>\n",
       "    <tr>\n",
       "      <th>96</th>\n",
       "      <td>34</td>\n",
       "      <td>43000</td>\n",
       "      <td>0</td>\n",
       "    </tr>\n",
       "    <tr>\n",
       "      <th>97</th>\n",
       "      <td>30</td>\n",
       "      <td>79000</td>\n",
       "      <td>0</td>\n",
       "    </tr>\n",
       "    <tr>\n",
       "      <th>98</th>\n",
       "      <td>20</td>\n",
       "      <td>36000</td>\n",
       "      <td>0</td>\n",
       "    </tr>\n",
       "    <tr>\n",
       "      <th>99</th>\n",
       "      <td>26</td>\n",
       "      <td>80000</td>\n",
       "      <td>0</td>\n",
       "    </tr>\n",
       "  </tbody>\n",
       "</table>\n",
       "<p>100 rows × 3 columns</p>\n",
       "</div>"
      ],
      "text/plain": [
       "    Age  Income  Target\n",
       "0    28   37000       0\n",
       "1    27   88000       0\n",
       "2    28   59000       0\n",
       "3    32   86000       0\n",
       "4    33  149000       1\n",
       "..  ...     ...     ...\n",
       "95   28   89000       0\n",
       "96   34   43000       0\n",
       "97   30   79000       0\n",
       "98   20   36000       0\n",
       "99   26   80000       0\n",
       "\n",
       "[100 rows x 3 columns]"
      ]
     },
     "execution_count": 13,
     "metadata": {},
     "output_type": "execute_result"
    }
   ],
   "source": [
    "dataset.rename(columns={\"Car\": \"Target\"})"
   ]
  },
  {
   "cell_type": "code",
   "execution_count": 14,
   "id": "0be5f48a",
   "metadata": {},
   "outputs": [
    {
     "data": {
      "application/vnd.microsoft.datawrangler.viewer.v0+json": {
       "columns": [
        {
         "name": "index",
         "rawType": "int64",
         "type": "integer"
        },
        {
         "name": "Age",
         "rawType": "int64",
         "type": "integer"
        },
        {
         "name": "Income",
         "rawType": "int64",
         "type": "integer"
        },
        {
         "name": "Car",
         "rawType": "int64",
         "type": "integer"
        }
       ],
       "conversionMethod": "pd.DataFrame",
       "ref": "33de396b-c43b-41f9-9e52-cbdc1e86f072",
       "rows": [
        [
         "0",
         "28",
         "37000",
         "0"
        ],
        [
         "1",
         "27",
         "88000",
         "0"
        ],
        [
         "2",
         "28",
         "59000",
         "0"
        ],
        [
         "3",
         "32",
         "86000",
         "0"
        ],
        [
         "4",
         "33",
         "149000",
         "1"
        ],
        [
         "5",
         "19",
         "21000",
         "0"
        ],
        [
         "6",
         "21",
         "72000",
         "0"
        ],
        [
         "7",
         "26",
         "35000",
         "0"
        ],
        [
         "8",
         "27",
         "89000",
         "0"
        ],
        [
         "9",
         "26",
         "86000",
         "0"
        ],
        [
         "10",
         "38",
         "80000",
         "0"
        ],
        [
         "11",
         "39",
         "71000",
         "0"
        ],
        [
         "12",
         "37",
         "71000",
         "0"
        ],
        [
         "13",
         "38",
         "61000",
         "0"
        ],
        [
         "14",
         "37",
         "55000",
         "0"
        ],
        [
         "15",
         "42",
         "80000",
         "0"
        ],
        [
         "16",
         "40",
         "57000",
         "0"
        ],
        [
         "17",
         "35",
         "75000",
         "0"
        ],
        [
         "18",
         "36",
         "52000",
         "0"
        ],
        [
         "19",
         "40",
         "59000",
         "0"
        ],
        [
         "20",
         "41",
         "59000",
         "0"
        ],
        [
         "21",
         "36",
         "75000",
         "0"
        ],
        [
         "22",
         "37",
         "72000",
         "0"
        ],
        [
         "23",
         "40",
         "75000",
         "0"
        ],
        [
         "24",
         "35",
         "53000",
         "0"
        ],
        [
         "25",
         "41",
         "51000",
         "0"
        ],
        [
         "26",
         "39",
         "61000",
         "0"
        ],
        [
         "27",
         "42",
         "65000",
         "0"
        ],
        [
         "28",
         "26",
         "32000",
         "0"
        ],
        [
         "29",
         "30",
         "17000",
         "0"
        ],
        [
         "30",
         "26",
         "84000",
         "0"
        ],
        [
         "31",
         "31",
         "58000",
         "0"
        ],
        [
         "32",
         "33",
         "31000",
         "0"
        ],
        [
         "33",
         "30",
         "87000",
         "0"
        ],
        [
         "34",
         "21",
         "68000",
         "0"
        ],
        [
         "35",
         "28",
         "55000",
         "0"
        ],
        [
         "36",
         "23",
         "63000",
         "0"
        ],
        [
         "37",
         "20",
         "82000",
         "0"
        ],
        [
         "38",
         "30",
         "107000",
         "1"
        ],
        [
         "39",
         "28",
         "59000",
         "0"
        ],
        [
         "40",
         "19",
         "25000",
         "0"
        ],
        [
         "41",
         "19",
         "85000",
         "0"
        ],
        [
         "42",
         "18",
         "68000",
         "0"
        ],
        [
         "43",
         "35",
         "59000",
         "0"
        ],
        [
         "44",
         "30",
         "89000",
         "0"
        ],
        [
         "45",
         "34",
         "25000",
         "0"
        ],
        [
         "46",
         "24",
         "89000",
         "0"
        ],
        [
         "47",
         "27",
         "96000",
         "1"
        ],
        [
         "48",
         "41",
         "30000",
         "0"
        ],
        [
         "49",
         "29",
         "61000",
         "0"
        ]
       ],
       "shape": {
        "columns": 3,
        "rows": 100
       }
      },
      "text/html": [
       "<div>\n",
       "<style scoped>\n",
       "    .dataframe tbody tr th:only-of-type {\n",
       "        vertical-align: middle;\n",
       "    }\n",
       "\n",
       "    .dataframe tbody tr th {\n",
       "        vertical-align: top;\n",
       "    }\n",
       "\n",
       "    .dataframe thead th {\n",
       "        text-align: right;\n",
       "    }\n",
       "</style>\n",
       "<table border=\"1\" class=\"dataframe\">\n",
       "  <thead>\n",
       "    <tr style=\"text-align: right;\">\n",
       "      <th></th>\n",
       "      <th>Age</th>\n",
       "      <th>Income</th>\n",
       "      <th>Car</th>\n",
       "    </tr>\n",
       "  </thead>\n",
       "  <tbody>\n",
       "    <tr>\n",
       "      <th>0</th>\n",
       "      <td>28</td>\n",
       "      <td>37000</td>\n",
       "      <td>0</td>\n",
       "    </tr>\n",
       "    <tr>\n",
       "      <th>1</th>\n",
       "      <td>27</td>\n",
       "      <td>88000</td>\n",
       "      <td>0</td>\n",
       "    </tr>\n",
       "    <tr>\n",
       "      <th>2</th>\n",
       "      <td>28</td>\n",
       "      <td>59000</td>\n",
       "      <td>0</td>\n",
       "    </tr>\n",
       "    <tr>\n",
       "      <th>3</th>\n",
       "      <td>32</td>\n",
       "      <td>86000</td>\n",
       "      <td>0</td>\n",
       "    </tr>\n",
       "    <tr>\n",
       "      <th>4</th>\n",
       "      <td>33</td>\n",
       "      <td>149000</td>\n",
       "      <td>1</td>\n",
       "    </tr>\n",
       "    <tr>\n",
       "      <th>...</th>\n",
       "      <td>...</td>\n",
       "      <td>...</td>\n",
       "      <td>...</td>\n",
       "    </tr>\n",
       "    <tr>\n",
       "      <th>95</th>\n",
       "      <td>28</td>\n",
       "      <td>89000</td>\n",
       "      <td>0</td>\n",
       "    </tr>\n",
       "    <tr>\n",
       "      <th>96</th>\n",
       "      <td>34</td>\n",
       "      <td>43000</td>\n",
       "      <td>0</td>\n",
       "    </tr>\n",
       "    <tr>\n",
       "      <th>97</th>\n",
       "      <td>30</td>\n",
       "      <td>79000</td>\n",
       "      <td>0</td>\n",
       "    </tr>\n",
       "    <tr>\n",
       "      <th>98</th>\n",
       "      <td>20</td>\n",
       "      <td>36000</td>\n",
       "      <td>0</td>\n",
       "    </tr>\n",
       "    <tr>\n",
       "      <th>99</th>\n",
       "      <td>26</td>\n",
       "      <td>80000</td>\n",
       "      <td>0</td>\n",
       "    </tr>\n",
       "  </tbody>\n",
       "</table>\n",
       "<p>100 rows × 3 columns</p>\n",
       "</div>"
      ],
      "text/plain": [
       "    Age  Income  Car\n",
       "0    28   37000    0\n",
       "1    27   88000    0\n",
       "2    28   59000    0\n",
       "3    32   86000    0\n",
       "4    33  149000    1\n",
       "..  ...     ...  ...\n",
       "95   28   89000    0\n",
       "96   34   43000    0\n",
       "97   30   79000    0\n",
       "98   20   36000    0\n",
       "99   26   80000    0\n",
       "\n",
       "[100 rows x 3 columns]"
      ]
     },
     "execution_count": 14,
     "metadata": {},
     "output_type": "execute_result"
    }
   ],
   "source": [
    "dataset"
   ]
  },
  {
   "cell_type": "code",
   "execution_count": 15,
   "id": "99195a82",
   "metadata": {},
   "outputs": [
    {
     "data": {
      "application/vnd.microsoft.datawrangler.viewer.v0+json": {
       "columns": [
        {
         "name": "index",
         "rawType": "int64",
         "type": "integer"
        },
        {
         "name": "Age",
         "rawType": "int64",
         "type": "integer"
        },
        {
         "name": "Income",
         "rawType": "int64",
         "type": "integer"
        },
        {
         "name": "Target",
         "rawType": "int64",
         "type": "integer"
        }
       ],
       "conversionMethod": "pd.DataFrame",
       "ref": "2442a7ee-9556-4edc-8097-662229752956",
       "rows": [
        [
         "0",
         "28",
         "37000",
         "0"
        ],
        [
         "1",
         "27",
         "88000",
         "0"
        ],
        [
         "2",
         "28",
         "59000",
         "0"
        ],
        [
         "3",
         "32",
         "86000",
         "0"
        ],
        [
         "4",
         "33",
         "149000",
         "1"
        ],
        [
         "5",
         "19",
         "21000",
         "0"
        ],
        [
         "6",
         "21",
         "72000",
         "0"
        ],
        [
         "7",
         "26",
         "35000",
         "0"
        ],
        [
         "8",
         "27",
         "89000",
         "0"
        ],
        [
         "9",
         "26",
         "86000",
         "0"
        ],
        [
         "10",
         "38",
         "80000",
         "0"
        ],
        [
         "11",
         "39",
         "71000",
         "0"
        ],
        [
         "12",
         "37",
         "71000",
         "0"
        ],
        [
         "13",
         "38",
         "61000",
         "0"
        ],
        [
         "14",
         "37",
         "55000",
         "0"
        ],
        [
         "15",
         "42",
         "80000",
         "0"
        ],
        [
         "16",
         "40",
         "57000",
         "0"
        ],
        [
         "17",
         "35",
         "75000",
         "0"
        ],
        [
         "18",
         "36",
         "52000",
         "0"
        ],
        [
         "19",
         "40",
         "59000",
         "0"
        ],
        [
         "20",
         "41",
         "59000",
         "0"
        ],
        [
         "21",
         "36",
         "75000",
         "0"
        ],
        [
         "22",
         "37",
         "72000",
         "0"
        ],
        [
         "23",
         "40",
         "75000",
         "0"
        ],
        [
         "24",
         "35",
         "53000",
         "0"
        ],
        [
         "25",
         "41",
         "51000",
         "0"
        ],
        [
         "26",
         "39",
         "61000",
         "0"
        ],
        [
         "27",
         "42",
         "65000",
         "0"
        ],
        [
         "28",
         "26",
         "32000",
         "0"
        ],
        [
         "29",
         "30",
         "17000",
         "0"
        ],
        [
         "30",
         "26",
         "84000",
         "0"
        ],
        [
         "31",
         "31",
         "58000",
         "0"
        ],
        [
         "32",
         "33",
         "31000",
         "0"
        ],
        [
         "33",
         "30",
         "87000",
         "0"
        ],
        [
         "34",
         "21",
         "68000",
         "0"
        ],
        [
         "35",
         "28",
         "55000",
         "0"
        ],
        [
         "36",
         "23",
         "63000",
         "0"
        ],
        [
         "37",
         "20",
         "82000",
         "0"
        ],
        [
         "38",
         "30",
         "107000",
         "1"
        ],
        [
         "39",
         "28",
         "59000",
         "0"
        ],
        [
         "40",
         "19",
         "25000",
         "0"
        ],
        [
         "41",
         "19",
         "85000",
         "0"
        ],
        [
         "42",
         "18",
         "68000",
         "0"
        ],
        [
         "43",
         "35",
         "59000",
         "0"
        ],
        [
         "44",
         "30",
         "89000",
         "0"
        ],
        [
         "45",
         "34",
         "25000",
         "0"
        ],
        [
         "46",
         "24",
         "89000",
         "0"
        ],
        [
         "47",
         "27",
         "96000",
         "1"
        ],
        [
         "48",
         "41",
         "30000",
         "0"
        ],
        [
         "49",
         "29",
         "61000",
         "0"
        ]
       ],
       "shape": {
        "columns": 3,
        "rows": 100
       }
      },
      "text/html": [
       "<div>\n",
       "<style scoped>\n",
       "    .dataframe tbody tr th:only-of-type {\n",
       "        vertical-align: middle;\n",
       "    }\n",
       "\n",
       "    .dataframe tbody tr th {\n",
       "        vertical-align: top;\n",
       "    }\n",
       "\n",
       "    .dataframe thead th {\n",
       "        text-align: right;\n",
       "    }\n",
       "</style>\n",
       "<table border=\"1\" class=\"dataframe\">\n",
       "  <thead>\n",
       "    <tr style=\"text-align: right;\">\n",
       "      <th></th>\n",
       "      <th>Age</th>\n",
       "      <th>Income</th>\n",
       "      <th>Target</th>\n",
       "    </tr>\n",
       "  </thead>\n",
       "  <tbody>\n",
       "    <tr>\n",
       "      <th>0</th>\n",
       "      <td>28</td>\n",
       "      <td>37000</td>\n",
       "      <td>0</td>\n",
       "    </tr>\n",
       "    <tr>\n",
       "      <th>1</th>\n",
       "      <td>27</td>\n",
       "      <td>88000</td>\n",
       "      <td>0</td>\n",
       "    </tr>\n",
       "    <tr>\n",
       "      <th>2</th>\n",
       "      <td>28</td>\n",
       "      <td>59000</td>\n",
       "      <td>0</td>\n",
       "    </tr>\n",
       "    <tr>\n",
       "      <th>3</th>\n",
       "      <td>32</td>\n",
       "      <td>86000</td>\n",
       "      <td>0</td>\n",
       "    </tr>\n",
       "    <tr>\n",
       "      <th>4</th>\n",
       "      <td>33</td>\n",
       "      <td>149000</td>\n",
       "      <td>1</td>\n",
       "    </tr>\n",
       "    <tr>\n",
       "      <th>...</th>\n",
       "      <td>...</td>\n",
       "      <td>...</td>\n",
       "      <td>...</td>\n",
       "    </tr>\n",
       "    <tr>\n",
       "      <th>95</th>\n",
       "      <td>28</td>\n",
       "      <td>89000</td>\n",
       "      <td>0</td>\n",
       "    </tr>\n",
       "    <tr>\n",
       "      <th>96</th>\n",
       "      <td>34</td>\n",
       "      <td>43000</td>\n",
       "      <td>0</td>\n",
       "    </tr>\n",
       "    <tr>\n",
       "      <th>97</th>\n",
       "      <td>30</td>\n",
       "      <td>79000</td>\n",
       "      <td>0</td>\n",
       "    </tr>\n",
       "    <tr>\n",
       "      <th>98</th>\n",
       "      <td>20</td>\n",
       "      <td>36000</td>\n",
       "      <td>0</td>\n",
       "    </tr>\n",
       "    <tr>\n",
       "      <th>99</th>\n",
       "      <td>26</td>\n",
       "      <td>80000</td>\n",
       "      <td>0</td>\n",
       "    </tr>\n",
       "  </tbody>\n",
       "</table>\n",
       "<p>100 rows × 3 columns</p>\n",
       "</div>"
      ],
      "text/plain": [
       "    Age  Income  Target\n",
       "0    28   37000       0\n",
       "1    27   88000       0\n",
       "2    28   59000       0\n",
       "3    32   86000       0\n",
       "4    33  149000       1\n",
       "..  ...     ...     ...\n",
       "95   28   89000       0\n",
       "96   34   43000       0\n",
       "97   30   79000       0\n",
       "98   20   36000       0\n",
       "99   26   80000       0\n",
       "\n",
       "[100 rows x 3 columns]"
      ]
     },
     "execution_count": 15,
     "metadata": {},
     "output_type": "execute_result"
    }
   ],
   "source": [
    "dataset.rename(columns={\"Car\": \"Target\"}, inplace=True)\n",
    "dataset"
   ]
  },
  {
   "cell_type": "code",
   "execution_count": 16,
   "id": "31d45f23",
   "metadata": {},
   "outputs": [
    {
     "data": {
      "text/plain": [
       "Index(['Age', 'Income', 'Target'], dtype='object')"
      ]
     },
     "execution_count": 16,
     "metadata": {},
     "output_type": "execute_result"
    }
   ],
   "source": [
    "dataset.columns"
   ]
  },
  {
   "cell_type": "code",
   "execution_count": 17,
   "id": "fac6376f",
   "metadata": {},
   "outputs": [
    {
     "data": {
      "application/vnd.microsoft.datawrangler.viewer.v0+json": {
       "columns": [
        {
         "name": "index",
         "rawType": "int64",
         "type": "integer"
        },
        {
         "name": "Age",
         "rawType": "int64",
         "type": "integer"
        },
        {
         "name": "Target",
         "rawType": "int64",
         "type": "integer"
        }
       ],
       "conversionMethod": "pd.DataFrame",
       "ref": "3bb96a4c-3653-4dbc-8829-b72c7d2e13db",
       "rows": [
        [
         "0",
         "28",
         "0"
        ],
        [
         "1",
         "27",
         "0"
        ],
        [
         "2",
         "28",
         "0"
        ],
        [
         "3",
         "32",
         "0"
        ],
        [
         "4",
         "33",
         "1"
        ],
        [
         "5",
         "19",
         "0"
        ],
        [
         "6",
         "21",
         "0"
        ],
        [
         "7",
         "26",
         "0"
        ],
        [
         "8",
         "27",
         "0"
        ],
        [
         "9",
         "26",
         "0"
        ],
        [
         "10",
         "38",
         "0"
        ],
        [
         "11",
         "39",
         "0"
        ],
        [
         "12",
         "37",
         "0"
        ],
        [
         "13",
         "38",
         "0"
        ],
        [
         "14",
         "37",
         "0"
        ],
        [
         "15",
         "42",
         "0"
        ],
        [
         "16",
         "40",
         "0"
        ],
        [
         "17",
         "35",
         "0"
        ],
        [
         "18",
         "36",
         "0"
        ],
        [
         "19",
         "40",
         "0"
        ],
        [
         "20",
         "41",
         "0"
        ],
        [
         "21",
         "36",
         "0"
        ],
        [
         "22",
         "37",
         "0"
        ],
        [
         "23",
         "40",
         "0"
        ],
        [
         "24",
         "35",
         "0"
        ],
        [
         "25",
         "41",
         "0"
        ],
        [
         "26",
         "39",
         "0"
        ],
        [
         "27",
         "42",
         "0"
        ],
        [
         "28",
         "26",
         "0"
        ],
        [
         "29",
         "30",
         "0"
        ],
        [
         "30",
         "26",
         "0"
        ],
        [
         "31",
         "31",
         "0"
        ],
        [
         "32",
         "33",
         "0"
        ],
        [
         "33",
         "30",
         "0"
        ],
        [
         "34",
         "21",
         "0"
        ],
        [
         "35",
         "28",
         "0"
        ],
        [
         "36",
         "23",
         "0"
        ],
        [
         "37",
         "20",
         "0"
        ],
        [
         "38",
         "30",
         "1"
        ],
        [
         "39",
         "28",
         "0"
        ],
        [
         "40",
         "19",
         "0"
        ],
        [
         "41",
         "19",
         "0"
        ],
        [
         "42",
         "18",
         "0"
        ],
        [
         "43",
         "35",
         "0"
        ],
        [
         "44",
         "30",
         "0"
        ],
        [
         "45",
         "34",
         "0"
        ],
        [
         "46",
         "24",
         "0"
        ],
        [
         "47",
         "27",
         "1"
        ],
        [
         "48",
         "41",
         "0"
        ],
        [
         "49",
         "29",
         "0"
        ]
       ],
       "shape": {
        "columns": 2,
        "rows": 100
       }
      },
      "text/html": [
       "<div>\n",
       "<style scoped>\n",
       "    .dataframe tbody tr th:only-of-type {\n",
       "        vertical-align: middle;\n",
       "    }\n",
       "\n",
       "    .dataframe tbody tr th {\n",
       "        vertical-align: top;\n",
       "    }\n",
       "\n",
       "    .dataframe thead th {\n",
       "        text-align: right;\n",
       "    }\n",
       "</style>\n",
       "<table border=\"1\" class=\"dataframe\">\n",
       "  <thead>\n",
       "    <tr style=\"text-align: right;\">\n",
       "      <th></th>\n",
       "      <th>Age</th>\n",
       "      <th>Target</th>\n",
       "    </tr>\n",
       "  </thead>\n",
       "  <tbody>\n",
       "    <tr>\n",
       "      <th>0</th>\n",
       "      <td>28</td>\n",
       "      <td>0</td>\n",
       "    </tr>\n",
       "    <tr>\n",
       "      <th>1</th>\n",
       "      <td>27</td>\n",
       "      <td>0</td>\n",
       "    </tr>\n",
       "    <tr>\n",
       "      <th>2</th>\n",
       "      <td>28</td>\n",
       "      <td>0</td>\n",
       "    </tr>\n",
       "    <tr>\n",
       "      <th>3</th>\n",
       "      <td>32</td>\n",
       "      <td>0</td>\n",
       "    </tr>\n",
       "    <tr>\n",
       "      <th>4</th>\n",
       "      <td>33</td>\n",
       "      <td>1</td>\n",
       "    </tr>\n",
       "    <tr>\n",
       "      <th>...</th>\n",
       "      <td>...</td>\n",
       "      <td>...</td>\n",
       "    </tr>\n",
       "    <tr>\n",
       "      <th>95</th>\n",
       "      <td>28</td>\n",
       "      <td>0</td>\n",
       "    </tr>\n",
       "    <tr>\n",
       "      <th>96</th>\n",
       "      <td>34</td>\n",
       "      <td>0</td>\n",
       "    </tr>\n",
       "    <tr>\n",
       "      <th>97</th>\n",
       "      <td>30</td>\n",
       "      <td>0</td>\n",
       "    </tr>\n",
       "    <tr>\n",
       "      <th>98</th>\n",
       "      <td>20</td>\n",
       "      <td>0</td>\n",
       "    </tr>\n",
       "    <tr>\n",
       "      <th>99</th>\n",
       "      <td>26</td>\n",
       "      <td>0</td>\n",
       "    </tr>\n",
       "  </tbody>\n",
       "</table>\n",
       "<p>100 rows × 2 columns</p>\n",
       "</div>"
      ],
      "text/plain": [
       "    Age  Target\n",
       "0    28       0\n",
       "1    27       0\n",
       "2    28       0\n",
       "3    32       0\n",
       "4    33       1\n",
       "..  ...     ...\n",
       "95   28       0\n",
       "96   34       0\n",
       "97   30       0\n",
       "98   20       0\n",
       "99   26       0\n",
       "\n",
       "[100 rows x 2 columns]"
      ]
     },
     "execution_count": 17,
     "metadata": {},
     "output_type": "execute_result"
    }
   ],
   "source": [
    "dataset[[\"Age\", \"Target\"]]"
   ]
  },
  {
   "cell_type": "code",
   "execution_count": 19,
   "id": "881d799f",
   "metadata": {},
   "outputs": [
    {
     "data": {
      "text/plain": [
       "Age          20\n",
       "Income    74000\n",
       "Target        0\n",
       "Name: 50, dtype: int64"
      ]
     },
     "execution_count": 19,
     "metadata": {},
     "output_type": "execute_result"
    }
   ],
   "source": [
    "dataset.loc[50]"
   ]
  },
  {
   "cell_type": "code",
   "execution_count": 20,
   "id": "0c486225",
   "metadata": {},
   "outputs": [
    {
     "data": {
      "application/vnd.microsoft.datawrangler.viewer.v0+json": {
       "columns": [
        {
         "name": "index",
         "rawType": "int64",
         "type": "integer"
        },
        {
         "name": "Age",
         "rawType": "int64",
         "type": "integer"
        },
        {
         "name": "Income",
         "rawType": "int64",
         "type": "integer"
        },
        {
         "name": "Target",
         "rawType": "int64",
         "type": "integer"
        }
       ],
       "conversionMethod": "pd.DataFrame",
       "ref": "b245991e-f551-4924-a09b-576873f741fa",
       "rows": [
        [
         "50",
         "20",
         "74000",
         "0"
        ],
        [
         "51",
         "26",
         "15000",
         "0"
        ],
        [
         "52",
         "41",
         "45000",
         "0"
        ],
        [
         "53",
         "31",
         "76000",
         "0"
        ],
        [
         "54",
         "36",
         "50000",
         "0"
        ],
        [
         "55",
         "40",
         "47000",
         "0"
        ],
        [
         "56",
         "31",
         "15000",
         "0"
        ],
        [
         "57",
         "46",
         "59000",
         "0"
        ],
        [
         "58",
         "29",
         "75000",
         "0"
        ],
        [
         "59",
         "26",
         "30000",
         "0"
        ],
        [
         "60",
         "32",
         "135000",
         "1"
        ]
       ],
       "shape": {
        "columns": 3,
        "rows": 11
       }
      },
      "text/html": [
       "<div>\n",
       "<style scoped>\n",
       "    .dataframe tbody tr th:only-of-type {\n",
       "        vertical-align: middle;\n",
       "    }\n",
       "\n",
       "    .dataframe tbody tr th {\n",
       "        vertical-align: top;\n",
       "    }\n",
       "\n",
       "    .dataframe thead th {\n",
       "        text-align: right;\n",
       "    }\n",
       "</style>\n",
       "<table border=\"1\" class=\"dataframe\">\n",
       "  <thead>\n",
       "    <tr style=\"text-align: right;\">\n",
       "      <th></th>\n",
       "      <th>Age</th>\n",
       "      <th>Income</th>\n",
       "      <th>Target</th>\n",
       "    </tr>\n",
       "  </thead>\n",
       "  <tbody>\n",
       "    <tr>\n",
       "      <th>50</th>\n",
       "      <td>20</td>\n",
       "      <td>74000</td>\n",
       "      <td>0</td>\n",
       "    </tr>\n",
       "    <tr>\n",
       "      <th>51</th>\n",
       "      <td>26</td>\n",
       "      <td>15000</td>\n",
       "      <td>0</td>\n",
       "    </tr>\n",
       "    <tr>\n",
       "      <th>52</th>\n",
       "      <td>41</td>\n",
       "      <td>45000</td>\n",
       "      <td>0</td>\n",
       "    </tr>\n",
       "    <tr>\n",
       "      <th>53</th>\n",
       "      <td>31</td>\n",
       "      <td>76000</td>\n",
       "      <td>0</td>\n",
       "    </tr>\n",
       "    <tr>\n",
       "      <th>54</th>\n",
       "      <td>36</td>\n",
       "      <td>50000</td>\n",
       "      <td>0</td>\n",
       "    </tr>\n",
       "    <tr>\n",
       "      <th>55</th>\n",
       "      <td>40</td>\n",
       "      <td>47000</td>\n",
       "      <td>0</td>\n",
       "    </tr>\n",
       "    <tr>\n",
       "      <th>56</th>\n",
       "      <td>31</td>\n",
       "      <td>15000</td>\n",
       "      <td>0</td>\n",
       "    </tr>\n",
       "    <tr>\n",
       "      <th>57</th>\n",
       "      <td>46</td>\n",
       "      <td>59000</td>\n",
       "      <td>0</td>\n",
       "    </tr>\n",
       "    <tr>\n",
       "      <th>58</th>\n",
       "      <td>29</td>\n",
       "      <td>75000</td>\n",
       "      <td>0</td>\n",
       "    </tr>\n",
       "    <tr>\n",
       "      <th>59</th>\n",
       "      <td>26</td>\n",
       "      <td>30000</td>\n",
       "      <td>0</td>\n",
       "    </tr>\n",
       "    <tr>\n",
       "      <th>60</th>\n",
       "      <td>32</td>\n",
       "      <td>135000</td>\n",
       "      <td>1</td>\n",
       "    </tr>\n",
       "  </tbody>\n",
       "</table>\n",
       "</div>"
      ],
      "text/plain": [
       "    Age  Income  Target\n",
       "50   20   74000       0\n",
       "51   26   15000       0\n",
       "52   41   45000       0\n",
       "53   31   76000       0\n",
       "54   36   50000       0\n",
       "55   40   47000       0\n",
       "56   31   15000       0\n",
       "57   46   59000       0\n",
       "58   29   75000       0\n",
       "59   26   30000       0\n",
       "60   32  135000       1"
      ]
     },
     "execution_count": 20,
     "metadata": {},
     "output_type": "execute_result"
    }
   ],
   "source": [
    "dataset.loc[50:60]"
   ]
  },
  {
   "cell_type": "code",
   "execution_count": 21,
   "id": "e7f8e3fa",
   "metadata": {},
   "outputs": [
    {
     "data": {
      "application/vnd.microsoft.datawrangler.viewer.v0+json": {
       "columns": [
        {
         "name": "index",
         "rawType": "int64",
         "type": "integer"
        },
        {
         "name": "Age",
         "rawType": "int64",
         "type": "integer"
        },
        {
         "name": "Income",
         "rawType": "int64",
         "type": "integer"
        },
        {
         "name": "Target",
         "rawType": "int64",
         "type": "integer"
        }
       ],
       "conversionMethod": "pd.DataFrame",
       "ref": "6d67f338-5a79-4e54-bb91-bd16682e4b40",
       "rows": [
        [
         "4",
         "33",
         "149000",
         "1"
        ],
        [
         "38",
         "30",
         "107000",
         "1"
        ],
        [
         "60",
         "32",
         "135000",
         "1"
        ],
        [
         "69",
         "29",
         "148000",
         "1"
        ],
        [
         "72",
         "34",
         "115000",
         "0"
        ],
        [
         "73",
         "26",
         "118000",
         "0"
        ],
        [
         "83",
         "32",
         "117000",
         "1"
        ]
       ],
       "shape": {
        "columns": 3,
        "rows": 7
       }
      },
      "text/html": [
       "<div>\n",
       "<style scoped>\n",
       "    .dataframe tbody tr th:only-of-type {\n",
       "        vertical-align: middle;\n",
       "    }\n",
       "\n",
       "    .dataframe tbody tr th {\n",
       "        vertical-align: top;\n",
       "    }\n",
       "\n",
       "    .dataframe thead th {\n",
       "        text-align: right;\n",
       "    }\n",
       "</style>\n",
       "<table border=\"1\" class=\"dataframe\">\n",
       "  <thead>\n",
       "    <tr style=\"text-align: right;\">\n",
       "      <th></th>\n",
       "      <th>Age</th>\n",
       "      <th>Income</th>\n",
       "      <th>Target</th>\n",
       "    </tr>\n",
       "  </thead>\n",
       "  <tbody>\n",
       "    <tr>\n",
       "      <th>4</th>\n",
       "      <td>33</td>\n",
       "      <td>149000</td>\n",
       "      <td>1</td>\n",
       "    </tr>\n",
       "    <tr>\n",
       "      <th>38</th>\n",
       "      <td>30</td>\n",
       "      <td>107000</td>\n",
       "      <td>1</td>\n",
       "    </tr>\n",
       "    <tr>\n",
       "      <th>60</th>\n",
       "      <td>32</td>\n",
       "      <td>135000</td>\n",
       "      <td>1</td>\n",
       "    </tr>\n",
       "    <tr>\n",
       "      <th>69</th>\n",
       "      <td>29</td>\n",
       "      <td>148000</td>\n",
       "      <td>1</td>\n",
       "    </tr>\n",
       "    <tr>\n",
       "      <th>72</th>\n",
       "      <td>34</td>\n",
       "      <td>115000</td>\n",
       "      <td>0</td>\n",
       "    </tr>\n",
       "    <tr>\n",
       "      <th>73</th>\n",
       "      <td>26</td>\n",
       "      <td>118000</td>\n",
       "      <td>0</td>\n",
       "    </tr>\n",
       "    <tr>\n",
       "      <th>83</th>\n",
       "      <td>32</td>\n",
       "      <td>117000</td>\n",
       "      <td>1</td>\n",
       "    </tr>\n",
       "  </tbody>\n",
       "</table>\n",
       "</div>"
      ],
      "text/plain": [
       "    Age  Income  Target\n",
       "4    33  149000       1\n",
       "38   30  107000       1\n",
       "60   32  135000       1\n",
       "69   29  148000       1\n",
       "72   34  115000       0\n",
       "73   26  118000       0\n",
       "83   32  117000       1"
      ]
     },
     "execution_count": 21,
     "metadata": {},
     "output_type": "execute_result"
    }
   ],
   "source": [
    "dataset[(dataset[\"Income\"] > 100000)]"
   ]
  },
  {
   "cell_type": "code",
   "execution_count": 26,
   "id": "a71cda78",
   "metadata": {},
   "outputs": [
    {
     "data": {
      "application/vnd.microsoft.datawrangler.viewer.v0+json": {
       "columns": [
        {
         "name": "index",
         "rawType": "int64",
         "type": "integer"
        },
        {
         "name": "iteams",
         "rawType": "object",
         "type": "string"
        },
        {
         "name": "price",
         "rawType": "float64",
         "type": "float"
        }
       ],
       "conversionMethod": "pd.DataFrame",
       "ref": "28fa136e-a9a3-4ced-811e-2ffba63ee445",
       "rows": [
        [
         "0",
         "A",
         "70.0"
        ],
        [
         "1",
         "B",
         null
        ],
        [
         "2",
         "C",
         "50.0"
        ],
        [
         "3",
         "D",
         null
        ],
        [
         "4",
         "E",
         "40.0"
        ],
        [
         "5",
         "F",
         "32.0"
        ],
        [
         "6",
         "G",
         "45.0"
        ],
        [
         "7",
         "H",
         "69.0"
        ],
        [
         "8",
         "I",
         null
        ],
        [
         "9",
         "J",
         null
        ]
       ],
       "shape": {
        "columns": 2,
        "rows": 10
       }
      },
      "text/html": [
       "<div>\n",
       "<style scoped>\n",
       "    .dataframe tbody tr th:only-of-type {\n",
       "        vertical-align: middle;\n",
       "    }\n",
       "\n",
       "    .dataframe tbody tr th {\n",
       "        vertical-align: top;\n",
       "    }\n",
       "\n",
       "    .dataframe thead th {\n",
       "        text-align: right;\n",
       "    }\n",
       "</style>\n",
       "<table border=\"1\" class=\"dataframe\">\n",
       "  <thead>\n",
       "    <tr style=\"text-align: right;\">\n",
       "      <th></th>\n",
       "      <th>iteams</th>\n",
       "      <th>price</th>\n",
       "    </tr>\n",
       "  </thead>\n",
       "  <tbody>\n",
       "    <tr>\n",
       "      <th>0</th>\n",
       "      <td>A</td>\n",
       "      <td>70.0</td>\n",
       "    </tr>\n",
       "    <tr>\n",
       "      <th>1</th>\n",
       "      <td>B</td>\n",
       "      <td>NaN</td>\n",
       "    </tr>\n",
       "    <tr>\n",
       "      <th>2</th>\n",
       "      <td>C</td>\n",
       "      <td>50.0</td>\n",
       "    </tr>\n",
       "    <tr>\n",
       "      <th>3</th>\n",
       "      <td>D</td>\n",
       "      <td>NaN</td>\n",
       "    </tr>\n",
       "    <tr>\n",
       "      <th>4</th>\n",
       "      <td>E</td>\n",
       "      <td>40.0</td>\n",
       "    </tr>\n",
       "    <tr>\n",
       "      <th>5</th>\n",
       "      <td>F</td>\n",
       "      <td>32.0</td>\n",
       "    </tr>\n",
       "    <tr>\n",
       "      <th>6</th>\n",
       "      <td>G</td>\n",
       "      <td>45.0</td>\n",
       "    </tr>\n",
       "    <tr>\n",
       "      <th>7</th>\n",
       "      <td>H</td>\n",
       "      <td>69.0</td>\n",
       "    </tr>\n",
       "    <tr>\n",
       "      <th>8</th>\n",
       "      <td>I</td>\n",
       "      <td>NaN</td>\n",
       "    </tr>\n",
       "    <tr>\n",
       "      <th>9</th>\n",
       "      <td>J</td>\n",
       "      <td>NaN</td>\n",
       "    </tr>\n",
       "  </tbody>\n",
       "</table>\n",
       "</div>"
      ],
      "text/plain": [
       "  iteams  price\n",
       "0      A   70.0\n",
       "1      B    NaN\n",
       "2      C   50.0\n",
       "3      D    NaN\n",
       "4      E   40.0\n",
       "5      F   32.0\n",
       "6      G   45.0\n",
       "7      H   69.0\n",
       "8      I    NaN\n",
       "9      J    NaN"
      ]
     },
     "execution_count": 26,
     "metadata": {},
     "output_type": "execute_result"
    }
   ],
   "source": [
    "import pandas as pd\n",
    "\n",
    "\n",
    "example = pd.read_csv(\"E://Data Science//session4//session 4//abc.csv\")\n",
    "\n",
    "example"
   ]
  },
  {
   "cell_type": "code",
   "execution_count": 27,
   "id": "80be1dca",
   "metadata": {},
   "outputs": [
    {
     "data": {
      "text/plain": [
       "0     True\n",
       "1    False\n",
       "2     True\n",
       "3    False\n",
       "4     True\n",
       "5     True\n",
       "6     True\n",
       "7     True\n",
       "8    False\n",
       "9    False\n",
       "Name: price, dtype: bool"
      ]
     },
     "execution_count": 27,
     "metadata": {},
     "output_type": "execute_result"
    }
   ],
   "source": [
    "example[\"price\"].notnull()"
   ]
  },
  {
   "cell_type": "code",
   "execution_count": 28,
   "id": "a500a153",
   "metadata": {},
   "outputs": [
    {
     "data": {
      "application/vnd.microsoft.datawrangler.viewer.v0+json": {
       "columns": [
        {
         "name": "index",
         "rawType": "int64",
         "type": "integer"
        },
        {
         "name": "iteams",
         "rawType": "object",
         "type": "string"
        },
        {
         "name": "price",
         "rawType": "float64",
         "type": "float"
        }
       ],
       "conversionMethod": "pd.DataFrame",
       "ref": "eab2dde0-7375-4682-9d0a-3e6c933c8efc",
       "rows": [
        [
         "1",
         "B",
         null
        ],
        [
         "3",
         "D",
         null
        ],
        [
         "8",
         "I",
         null
        ],
        [
         "9",
         "J",
         null
        ]
       ],
       "shape": {
        "columns": 2,
        "rows": 4
       }
      },
      "text/html": [
       "<div>\n",
       "<style scoped>\n",
       "    .dataframe tbody tr th:only-of-type {\n",
       "        vertical-align: middle;\n",
       "    }\n",
       "\n",
       "    .dataframe tbody tr th {\n",
       "        vertical-align: top;\n",
       "    }\n",
       "\n",
       "    .dataframe thead th {\n",
       "        text-align: right;\n",
       "    }\n",
       "</style>\n",
       "<table border=\"1\" class=\"dataframe\">\n",
       "  <thead>\n",
       "    <tr style=\"text-align: right;\">\n",
       "      <th></th>\n",
       "      <th>iteams</th>\n",
       "      <th>price</th>\n",
       "    </tr>\n",
       "  </thead>\n",
       "  <tbody>\n",
       "    <tr>\n",
       "      <th>1</th>\n",
       "      <td>B</td>\n",
       "      <td>NaN</td>\n",
       "    </tr>\n",
       "    <tr>\n",
       "      <th>3</th>\n",
       "      <td>D</td>\n",
       "      <td>NaN</td>\n",
       "    </tr>\n",
       "    <tr>\n",
       "      <th>8</th>\n",
       "      <td>I</td>\n",
       "      <td>NaN</td>\n",
       "    </tr>\n",
       "    <tr>\n",
       "      <th>9</th>\n",
       "      <td>J</td>\n",
       "      <td>NaN</td>\n",
       "    </tr>\n",
       "  </tbody>\n",
       "</table>\n",
       "</div>"
      ],
      "text/plain": [
       "  iteams  price\n",
       "1      B    NaN\n",
       "3      D    NaN\n",
       "8      I    NaN\n",
       "9      J    NaN"
      ]
     },
     "execution_count": 28,
     "metadata": {},
     "output_type": "execute_result"
    }
   ],
   "source": [
    "example[example[\"price\"].isnull()]"
   ]
  },
  {
   "cell_type": "code",
   "execution_count": 29,
   "id": "bd8c6eb7",
   "metadata": {},
   "outputs": [
    {
     "data": {
      "text/plain": [
       "0    70.0\n",
       "1    70.0\n",
       "2    50.0\n",
       "3    70.0\n",
       "4    40.0\n",
       "5    32.0\n",
       "6    45.0\n",
       "7    69.0\n",
       "8    70.0\n",
       "9    70.0\n",
       "Name: price, dtype: float64"
      ]
     },
     "execution_count": 29,
     "metadata": {},
     "output_type": "execute_result"
    }
   ],
   "source": [
    "example[\"price\"].fillna(example[\"price\"].max())"
   ]
  },
  {
   "cell_type": "code",
   "execution_count": 25,
   "id": "663095b7",
   "metadata": {},
   "outputs": [
    {
     "data": {
      "text/html": [
       "<div>\n",
       "<style scoped>\n",
       "    .dataframe tbody tr th:only-of-type {\n",
       "        vertical-align: middle;\n",
       "    }\n",
       "\n",
       "    .dataframe tbody tr th {\n",
       "        vertical-align: top;\n",
       "    }\n",
       "\n",
       "    .dataframe thead th {\n",
       "        text-align: right;\n",
       "    }\n",
       "</style>\n",
       "<table border=\"1\" class=\"dataframe\">\n",
       "  <thead>\n",
       "    <tr style=\"text-align: right;\">\n",
       "      <th></th>\n",
       "      <th>iteams</th>\n",
       "      <th>price</th>\n",
       "    </tr>\n",
       "  </thead>\n",
       "  <tbody>\n",
       "    <tr>\n",
       "      <th>0</th>\n",
       "      <td>A</td>\n",
       "      <td>70.000000</td>\n",
       "    </tr>\n",
       "    <tr>\n",
       "      <th>1</th>\n",
       "      <td>B</td>\n",
       "      <td>15.517732</td>\n",
       "    </tr>\n",
       "    <tr>\n",
       "      <th>2</th>\n",
       "      <td>C</td>\n",
       "      <td>50.000000</td>\n",
       "    </tr>\n",
       "    <tr>\n",
       "      <th>3</th>\n",
       "      <td>D</td>\n",
       "      <td>15.517732</td>\n",
       "    </tr>\n",
       "    <tr>\n",
       "      <th>4</th>\n",
       "      <td>E</td>\n",
       "      <td>40.000000</td>\n",
       "    </tr>\n",
       "    <tr>\n",
       "      <th>5</th>\n",
       "      <td>F</td>\n",
       "      <td>32.000000</td>\n",
       "    </tr>\n",
       "    <tr>\n",
       "      <th>6</th>\n",
       "      <td>G</td>\n",
       "      <td>45.000000</td>\n",
       "    </tr>\n",
       "    <tr>\n",
       "      <th>7</th>\n",
       "      <td>H</td>\n",
       "      <td>69.000000</td>\n",
       "    </tr>\n",
       "    <tr>\n",
       "      <th>8</th>\n",
       "      <td>I</td>\n",
       "      <td>15.517732</td>\n",
       "    </tr>\n",
       "    <tr>\n",
       "      <th>9</th>\n",
       "      <td>J</td>\n",
       "      <td>15.517732</td>\n",
       "    </tr>\n",
       "  </tbody>\n",
       "</table>\n",
       "</div>"
      ],
      "text/plain": [
       "  iteams      price\n",
       "0      A  70.000000\n",
       "1      B  15.517732\n",
       "2      C  50.000000\n",
       "3      D  15.517732\n",
       "4      E  40.000000\n",
       "5      F  32.000000\n",
       "6      G  45.000000\n",
       "7      H  69.000000\n",
       "8      I  15.517732\n",
       "9      J  15.517732"
      ]
     },
     "execution_count": 25,
     "metadata": {},
     "output_type": "execute_result"
    }
   ],
   "source": [
    "example['price'] = example['price'].fillna(example['price'].std())\n",
    "example"
   ]
  },
  {
   "cell_type": "code",
   "execution_count": 30,
   "id": "1211ae77",
   "metadata": {},
   "outputs": [
    {
     "data": {
      "application/vnd.microsoft.datawrangler.viewer.v0+json": {
       "columns": [
        {
         "name": "index",
         "rawType": "int64",
         "type": "integer"
        },
        {
         "name": "iteams",
         "rawType": "object",
         "type": "string"
        },
        {
         "name": "price",
         "rawType": "float64",
         "type": "float"
        }
       ],
       "conversionMethod": "pd.DataFrame",
       "ref": "bad39514-3920-4eeb-99cd-adb477fcca80",
       "rows": [
        [
         "0",
         "A",
         "70.0"
        ],
        [
         "1",
         "B",
         "32.0"
        ],
        [
         "2",
         "C",
         "50.0"
        ],
        [
         "3",
         "D",
         "32.0"
        ],
        [
         "4",
         "E",
         "40.0"
        ],
        [
         "5",
         "F",
         "32.0"
        ],
        [
         "6",
         "G",
         "45.0"
        ],
        [
         "7",
         "H",
         "69.0"
        ],
        [
         "8",
         "I",
         "32.0"
        ],
        [
         "9",
         "J",
         "32.0"
        ]
       ],
       "shape": {
        "columns": 2,
        "rows": 10
       }
      },
      "text/html": [
       "<div>\n",
       "<style scoped>\n",
       "    .dataframe tbody tr th:only-of-type {\n",
       "        vertical-align: middle;\n",
       "    }\n",
       "\n",
       "    .dataframe tbody tr th {\n",
       "        vertical-align: top;\n",
       "    }\n",
       "\n",
       "    .dataframe thead th {\n",
       "        text-align: right;\n",
       "    }\n",
       "</style>\n",
       "<table border=\"1\" class=\"dataframe\">\n",
       "  <thead>\n",
       "    <tr style=\"text-align: right;\">\n",
       "      <th></th>\n",
       "      <th>iteams</th>\n",
       "      <th>price</th>\n",
       "    </tr>\n",
       "  </thead>\n",
       "  <tbody>\n",
       "    <tr>\n",
       "      <th>0</th>\n",
       "      <td>A</td>\n",
       "      <td>70.0</td>\n",
       "    </tr>\n",
       "    <tr>\n",
       "      <th>1</th>\n",
       "      <td>B</td>\n",
       "      <td>32.0</td>\n",
       "    </tr>\n",
       "    <tr>\n",
       "      <th>2</th>\n",
       "      <td>C</td>\n",
       "      <td>50.0</td>\n",
       "    </tr>\n",
       "    <tr>\n",
       "      <th>3</th>\n",
       "      <td>D</td>\n",
       "      <td>32.0</td>\n",
       "    </tr>\n",
       "    <tr>\n",
       "      <th>4</th>\n",
       "      <td>E</td>\n",
       "      <td>40.0</td>\n",
       "    </tr>\n",
       "    <tr>\n",
       "      <th>5</th>\n",
       "      <td>F</td>\n",
       "      <td>32.0</td>\n",
       "    </tr>\n",
       "    <tr>\n",
       "      <th>6</th>\n",
       "      <td>G</td>\n",
       "      <td>45.0</td>\n",
       "    </tr>\n",
       "    <tr>\n",
       "      <th>7</th>\n",
       "      <td>H</td>\n",
       "      <td>69.0</td>\n",
       "    </tr>\n",
       "    <tr>\n",
       "      <th>8</th>\n",
       "      <td>I</td>\n",
       "      <td>32.0</td>\n",
       "    </tr>\n",
       "    <tr>\n",
       "      <th>9</th>\n",
       "      <td>J</td>\n",
       "      <td>32.0</td>\n",
       "    </tr>\n",
       "  </tbody>\n",
       "</table>\n",
       "</div>"
      ],
      "text/plain": [
       "  iteams  price\n",
       "0      A   70.0\n",
       "1      B   32.0\n",
       "2      C   50.0\n",
       "3      D   32.0\n",
       "4      E   40.0\n",
       "5      F   32.0\n",
       "6      G   45.0\n",
       "7      H   69.0\n",
       "8      I   32.0\n",
       "9      J   32.0"
      ]
     },
     "execution_count": 30,
     "metadata": {},
     "output_type": "execute_result"
    }
   ],
   "source": [
    "example[\"price\"] = example[\"price\"].fillna(example[\"price\"].min())\n",
    "example"
   ]
  },
  {
   "cell_type": "code",
   "execution_count": 31,
   "id": "13d8e14a",
   "metadata": {},
   "outputs": [
    {
     "data": {
      "application/vnd.microsoft.datawrangler.viewer.v0+json": {
       "columns": [
        {
         "name": "index",
         "rawType": "int64",
         "type": "integer"
        },
        {
         "name": "iteams",
         "rawType": "object",
         "type": "string"
        },
        {
         "name": "price",
         "rawType": "float64",
         "type": "float"
        }
       ],
       "conversionMethod": "pd.DataFrame",
       "ref": "c8620498-d9f9-4fc5-bf30-e2d9825b245f",
       "rows": [
        [
         "0",
         "A",
         "70.0"
        ],
        [
         "1",
         "B",
         "32.0"
        ],
        [
         "2",
         "C",
         "50.0"
        ],
        [
         "3",
         "D",
         "32.0"
        ],
        [
         "4",
         "E",
         "40.0"
        ],
        [
         "5",
         "F",
         "32.0"
        ],
        [
         "6",
         "G",
         "45.0"
        ],
        [
         "7",
         "H",
         "69.0"
        ],
        [
         "8",
         "I",
         "32.0"
        ],
        [
         "9",
         "J",
         "32.0"
        ]
       ],
       "shape": {
        "columns": 2,
        "rows": 10
       }
      },
      "text/html": [
       "<div>\n",
       "<style scoped>\n",
       "    .dataframe tbody tr th:only-of-type {\n",
       "        vertical-align: middle;\n",
       "    }\n",
       "\n",
       "    .dataframe tbody tr th {\n",
       "        vertical-align: top;\n",
       "    }\n",
       "\n",
       "    .dataframe thead th {\n",
       "        text-align: right;\n",
       "    }\n",
       "</style>\n",
       "<table border=\"1\" class=\"dataframe\">\n",
       "  <thead>\n",
       "    <tr style=\"text-align: right;\">\n",
       "      <th></th>\n",
       "      <th>iteams</th>\n",
       "      <th>price</th>\n",
       "    </tr>\n",
       "  </thead>\n",
       "  <tbody>\n",
       "    <tr>\n",
       "      <th>0</th>\n",
       "      <td>A</td>\n",
       "      <td>70.0</td>\n",
       "    </tr>\n",
       "    <tr>\n",
       "      <th>1</th>\n",
       "      <td>B</td>\n",
       "      <td>32.0</td>\n",
       "    </tr>\n",
       "    <tr>\n",
       "      <th>2</th>\n",
       "      <td>C</td>\n",
       "      <td>50.0</td>\n",
       "    </tr>\n",
       "    <tr>\n",
       "      <th>3</th>\n",
       "      <td>D</td>\n",
       "      <td>32.0</td>\n",
       "    </tr>\n",
       "    <tr>\n",
       "      <th>4</th>\n",
       "      <td>E</td>\n",
       "      <td>40.0</td>\n",
       "    </tr>\n",
       "    <tr>\n",
       "      <th>5</th>\n",
       "      <td>F</td>\n",
       "      <td>32.0</td>\n",
       "    </tr>\n",
       "    <tr>\n",
       "      <th>6</th>\n",
       "      <td>G</td>\n",
       "      <td>45.0</td>\n",
       "    </tr>\n",
       "    <tr>\n",
       "      <th>7</th>\n",
       "      <td>H</td>\n",
       "      <td>69.0</td>\n",
       "    </tr>\n",
       "    <tr>\n",
       "      <th>8</th>\n",
       "      <td>I</td>\n",
       "      <td>32.0</td>\n",
       "    </tr>\n",
       "    <tr>\n",
       "      <th>9</th>\n",
       "      <td>J</td>\n",
       "      <td>32.0</td>\n",
       "    </tr>\n",
       "  </tbody>\n",
       "</table>\n",
       "</div>"
      ],
      "text/plain": [
       "  iteams  price\n",
       "0      A   70.0\n",
       "1      B   32.0\n",
       "2      C   50.0\n",
       "3      D   32.0\n",
       "4      E   40.0\n",
       "5      F   32.0\n",
       "6      G   45.0\n",
       "7      H   69.0\n",
       "8      I   32.0\n",
       "9      J   32.0"
      ]
     },
     "execution_count": 31,
     "metadata": {},
     "output_type": "execute_result"
    }
   ],
   "source": [
    "example[\"price\"] = example[\"price\"].fillna(example[\"price\"].max())\n",
    "example"
   ]
  },
  {
   "cell_type": "code",
   "execution_count": 32,
   "id": "171be4f1",
   "metadata": {},
   "outputs": [
    {
     "data": {
      "application/vnd.microsoft.datawrangler.viewer.v0+json": {
       "columns": [
        {
         "name": "index",
         "rawType": "int64",
         "type": "integer"
        },
        {
         "name": "a",
         "rawType": "int32",
         "type": "integer"
        },
        {
         "name": "c",
         "rawType": "int32",
         "type": "integer"
        },
        {
         "name": "d",
         "rawType": "int32",
         "type": "integer"
        },
        {
         "name": "e",
         "rawType": "int32",
         "type": "integer"
        }
       ],
       "conversionMethod": "pd.DataFrame",
       "ref": "e3b4cdf1-c20c-4b2a-9728-22925e998fc1",
       "rows": [
        [
         "0",
         "89",
         "66",
         "15",
         "79"
        ],
        [
         "1",
         "94",
         "91",
         "46",
         "23"
        ],
        [
         "2",
         "4",
         "16",
         "3",
         "5"
        ],
        [
         "3",
         "18",
         "68",
         "97",
         "7"
        ],
        [
         "4",
         "27",
         "61",
         "76",
         "90"
        ],
        [
         "5",
         "68",
         "41",
         "7",
         "61"
        ],
        [
         "6",
         "66",
         "14",
         "4",
         "79"
        ],
        [
         "7",
         "69",
         "97",
         "26",
         "51"
        ],
        [
         "8",
         "4",
         "13",
         "13",
         "12"
        ],
        [
         "9",
         "1",
         "90",
         "21",
         "40"
        ],
        [
         "10",
         "45",
         "13",
         "50",
         "35"
        ],
        [
         "11",
         "56",
         "76",
         "50",
         "82"
        ],
        [
         "12",
         "48",
         "11",
         "94",
         "51"
        ],
        [
         "13",
         "56",
         "14",
         "34",
         "64"
        ],
        [
         "14",
         "25",
         "47",
         "28",
         "62"
        ],
        [
         "15",
         "44",
         "89",
         "58",
         "96"
        ],
        [
         "16",
         "60",
         "39",
         "29",
         "74"
        ],
        [
         "17",
         "46",
         "57",
         "82",
         "67"
        ],
        [
         "18",
         "63",
         "11",
         "15",
         "7"
        ],
        [
         "19",
         "11",
         "85",
         "46",
         "50"
        ],
        [
         "20",
         "87",
         "2",
         "9",
         "81"
        ],
        [
         "21",
         "2",
         "5",
         "3",
         "87"
        ],
        [
         "22",
         "59",
         "34",
         "25",
         "72"
        ],
        [
         "23",
         "96",
         "78",
         "40",
         "74"
        ],
        [
         "24",
         "19",
         "11",
         "51",
         "61"
        ],
        [
         "25",
         "18",
         "34",
         "3",
         "75"
        ],
        [
         "26",
         "55",
         "97",
         "33",
         "4"
        ],
        [
         "27",
         "38",
         "7",
         "82",
         "46"
        ],
        [
         "28",
         "8",
         "73",
         "75",
         "9"
        ],
        [
         "29",
         "91",
         "30",
         "2",
         "14"
        ],
        [
         "30",
         "51",
         "10",
         "99",
         "5"
        ],
        [
         "31",
         "14",
         "74",
         "79",
         "70"
        ],
        [
         "32",
         "81",
         "71",
         "22",
         "68"
        ],
        [
         "33",
         "62",
         "46",
         "14",
         "63"
        ],
        [
         "34",
         "22",
         "42",
         "83",
         "95"
        ],
        [
         "35",
         "56",
         "28",
         "4",
         "24"
        ],
        [
         "36",
         "46",
         "84",
         "96",
         "36"
        ],
        [
         "37",
         "41",
         "85",
         "80",
         "53"
        ],
        [
         "38",
         "88",
         "4",
         "75",
         "74"
        ],
        [
         "39",
         "95",
         "70",
         "35",
         "53"
        ],
        [
         "40",
         "34",
         "53",
         "95",
         "54"
        ],
        [
         "41",
         "74",
         "46",
         "35",
         "42"
        ],
        [
         "42",
         "28",
         "54",
         "59",
         "23"
        ],
        [
         "43",
         "88",
         "30",
         "4",
         "32"
        ],
        [
         "44",
         "96",
         "79",
         "98",
         "82"
        ],
        [
         "45",
         "79",
         "69",
         "10",
         "81"
        ],
        [
         "46",
         "47",
         "27",
         "79",
         "71"
        ],
        [
         "47",
         "83",
         "84",
         "18",
         "90"
        ],
        [
         "48",
         "57",
         "29",
         "25",
         "15"
        ],
        [
         "49",
         "66",
         "14",
         "4",
         "81"
        ]
       ],
       "shape": {
        "columns": 4,
        "rows": 1000
       }
      },
      "text/html": [
       "<div>\n",
       "<style scoped>\n",
       "    .dataframe tbody tr th:only-of-type {\n",
       "        vertical-align: middle;\n",
       "    }\n",
       "\n",
       "    .dataframe tbody tr th {\n",
       "        vertical-align: top;\n",
       "    }\n",
       "\n",
       "    .dataframe thead th {\n",
       "        text-align: right;\n",
       "    }\n",
       "</style>\n",
       "<table border=\"1\" class=\"dataframe\">\n",
       "  <thead>\n",
       "    <tr style=\"text-align: right;\">\n",
       "      <th></th>\n",
       "      <th>a</th>\n",
       "      <th>c</th>\n",
       "      <th>d</th>\n",
       "      <th>e</th>\n",
       "    </tr>\n",
       "  </thead>\n",
       "  <tbody>\n",
       "    <tr>\n",
       "      <th>0</th>\n",
       "      <td>89</td>\n",
       "      <td>66</td>\n",
       "      <td>15</td>\n",
       "      <td>79</td>\n",
       "    </tr>\n",
       "    <tr>\n",
       "      <th>1</th>\n",
       "      <td>94</td>\n",
       "      <td>91</td>\n",
       "      <td>46</td>\n",
       "      <td>23</td>\n",
       "    </tr>\n",
       "    <tr>\n",
       "      <th>2</th>\n",
       "      <td>4</td>\n",
       "      <td>16</td>\n",
       "      <td>3</td>\n",
       "      <td>5</td>\n",
       "    </tr>\n",
       "    <tr>\n",
       "      <th>3</th>\n",
       "      <td>18</td>\n",
       "      <td>68</td>\n",
       "      <td>97</td>\n",
       "      <td>7</td>\n",
       "    </tr>\n",
       "    <tr>\n",
       "      <th>4</th>\n",
       "      <td>27</td>\n",
       "      <td>61</td>\n",
       "      <td>76</td>\n",
       "      <td>90</td>\n",
       "    </tr>\n",
       "    <tr>\n",
       "      <th>...</th>\n",
       "      <td>...</td>\n",
       "      <td>...</td>\n",
       "      <td>...</td>\n",
       "      <td>...</td>\n",
       "    </tr>\n",
       "    <tr>\n",
       "      <th>995</th>\n",
       "      <td>13</td>\n",
       "      <td>69</td>\n",
       "      <td>57</td>\n",
       "      <td>74</td>\n",
       "    </tr>\n",
       "    <tr>\n",
       "      <th>996</th>\n",
       "      <td>15</td>\n",
       "      <td>8</td>\n",
       "      <td>75</td>\n",
       "      <td>20</td>\n",
       "    </tr>\n",
       "    <tr>\n",
       "      <th>997</th>\n",
       "      <td>54</td>\n",
       "      <td>76</td>\n",
       "      <td>66</td>\n",
       "      <td>47</td>\n",
       "    </tr>\n",
       "    <tr>\n",
       "      <th>998</th>\n",
       "      <td>94</td>\n",
       "      <td>54</td>\n",
       "      <td>44</td>\n",
       "      <td>98</td>\n",
       "    </tr>\n",
       "    <tr>\n",
       "      <th>999</th>\n",
       "      <td>41</td>\n",
       "      <td>29</td>\n",
       "      <td>12</td>\n",
       "      <td>33</td>\n",
       "    </tr>\n",
       "  </tbody>\n",
       "</table>\n",
       "<p>1000 rows × 4 columns</p>\n",
       "</div>"
      ],
      "text/plain": [
       "      a   c   d   e\n",
       "0    89  66  15  79\n",
       "1    94  91  46  23\n",
       "2     4  16   3   5\n",
       "3    18  68  97   7\n",
       "4    27  61  76  90\n",
       "..   ..  ..  ..  ..\n",
       "995  13  69  57  74\n",
       "996  15   8  75  20\n",
       "997  54  76  66  47\n",
       "998  94  54  44  98\n",
       "999  41  29  12  33\n",
       "\n",
       "[1000 rows x 4 columns]"
      ]
     },
     "execution_count": 32,
     "metadata": {},
     "output_type": "execute_result"
    }
   ],
   "source": [
    "df.drop([\"b\"], axis=\"columns\")"
   ]
  },
  {
   "cell_type": "code",
   "execution_count": 33,
   "id": "ce07e3fe",
   "metadata": {},
   "outputs": [
    {
     "data": {
      "application/vnd.microsoft.datawrangler.viewer.v0+json": {
       "columns": [
        {
         "name": "index",
         "rawType": "int64",
         "type": "integer"
        },
        {
         "name": "a",
         "rawType": "int32",
         "type": "integer"
        },
        {
         "name": "b",
         "rawType": "int32",
         "type": "integer"
        },
        {
         "name": "c",
         "rawType": "int32",
         "type": "integer"
        },
        {
         "name": "d",
         "rawType": "int32",
         "type": "integer"
        },
        {
         "name": "e",
         "rawType": "int32",
         "type": "integer"
        }
       ],
       "conversionMethod": "pd.DataFrame",
       "ref": "f2aad96a-1626-4f5c-a6ae-fade8f4592b0",
       "rows": [
        [
         "0",
         "89",
         "60",
         "66",
         "15",
         "79"
        ],
        [
         "1",
         "94",
         "51",
         "91",
         "46",
         "23"
        ],
        [
         "2",
         "4",
         "71",
         "16",
         "3",
         "5"
        ],
        [
         "3",
         "18",
         "61",
         "68",
         "97",
         "7"
        ],
        [
         "4",
         "27",
         "70",
         "61",
         "76",
         "90"
        ],
        [
         "5",
         "68",
         "9",
         "41",
         "7",
         "61"
        ],
        [
         "6",
         "66",
         "79",
         "14",
         "4",
         "79"
        ],
        [
         "7",
         "69",
         "74",
         "97",
         "26",
         "51"
        ],
        [
         "8",
         "4",
         "15",
         "13",
         "13",
         "12"
        ],
        [
         "9",
         "1",
         "58",
         "90",
         "21",
         "40"
        ],
        [
         "10",
         "45",
         "86",
         "13",
         "50",
         "35"
        ],
        [
         "11",
         "56",
         "25",
         "76",
         "50",
         "82"
        ],
        [
         "12",
         "48",
         "98",
         "11",
         "94",
         "51"
        ],
        [
         "13",
         "56",
         "79",
         "14",
         "34",
         "64"
        ],
        [
         "14",
         "25",
         "48",
         "47",
         "28",
         "62"
        ],
        [
         "15",
         "44",
         "37",
         "89",
         "58",
         "96"
        ],
        [
         "16",
         "60",
         "40",
         "39",
         "29",
         "74"
        ],
        [
         "17",
         "46",
         "25",
         "57",
         "82",
         "67"
        ],
        [
         "18",
         "63",
         "8",
         "11",
         "15",
         "7"
        ],
        [
         "19",
         "11",
         "88",
         "85",
         "46",
         "50"
        ],
        [
         "20",
         "87",
         "94",
         "2",
         "9",
         "81"
        ],
        [
         "21",
         "2",
         "24",
         "5",
         "3",
         "87"
        ],
        [
         "22",
         "59",
         "67",
         "34",
         "25",
         "72"
        ],
        [
         "23",
         "96",
         "67",
         "78",
         "40",
         "74"
        ],
        [
         "24",
         "19",
         "52",
         "11",
         "51",
         "61"
        ],
        [
         "25",
         "18",
         "98",
         "34",
         "3",
         "75"
        ],
        [
         "26",
         "55",
         "77",
         "97",
         "33",
         "4"
        ],
        [
         "27",
         "38",
         "8",
         "7",
         "82",
         "46"
        ],
        [
         "28",
         "8",
         "51",
         "73",
         "75",
         "9"
        ],
        [
         "29",
         "91",
         "31",
         "30",
         "2",
         "14"
        ],
        [
         "30",
         "51",
         "64",
         "10",
         "99",
         "5"
        ],
        [
         "31",
         "14",
         "53",
         "74",
         "79",
         "70"
        ],
        [
         "32",
         "81",
         "8",
         "71",
         "22",
         "68"
        ],
        [
         "33",
         "62",
         "22",
         "46",
         "14",
         "63"
        ],
        [
         "34",
         "22",
         "85",
         "42",
         "83",
         "95"
        ],
        [
         "35",
         "56",
         "73",
         "28",
         "4",
         "24"
        ],
        [
         "36",
         "46",
         "78",
         "84",
         "96",
         "36"
        ],
        [
         "37",
         "41",
         "39",
         "85",
         "80",
         "53"
        ],
        [
         "38",
         "88",
         "35",
         "4",
         "75",
         "74"
        ],
        [
         "39",
         "95",
         "73",
         "70",
         "35",
         "53"
        ],
        [
         "40",
         "34",
         "7",
         "53",
         "95",
         "54"
        ],
        [
         "41",
         "74",
         "32",
         "46",
         "35",
         "42"
        ],
        [
         "42",
         "28",
         "31",
         "54",
         "59",
         "23"
        ],
        [
         "43",
         "88",
         "73",
         "30",
         "4",
         "32"
        ],
        [
         "44",
         "96",
         "31",
         "79",
         "98",
         "82"
        ],
        [
         "45",
         "79",
         "33",
         "69",
         "10",
         "81"
        ],
        [
         "46",
         "47",
         "72",
         "27",
         "79",
         "71"
        ],
        [
         "47",
         "83",
         "57",
         "84",
         "18",
         "90"
        ],
        [
         "48",
         "57",
         "32",
         "29",
         "25",
         "15"
        ],
        [
         "49",
         "66",
         "81",
         "14",
         "4",
         "81"
        ]
       ],
       "shape": {
        "columns": 5,
        "rows": 1000
       }
      },
      "text/html": [
       "<div>\n",
       "<style scoped>\n",
       "    .dataframe tbody tr th:only-of-type {\n",
       "        vertical-align: middle;\n",
       "    }\n",
       "\n",
       "    .dataframe tbody tr th {\n",
       "        vertical-align: top;\n",
       "    }\n",
       "\n",
       "    .dataframe thead th {\n",
       "        text-align: right;\n",
       "    }\n",
       "</style>\n",
       "<table border=\"1\" class=\"dataframe\">\n",
       "  <thead>\n",
       "    <tr style=\"text-align: right;\">\n",
       "      <th></th>\n",
       "      <th>a</th>\n",
       "      <th>b</th>\n",
       "      <th>c</th>\n",
       "      <th>d</th>\n",
       "      <th>e</th>\n",
       "    </tr>\n",
       "  </thead>\n",
       "  <tbody>\n",
       "    <tr>\n",
       "      <th>0</th>\n",
       "      <td>89</td>\n",
       "      <td>60</td>\n",
       "      <td>66</td>\n",
       "      <td>15</td>\n",
       "      <td>79</td>\n",
       "    </tr>\n",
       "    <tr>\n",
       "      <th>1</th>\n",
       "      <td>94</td>\n",
       "      <td>51</td>\n",
       "      <td>91</td>\n",
       "      <td>46</td>\n",
       "      <td>23</td>\n",
       "    </tr>\n",
       "    <tr>\n",
       "      <th>2</th>\n",
       "      <td>4</td>\n",
       "      <td>71</td>\n",
       "      <td>16</td>\n",
       "      <td>3</td>\n",
       "      <td>5</td>\n",
       "    </tr>\n",
       "    <tr>\n",
       "      <th>3</th>\n",
       "      <td>18</td>\n",
       "      <td>61</td>\n",
       "      <td>68</td>\n",
       "      <td>97</td>\n",
       "      <td>7</td>\n",
       "    </tr>\n",
       "    <tr>\n",
       "      <th>4</th>\n",
       "      <td>27</td>\n",
       "      <td>70</td>\n",
       "      <td>61</td>\n",
       "      <td>76</td>\n",
       "      <td>90</td>\n",
       "    </tr>\n",
       "    <tr>\n",
       "      <th>...</th>\n",
       "      <td>...</td>\n",
       "      <td>...</td>\n",
       "      <td>...</td>\n",
       "      <td>...</td>\n",
       "      <td>...</td>\n",
       "    </tr>\n",
       "    <tr>\n",
       "      <th>995</th>\n",
       "      <td>13</td>\n",
       "      <td>11</td>\n",
       "      <td>69</td>\n",
       "      <td>57</td>\n",
       "      <td>74</td>\n",
       "    </tr>\n",
       "    <tr>\n",
       "      <th>996</th>\n",
       "      <td>15</td>\n",
       "      <td>64</td>\n",
       "      <td>8</td>\n",
       "      <td>75</td>\n",
       "      <td>20</td>\n",
       "    </tr>\n",
       "    <tr>\n",
       "      <th>997</th>\n",
       "      <td>54</td>\n",
       "      <td>7</td>\n",
       "      <td>76</td>\n",
       "      <td>66</td>\n",
       "      <td>47</td>\n",
       "    </tr>\n",
       "    <tr>\n",
       "      <th>998</th>\n",
       "      <td>94</td>\n",
       "      <td>66</td>\n",
       "      <td>54</td>\n",
       "      <td>44</td>\n",
       "      <td>98</td>\n",
       "    </tr>\n",
       "    <tr>\n",
       "      <th>999</th>\n",
       "      <td>41</td>\n",
       "      <td>62</td>\n",
       "      <td>29</td>\n",
       "      <td>12</td>\n",
       "      <td>33</td>\n",
       "    </tr>\n",
       "  </tbody>\n",
       "</table>\n",
       "<p>1000 rows × 5 columns</p>\n",
       "</div>"
      ],
      "text/plain": [
       "      a   b   c   d   e\n",
       "0    89  60  66  15  79\n",
       "1    94  51  91  46  23\n",
       "2     4  71  16   3   5\n",
       "3    18  61  68  97   7\n",
       "4    27  70  61  76  90\n",
       "..   ..  ..  ..  ..  ..\n",
       "995  13  11  69  57  74\n",
       "996  15  64   8  75  20\n",
       "997  54   7  76  66  47\n",
       "998  94  66  54  44  98\n",
       "999  41  62  29  12  33\n",
       "\n",
       "[1000 rows x 5 columns]"
      ]
     },
     "execution_count": 33,
     "metadata": {},
     "output_type": "execute_result"
    }
   ],
   "source": [
    "df"
   ]
  },
  {
   "cell_type": "code",
   "execution_count": 34,
   "id": "f47c2502",
   "metadata": {},
   "outputs": [
    {
     "data": {
      "application/vnd.microsoft.datawrangler.viewer.v0+json": {
       "columns": [
        {
         "name": "index",
         "rawType": "int64",
         "type": "integer"
        },
        {
         "name": "a",
         "rawType": "int32",
         "type": "integer"
        },
        {
         "name": "c",
         "rawType": "int32",
         "type": "integer"
        },
        {
         "name": "d",
         "rawType": "int32",
         "type": "integer"
        },
        {
         "name": "e",
         "rawType": "int32",
         "type": "integer"
        }
       ],
       "conversionMethod": "pd.DataFrame",
       "ref": "d18f8a98-4753-44d3-9c66-2133b4b8920f",
       "rows": [
        [
         "0",
         "89",
         "66",
         "15",
         "79"
        ],
        [
         "1",
         "94",
         "91",
         "46",
         "23"
        ],
        [
         "2",
         "4",
         "16",
         "3",
         "5"
        ],
        [
         "3",
         "18",
         "68",
         "97",
         "7"
        ],
        [
         "4",
         "27",
         "61",
         "76",
         "90"
        ],
        [
         "5",
         "68",
         "41",
         "7",
         "61"
        ],
        [
         "6",
         "66",
         "14",
         "4",
         "79"
        ],
        [
         "7",
         "69",
         "97",
         "26",
         "51"
        ],
        [
         "8",
         "4",
         "13",
         "13",
         "12"
        ],
        [
         "9",
         "1",
         "90",
         "21",
         "40"
        ],
        [
         "10",
         "45",
         "13",
         "50",
         "35"
        ],
        [
         "11",
         "56",
         "76",
         "50",
         "82"
        ],
        [
         "12",
         "48",
         "11",
         "94",
         "51"
        ],
        [
         "13",
         "56",
         "14",
         "34",
         "64"
        ],
        [
         "14",
         "25",
         "47",
         "28",
         "62"
        ],
        [
         "15",
         "44",
         "89",
         "58",
         "96"
        ],
        [
         "16",
         "60",
         "39",
         "29",
         "74"
        ],
        [
         "17",
         "46",
         "57",
         "82",
         "67"
        ],
        [
         "18",
         "63",
         "11",
         "15",
         "7"
        ],
        [
         "19",
         "11",
         "85",
         "46",
         "50"
        ],
        [
         "20",
         "87",
         "2",
         "9",
         "81"
        ],
        [
         "21",
         "2",
         "5",
         "3",
         "87"
        ],
        [
         "22",
         "59",
         "34",
         "25",
         "72"
        ],
        [
         "23",
         "96",
         "78",
         "40",
         "74"
        ],
        [
         "24",
         "19",
         "11",
         "51",
         "61"
        ],
        [
         "25",
         "18",
         "34",
         "3",
         "75"
        ],
        [
         "26",
         "55",
         "97",
         "33",
         "4"
        ],
        [
         "27",
         "38",
         "7",
         "82",
         "46"
        ],
        [
         "28",
         "8",
         "73",
         "75",
         "9"
        ],
        [
         "29",
         "91",
         "30",
         "2",
         "14"
        ],
        [
         "30",
         "51",
         "10",
         "99",
         "5"
        ],
        [
         "31",
         "14",
         "74",
         "79",
         "70"
        ],
        [
         "32",
         "81",
         "71",
         "22",
         "68"
        ],
        [
         "33",
         "62",
         "46",
         "14",
         "63"
        ],
        [
         "34",
         "22",
         "42",
         "83",
         "95"
        ],
        [
         "35",
         "56",
         "28",
         "4",
         "24"
        ],
        [
         "36",
         "46",
         "84",
         "96",
         "36"
        ],
        [
         "37",
         "41",
         "85",
         "80",
         "53"
        ],
        [
         "38",
         "88",
         "4",
         "75",
         "74"
        ],
        [
         "39",
         "95",
         "70",
         "35",
         "53"
        ],
        [
         "40",
         "34",
         "53",
         "95",
         "54"
        ],
        [
         "41",
         "74",
         "46",
         "35",
         "42"
        ],
        [
         "42",
         "28",
         "54",
         "59",
         "23"
        ],
        [
         "43",
         "88",
         "30",
         "4",
         "32"
        ],
        [
         "44",
         "96",
         "79",
         "98",
         "82"
        ],
        [
         "45",
         "79",
         "69",
         "10",
         "81"
        ],
        [
         "46",
         "47",
         "27",
         "79",
         "71"
        ],
        [
         "47",
         "83",
         "84",
         "18",
         "90"
        ],
        [
         "48",
         "57",
         "29",
         "25",
         "15"
        ],
        [
         "49",
         "66",
         "14",
         "4",
         "81"
        ]
       ],
       "shape": {
        "columns": 4,
        "rows": 1000
       }
      },
      "text/html": [
       "<div>\n",
       "<style scoped>\n",
       "    .dataframe tbody tr th:only-of-type {\n",
       "        vertical-align: middle;\n",
       "    }\n",
       "\n",
       "    .dataframe tbody tr th {\n",
       "        vertical-align: top;\n",
       "    }\n",
       "\n",
       "    .dataframe thead th {\n",
       "        text-align: right;\n",
       "    }\n",
       "</style>\n",
       "<table border=\"1\" class=\"dataframe\">\n",
       "  <thead>\n",
       "    <tr style=\"text-align: right;\">\n",
       "      <th></th>\n",
       "      <th>a</th>\n",
       "      <th>c</th>\n",
       "      <th>d</th>\n",
       "      <th>e</th>\n",
       "    </tr>\n",
       "  </thead>\n",
       "  <tbody>\n",
       "    <tr>\n",
       "      <th>0</th>\n",
       "      <td>89</td>\n",
       "      <td>66</td>\n",
       "      <td>15</td>\n",
       "      <td>79</td>\n",
       "    </tr>\n",
       "    <tr>\n",
       "      <th>1</th>\n",
       "      <td>94</td>\n",
       "      <td>91</td>\n",
       "      <td>46</td>\n",
       "      <td>23</td>\n",
       "    </tr>\n",
       "    <tr>\n",
       "      <th>2</th>\n",
       "      <td>4</td>\n",
       "      <td>16</td>\n",
       "      <td>3</td>\n",
       "      <td>5</td>\n",
       "    </tr>\n",
       "    <tr>\n",
       "      <th>3</th>\n",
       "      <td>18</td>\n",
       "      <td>68</td>\n",
       "      <td>97</td>\n",
       "      <td>7</td>\n",
       "    </tr>\n",
       "    <tr>\n",
       "      <th>4</th>\n",
       "      <td>27</td>\n",
       "      <td>61</td>\n",
       "      <td>76</td>\n",
       "      <td>90</td>\n",
       "    </tr>\n",
       "    <tr>\n",
       "      <th>...</th>\n",
       "      <td>...</td>\n",
       "      <td>...</td>\n",
       "      <td>...</td>\n",
       "      <td>...</td>\n",
       "    </tr>\n",
       "    <tr>\n",
       "      <th>995</th>\n",
       "      <td>13</td>\n",
       "      <td>69</td>\n",
       "      <td>57</td>\n",
       "      <td>74</td>\n",
       "    </tr>\n",
       "    <tr>\n",
       "      <th>996</th>\n",
       "      <td>15</td>\n",
       "      <td>8</td>\n",
       "      <td>75</td>\n",
       "      <td>20</td>\n",
       "    </tr>\n",
       "    <tr>\n",
       "      <th>997</th>\n",
       "      <td>54</td>\n",
       "      <td>76</td>\n",
       "      <td>66</td>\n",
       "      <td>47</td>\n",
       "    </tr>\n",
       "    <tr>\n",
       "      <th>998</th>\n",
       "      <td>94</td>\n",
       "      <td>54</td>\n",
       "      <td>44</td>\n",
       "      <td>98</td>\n",
       "    </tr>\n",
       "    <tr>\n",
       "      <th>999</th>\n",
       "      <td>41</td>\n",
       "      <td>29</td>\n",
       "      <td>12</td>\n",
       "      <td>33</td>\n",
       "    </tr>\n",
       "  </tbody>\n",
       "</table>\n",
       "<p>1000 rows × 4 columns</p>\n",
       "</div>"
      ],
      "text/plain": [
       "      a   c   d   e\n",
       "0    89  66  15  79\n",
       "1    94  91  46  23\n",
       "2     4  16   3   5\n",
       "3    18  68  97   7\n",
       "4    27  61  76  90\n",
       "..   ..  ..  ..  ..\n",
       "995  13  69  57  74\n",
       "996  15   8  75  20\n",
       "997  54  76  66  47\n",
       "998  94  54  44  98\n",
       "999  41  29  12  33\n",
       "\n",
       "[1000 rows x 4 columns]"
      ]
     },
     "execution_count": 34,
     "metadata": {},
     "output_type": "execute_result"
    }
   ],
   "source": [
    "df.drop([\"b\"], axis=\"columns\", inplace=True)\n",
    "df"
   ]
  },
  {
   "cell_type": "code",
   "execution_count": 35,
   "id": "02f25df9",
   "metadata": {},
   "outputs": [],
   "source": [
    "data1 = pd.DataFrame(\n",
    "    data=np.random.randint(1, 100, size=(100, 4)), columns=list(\"abcd\")\n",
    ")"
   ]
  },
  {
   "cell_type": "code",
   "execution_count": 36,
   "id": "39fcb45b",
   "metadata": {},
   "outputs": [],
   "source": [
    "data2 = pd.DataFrame(data=np.random.randint(1, 100, size=(100, 3)), columns=list(\"xyz\"))"
   ]
  },
  {
   "cell_type": "code",
   "execution_count": 37,
   "id": "68441c5e",
   "metadata": {},
   "outputs": [
    {
     "data": {
      "application/vnd.microsoft.datawrangler.viewer.v0+json": {
       "columns": [
        {
         "name": "index",
         "rawType": "int64",
         "type": "integer"
        },
        {
         "name": "a",
         "rawType": "int32",
         "type": "integer"
        },
        {
         "name": "b",
         "rawType": "int32",
         "type": "integer"
        },
        {
         "name": "c",
         "rawType": "int32",
         "type": "integer"
        },
        {
         "name": "d",
         "rawType": "int32",
         "type": "integer"
        }
       ],
       "conversionMethod": "pd.DataFrame",
       "ref": "78198905-b9c2-40e4-a9ba-b40c6746744f",
       "rows": [
        [
         "0",
         "60",
         "83",
         "69",
         "7"
        ],
        [
         "1",
         "6",
         "17",
         "75",
         "21"
        ],
        [
         "2",
         "86",
         "74",
         "70",
         "10"
        ],
        [
         "3",
         "44",
         "71",
         "12",
         "79"
        ],
        [
         "4",
         "36",
         "94",
         "40",
         "11"
        ],
        [
         "5",
         "88",
         "67",
         "41",
         "81"
        ],
        [
         "6",
         "35",
         "69",
         "32",
         "12"
        ],
        [
         "7",
         "15",
         "86",
         "21",
         "41"
        ],
        [
         "8",
         "93",
         "34",
         "21",
         "77"
        ],
        [
         "9",
         "6",
         "21",
         "19",
         "97"
        ],
        [
         "10",
         "44",
         "42",
         "88",
         "3"
        ],
        [
         "11",
         "82",
         "21",
         "98",
         "51"
        ],
        [
         "12",
         "38",
         "19",
         "56",
         "39"
        ],
        [
         "13",
         "15",
         "25",
         "31",
         "1"
        ],
        [
         "14",
         "57",
         "16",
         "55",
         "37"
        ],
        [
         "15",
         "73",
         "2",
         "47",
         "63"
        ],
        [
         "16",
         "33",
         "35",
         "40",
         "48"
        ],
        [
         "17",
         "94",
         "68",
         "13",
         "32"
        ],
        [
         "18",
         "42",
         "9",
         "98",
         "6"
        ],
        [
         "19",
         "3",
         "19",
         "87",
         "32"
        ],
        [
         "20",
         "20",
         "41",
         "15",
         "47"
        ],
        [
         "21",
         "40",
         "93",
         "70",
         "62"
        ],
        [
         "22",
         "9",
         "63",
         "72",
         "66"
        ],
        [
         "23",
         "65",
         "26",
         "78",
         "88"
        ],
        [
         "24",
         "21",
         "9",
         "86",
         "68"
        ],
        [
         "25",
         "51",
         "52",
         "73",
         "81"
        ],
        [
         "26",
         "94",
         "25",
         "67",
         "38"
        ],
        [
         "27",
         "96",
         "28",
         "89",
         "14"
        ],
        [
         "28",
         "21",
         "89",
         "16",
         "62"
        ],
        [
         "29",
         "58",
         "30",
         "70",
         "18"
        ],
        [
         "30",
         "98",
         "13",
         "10",
         "59"
        ],
        [
         "31",
         "34",
         "2",
         "97",
         "64"
        ],
        [
         "32",
         "16",
         "72",
         "97",
         "97"
        ],
        [
         "33",
         "54",
         "12",
         "49",
         "72"
        ],
        [
         "34",
         "93",
         "93",
         "8",
         "47"
        ],
        [
         "35",
         "67",
         "24",
         "82",
         "10"
        ],
        [
         "36",
         "22",
         "23",
         "98",
         "98"
        ],
        [
         "37",
         "30",
         "37",
         "95",
         "67"
        ],
        [
         "38",
         "34",
         "79",
         "26",
         "19"
        ],
        [
         "39",
         "32",
         "29",
         "46",
         "30"
        ],
        [
         "40",
         "8",
         "33",
         "49",
         "54"
        ],
        [
         "41",
         "24",
         "64",
         "47",
         "97"
        ],
        [
         "42",
         "38",
         "4",
         "45",
         "80"
        ],
        [
         "43",
         "82",
         "84",
         "60",
         "27"
        ],
        [
         "44",
         "50",
         "48",
         "29",
         "37"
        ],
        [
         "45",
         "64",
         "35",
         "4",
         "43"
        ],
        [
         "46",
         "45",
         "96",
         "2",
         "20"
        ],
        [
         "47",
         "34",
         "70",
         "49",
         "98"
        ],
        [
         "48",
         "88",
         "74",
         "16",
         "23"
        ],
        [
         "49",
         "48",
         "61",
         "17",
         "62"
        ]
       ],
       "shape": {
        "columns": 4,
        "rows": 100
       }
      },
      "text/html": [
       "<div>\n",
       "<style scoped>\n",
       "    .dataframe tbody tr th:only-of-type {\n",
       "        vertical-align: middle;\n",
       "    }\n",
       "\n",
       "    .dataframe tbody tr th {\n",
       "        vertical-align: top;\n",
       "    }\n",
       "\n",
       "    .dataframe thead th {\n",
       "        text-align: right;\n",
       "    }\n",
       "</style>\n",
       "<table border=\"1\" class=\"dataframe\">\n",
       "  <thead>\n",
       "    <tr style=\"text-align: right;\">\n",
       "      <th></th>\n",
       "      <th>a</th>\n",
       "      <th>b</th>\n",
       "      <th>c</th>\n",
       "      <th>d</th>\n",
       "    </tr>\n",
       "  </thead>\n",
       "  <tbody>\n",
       "    <tr>\n",
       "      <th>0</th>\n",
       "      <td>60</td>\n",
       "      <td>83</td>\n",
       "      <td>69</td>\n",
       "      <td>7</td>\n",
       "    </tr>\n",
       "    <tr>\n",
       "      <th>1</th>\n",
       "      <td>6</td>\n",
       "      <td>17</td>\n",
       "      <td>75</td>\n",
       "      <td>21</td>\n",
       "    </tr>\n",
       "    <tr>\n",
       "      <th>2</th>\n",
       "      <td>86</td>\n",
       "      <td>74</td>\n",
       "      <td>70</td>\n",
       "      <td>10</td>\n",
       "    </tr>\n",
       "    <tr>\n",
       "      <th>3</th>\n",
       "      <td>44</td>\n",
       "      <td>71</td>\n",
       "      <td>12</td>\n",
       "      <td>79</td>\n",
       "    </tr>\n",
       "    <tr>\n",
       "      <th>4</th>\n",
       "      <td>36</td>\n",
       "      <td>94</td>\n",
       "      <td>40</td>\n",
       "      <td>11</td>\n",
       "    </tr>\n",
       "    <tr>\n",
       "      <th>...</th>\n",
       "      <td>...</td>\n",
       "      <td>...</td>\n",
       "      <td>...</td>\n",
       "      <td>...</td>\n",
       "    </tr>\n",
       "    <tr>\n",
       "      <th>95</th>\n",
       "      <td>75</td>\n",
       "      <td>85</td>\n",
       "      <td>67</td>\n",
       "      <td>10</td>\n",
       "    </tr>\n",
       "    <tr>\n",
       "      <th>96</th>\n",
       "      <td>53</td>\n",
       "      <td>2</td>\n",
       "      <td>64</td>\n",
       "      <td>69</td>\n",
       "    </tr>\n",
       "    <tr>\n",
       "      <th>97</th>\n",
       "      <td>86</td>\n",
       "      <td>22</td>\n",
       "      <td>5</td>\n",
       "      <td>41</td>\n",
       "    </tr>\n",
       "    <tr>\n",
       "      <th>98</th>\n",
       "      <td>9</td>\n",
       "      <td>40</td>\n",
       "      <td>83</td>\n",
       "      <td>33</td>\n",
       "    </tr>\n",
       "    <tr>\n",
       "      <th>99</th>\n",
       "      <td>24</td>\n",
       "      <td>3</td>\n",
       "      <td>31</td>\n",
       "      <td>40</td>\n",
       "    </tr>\n",
       "  </tbody>\n",
       "</table>\n",
       "<p>100 rows × 4 columns</p>\n",
       "</div>"
      ],
      "text/plain": [
       "     a   b   c   d\n",
       "0   60  83  69   7\n",
       "1    6  17  75  21\n",
       "2   86  74  70  10\n",
       "3   44  71  12  79\n",
       "4   36  94  40  11\n",
       "..  ..  ..  ..  ..\n",
       "95  75  85  67  10\n",
       "96  53   2  64  69\n",
       "97  86  22   5  41\n",
       "98   9  40  83  33\n",
       "99  24   3  31  40\n",
       "\n",
       "[100 rows x 4 columns]"
      ]
     },
     "execution_count": 37,
     "metadata": {},
     "output_type": "execute_result"
    }
   ],
   "source": [
    "data1"
   ]
  },
  {
   "cell_type": "code",
   "execution_count": 38,
   "id": "b2a56528",
   "metadata": {},
   "outputs": [
    {
     "data": {
      "application/vnd.microsoft.datawrangler.viewer.v0+json": {
       "columns": [
        {
         "name": "index",
         "rawType": "int64",
         "type": "integer"
        },
        {
         "name": "x",
         "rawType": "int32",
         "type": "integer"
        },
        {
         "name": "y",
         "rawType": "int32",
         "type": "integer"
        },
        {
         "name": "z",
         "rawType": "int32",
         "type": "integer"
        }
       ],
       "conversionMethod": "pd.DataFrame",
       "ref": "197e17eb-bfdd-4dd2-b701-1e3191192b3f",
       "rows": [
        [
         "0",
         "92",
         "99",
         "18"
        ],
        [
         "1",
         "89",
         "83",
         "26"
        ],
        [
         "2",
         "8",
         "60",
         "62"
        ],
        [
         "3",
         "89",
         "87",
         "92"
        ],
        [
         "4",
         "35",
         "25",
         "9"
        ],
        [
         "5",
         "11",
         "33",
         "22"
        ],
        [
         "6",
         "22",
         "59",
         "24"
        ],
        [
         "7",
         "78",
         "78",
         "40"
        ],
        [
         "8",
         "88",
         "1",
         "70"
        ],
        [
         "9",
         "90",
         "73",
         "51"
        ],
        [
         "10",
         "86",
         "9",
         "17"
        ],
        [
         "11",
         "8",
         "47",
         "9"
        ],
        [
         "12",
         "87",
         "32",
         "1"
        ],
        [
         "13",
         "43",
         "44",
         "24"
        ],
        [
         "14",
         "65",
         "9",
         "87"
        ],
        [
         "15",
         "89",
         "33",
         "82"
        ],
        [
         "16",
         "62",
         "79",
         "47"
        ],
        [
         "17",
         "63",
         "5",
         "5"
        ],
        [
         "18",
         "2",
         "39",
         "1"
        ],
        [
         "19",
         "80",
         "31",
         "50"
        ],
        [
         "20",
         "65",
         "57",
         "19"
        ],
        [
         "21",
         "9",
         "15",
         "12"
        ],
        [
         "22",
         "80",
         "30",
         "85"
        ],
        [
         "23",
         "53",
         "12",
         "48"
        ],
        [
         "24",
         "93",
         "99",
         "53"
        ],
        [
         "25",
         "4",
         "8",
         "14"
        ],
        [
         "26",
         "58",
         "6",
         "70"
        ],
        [
         "27",
         "67",
         "3",
         "14"
        ],
        [
         "28",
         "24",
         "66",
         "3"
        ],
        [
         "29",
         "35",
         "25",
         "60"
        ],
        [
         "30",
         "23",
         "46",
         "92"
        ],
        [
         "31",
         "42",
         "33",
         "44"
        ],
        [
         "32",
         "15",
         "19",
         "4"
        ],
        [
         "33",
         "55",
         "68",
         "80"
        ],
        [
         "34",
         "77",
         "13",
         "88"
        ],
        [
         "35",
         "37",
         "90",
         "54"
        ],
        [
         "36",
         "93",
         "90",
         "73"
        ],
        [
         "37",
         "12",
         "39",
         "16"
        ],
        [
         "38",
         "68",
         "9",
         "85"
        ],
        [
         "39",
         "33",
         "9",
         "90"
        ],
        [
         "40",
         "37",
         "7",
         "67"
        ],
        [
         "41",
         "46",
         "56",
         "41"
        ],
        [
         "42",
         "89",
         "27",
         "7"
        ],
        [
         "43",
         "26",
         "85",
         "94"
        ],
        [
         "44",
         "30",
         "46",
         "93"
        ],
        [
         "45",
         "34",
         "35",
         "2"
        ],
        [
         "46",
         "96",
         "10",
         "82"
        ],
        [
         "47",
         "14",
         "12",
         "35"
        ],
        [
         "48",
         "52",
         "14",
         "55"
        ],
        [
         "49",
         "66",
         "43",
         "68"
        ]
       ],
       "shape": {
        "columns": 3,
        "rows": 100
       }
      },
      "text/html": [
       "<div>\n",
       "<style scoped>\n",
       "    .dataframe tbody tr th:only-of-type {\n",
       "        vertical-align: middle;\n",
       "    }\n",
       "\n",
       "    .dataframe tbody tr th {\n",
       "        vertical-align: top;\n",
       "    }\n",
       "\n",
       "    .dataframe thead th {\n",
       "        text-align: right;\n",
       "    }\n",
       "</style>\n",
       "<table border=\"1\" class=\"dataframe\">\n",
       "  <thead>\n",
       "    <tr style=\"text-align: right;\">\n",
       "      <th></th>\n",
       "      <th>x</th>\n",
       "      <th>y</th>\n",
       "      <th>z</th>\n",
       "    </tr>\n",
       "  </thead>\n",
       "  <tbody>\n",
       "    <tr>\n",
       "      <th>0</th>\n",
       "      <td>92</td>\n",
       "      <td>99</td>\n",
       "      <td>18</td>\n",
       "    </tr>\n",
       "    <tr>\n",
       "      <th>1</th>\n",
       "      <td>89</td>\n",
       "      <td>83</td>\n",
       "      <td>26</td>\n",
       "    </tr>\n",
       "    <tr>\n",
       "      <th>2</th>\n",
       "      <td>8</td>\n",
       "      <td>60</td>\n",
       "      <td>62</td>\n",
       "    </tr>\n",
       "    <tr>\n",
       "      <th>3</th>\n",
       "      <td>89</td>\n",
       "      <td>87</td>\n",
       "      <td>92</td>\n",
       "    </tr>\n",
       "    <tr>\n",
       "      <th>4</th>\n",
       "      <td>35</td>\n",
       "      <td>25</td>\n",
       "      <td>9</td>\n",
       "    </tr>\n",
       "    <tr>\n",
       "      <th>...</th>\n",
       "      <td>...</td>\n",
       "      <td>...</td>\n",
       "      <td>...</td>\n",
       "    </tr>\n",
       "    <tr>\n",
       "      <th>95</th>\n",
       "      <td>97</td>\n",
       "      <td>23</td>\n",
       "      <td>9</td>\n",
       "    </tr>\n",
       "    <tr>\n",
       "      <th>96</th>\n",
       "      <td>11</td>\n",
       "      <td>95</td>\n",
       "      <td>66</td>\n",
       "    </tr>\n",
       "    <tr>\n",
       "      <th>97</th>\n",
       "      <td>63</td>\n",
       "      <td>43</td>\n",
       "      <td>82</td>\n",
       "    </tr>\n",
       "    <tr>\n",
       "      <th>98</th>\n",
       "      <td>82</td>\n",
       "      <td>98</td>\n",
       "      <td>74</td>\n",
       "    </tr>\n",
       "    <tr>\n",
       "      <th>99</th>\n",
       "      <td>55</td>\n",
       "      <td>54</td>\n",
       "      <td>35</td>\n",
       "    </tr>\n",
       "  </tbody>\n",
       "</table>\n",
       "<p>100 rows × 3 columns</p>\n",
       "</div>"
      ],
      "text/plain": [
       "     x   y   z\n",
       "0   92  99  18\n",
       "1   89  83  26\n",
       "2    8  60  62\n",
       "3   89  87  92\n",
       "4   35  25   9\n",
       "..  ..  ..  ..\n",
       "95  97  23   9\n",
       "96  11  95  66\n",
       "97  63  43  82\n",
       "98  82  98  74\n",
       "99  55  54  35\n",
       "\n",
       "[100 rows x 3 columns]"
      ]
     },
     "execution_count": 38,
     "metadata": {},
     "output_type": "execute_result"
    }
   ],
   "source": [
    "data2"
   ]
  },
  {
   "cell_type": "code",
   "execution_count": 43,
   "id": "3920a60f",
   "metadata": {},
   "outputs": [
    {
     "name": "stdout",
     "output_type": "stream",
     "text": [
      "   A  B\n",
      "0  1  3\n",
      "1  2  4\n",
      "2  5  7\n",
      "3  6  8\n"
     ]
    }
   ],
   "source": [
    "import pandas as pd\n",
    "\n",
    "# Example DataFrames\n",
    "data1 = pd.DataFrame({\"A\": [1, 2], \"B\": [3, 4]})\n",
    "data2 = pd.DataFrame({\"A\": [5, 6], \"B\": [7, 8]})\n",
    "\n",
    "# Correct way to append\n",
    "data1 = pd.concat([data1, data2], ignore_index=True)\n",
    "print(data1)"
   ]
  },
  {
   "cell_type": "code",
   "execution_count": null,
   "id": "466c68fd",
   "metadata": {},
   "outputs": [
    {
     "name": "stdout",
     "output_type": "stream",
     "text": [
      "   A  B\n",
      "0  1  3\n",
      "1  2  4\n",
      "2  5  7\n",
      "3  6  8\n"
     ]
    }
   ],
   "source": [
    "# data1.append(data2)  # ❌ This no longer works\n",
    "\n",
    "\n",
    "# or same\n",
    "\n",
    "import pandas as pd\n",
    "\n",
    "# Example DataFrames\n",
    "data1 = pd.DataFrame({\"A\": [1, 2], \"B\": [3, 4]})\n",
    "data2 = pd.DataFrame({\"A\": [5, 6], \"B\": [7, 8]})\n",
    "\n",
    "# Correct approach\n",
    "data1 = pd.concat([data1, data2], ignore_index=True)  # ✅ Works in Pandas 2.0+\n",
    "print(data1)"
   ]
  },
  {
   "cell_type": "code",
   "execution_count": 40,
   "id": "557bfe7b",
   "metadata": {},
   "outputs": [],
   "source": [
    "data3 = pd.DataFrame(data=np.random.randint(1, 100, size=(100, 3)), columns=list(\"abc\"))"
   ]
  },
  {
   "cell_type": "code",
   "execution_count": 41,
   "id": "8661cfb1",
   "metadata": {},
   "outputs": [],
   "source": [
    "data4 = pd.DataFrame(data=np.random.randint(1, 100, size=(100, 3)), columns=list(\"ayz\"))"
   ]
  },
  {
   "cell_type": "code",
   "execution_count": 42,
   "id": "16a6e5bb",
   "metadata": {},
   "outputs": [
    {
     "data": {
      "application/vnd.microsoft.datawrangler.viewer.v0+json": {
       "columns": [
        {
         "name": "index",
         "rawType": "int64",
         "type": "integer"
        },
        {
         "name": "a",
         "rawType": "int32",
         "type": "integer"
        },
        {
         "name": "b",
         "rawType": "int32",
         "type": "integer"
        },
        {
         "name": "c",
         "rawType": "int32",
         "type": "integer"
        },
        {
         "name": "y",
         "rawType": "int32",
         "type": "integer"
        },
        {
         "name": "z",
         "rawType": "int32",
         "type": "integer"
        }
       ],
       "conversionMethod": "pd.DataFrame",
       "ref": "7b5cbb6e-70c0-479c-aeec-0a78de501b2c",
       "rows": [
        [
         "0",
         "85",
         "72",
         "72",
         "92",
         "5"
        ],
        [
         "1",
         "9",
         "79",
         "62",
         "54",
         "64"
        ],
        [
         "2",
         "9",
         "86",
         "98",
         "54",
         "64"
        ],
        [
         "3",
         "30",
         "68",
         "45",
         "3",
         "12"
        ],
        [
         "4",
         "30",
         "68",
         "45",
         "1",
         "78"
        ],
        [
         "5",
         "30",
         "68",
         "45",
         "46",
         "60"
        ],
        [
         "6",
         "93",
         "85",
         "77",
         "86",
         "87"
        ],
        [
         "7",
         "80",
         "25",
         "27",
         "42",
         "43"
        ],
        [
         "8",
         "13",
         "78",
         "69",
         "11",
         "42"
        ],
        [
         "9",
         "13",
         "78",
         "69",
         "26",
         "24"
        ],
        [
         "10",
         "58",
         "40",
         "72",
         "59",
         "90"
        ],
        [
         "11",
         "20",
         "47",
         "51",
         "31",
         "98"
        ],
        [
         "12",
         "20",
         "47",
         "51",
         "41",
         "38"
        ],
        [
         "13",
         "47",
         "19",
         "24",
         "22",
         "14"
        ],
        [
         "14",
         "47",
         "19",
         "24",
         "24",
         "45"
        ],
        [
         "15",
         "47",
         "19",
         "24",
         "35",
         "49"
        ],
        [
         "16",
         "67",
         "56",
         "21",
         "43",
         "17"
        ],
        [
         "17",
         "67",
         "56",
         "21",
         "83",
         "36"
        ],
        [
         "18",
         "67",
         "56",
         "21",
         "9",
         "76"
        ],
        [
         "19",
         "45",
         "42",
         "41",
         "87",
         "23"
        ],
        [
         "20",
         "45",
         "42",
         "41",
         "64",
         "83"
        ],
        [
         "21",
         "33",
         "27",
         "23",
         "33",
         "25"
        ],
        [
         "22",
         "96",
         "96",
         "93",
         "83",
         "19"
        ],
        [
         "23",
         "91",
         "80",
         "93",
         "62",
         "1"
        ],
        [
         "24",
         "91",
         "80",
         "93",
         "5",
         "65"
        ],
        [
         "25",
         "34",
         "29",
         "96",
         "73",
         "19"
        ],
        [
         "26",
         "34",
         "29",
         "96",
         "96",
         "61"
        ],
        [
         "27",
         "34",
         "29",
         "96",
         "6",
         "32"
        ],
        [
         "28",
         "20",
         "16",
         "58",
         "31",
         "98"
        ],
        [
         "29",
         "20",
         "16",
         "58",
         "41",
         "38"
        ],
        [
         "30",
         "49",
         "46",
         "49",
         "66",
         "79"
        ],
        [
         "31",
         "7",
         "58",
         "29",
         "21",
         "95"
        ],
        [
         "32",
         "7",
         "58",
         "29",
         "62",
         "95"
        ],
        [
         "33",
         "7",
         "58",
         "29",
         "82",
         "83"
        ],
        [
         "34",
         "7",
         "58",
         "29",
         "15",
         "74"
        ],
        [
         "35",
         "3",
         "31",
         "4",
         "61",
         "42"
        ],
        [
         "36",
         "29",
         "42",
         "18",
         "98",
         "98"
        ],
        [
         "37",
         "29",
         "42",
         "18",
         "28",
         "44"
        ],
        [
         "38",
         "3",
         "74",
         "92",
         "61",
         "42"
        ],
        [
         "39",
         "49",
         "34",
         "55",
         "66",
         "79"
        ],
        [
         "40",
         "79",
         "35",
         "69",
         "10",
         "28"
        ],
        [
         "41",
         "37",
         "39",
         "8",
         "13",
         "91"
        ],
        [
         "42",
         "37",
         "39",
         "8",
         "80",
         "52"
        ],
        [
         "43",
         "13",
         "45",
         "44",
         "11",
         "42"
        ],
        [
         "44",
         "13",
         "45",
         "44",
         "26",
         "24"
        ],
        [
         "45",
         "16",
         "23",
         "65",
         "18",
         "33"
        ],
        [
         "46",
         "16",
         "23",
         "65",
         "45",
         "41"
        ],
        [
         "47",
         "96",
         "86",
         "97",
         "83",
         "19"
        ],
        [
         "48",
         "3",
         "59",
         "40",
         "61",
         "42"
        ],
        [
         "49",
         "68",
         "51",
         "86",
         "43",
         "43"
        ]
       ],
       "shape": {
        "columns": 5,
        "rows": 102
       }
      },
      "text/html": [
       "<div>\n",
       "<style scoped>\n",
       "    .dataframe tbody tr th:only-of-type {\n",
       "        vertical-align: middle;\n",
       "    }\n",
       "\n",
       "    .dataframe tbody tr th {\n",
       "        vertical-align: top;\n",
       "    }\n",
       "\n",
       "    .dataframe thead th {\n",
       "        text-align: right;\n",
       "    }\n",
       "</style>\n",
       "<table border=\"1\" class=\"dataframe\">\n",
       "  <thead>\n",
       "    <tr style=\"text-align: right;\">\n",
       "      <th></th>\n",
       "      <th>a</th>\n",
       "      <th>b</th>\n",
       "      <th>c</th>\n",
       "      <th>y</th>\n",
       "      <th>z</th>\n",
       "    </tr>\n",
       "  </thead>\n",
       "  <tbody>\n",
       "    <tr>\n",
       "      <th>0</th>\n",
       "      <td>85</td>\n",
       "      <td>72</td>\n",
       "      <td>72</td>\n",
       "      <td>92</td>\n",
       "      <td>5</td>\n",
       "    </tr>\n",
       "    <tr>\n",
       "      <th>1</th>\n",
       "      <td>9</td>\n",
       "      <td>79</td>\n",
       "      <td>62</td>\n",
       "      <td>54</td>\n",
       "      <td>64</td>\n",
       "    </tr>\n",
       "    <tr>\n",
       "      <th>2</th>\n",
       "      <td>9</td>\n",
       "      <td>86</td>\n",
       "      <td>98</td>\n",
       "      <td>54</td>\n",
       "      <td>64</td>\n",
       "    </tr>\n",
       "    <tr>\n",
       "      <th>3</th>\n",
       "      <td>30</td>\n",
       "      <td>68</td>\n",
       "      <td>45</td>\n",
       "      <td>3</td>\n",
       "      <td>12</td>\n",
       "    </tr>\n",
       "    <tr>\n",
       "      <th>4</th>\n",
       "      <td>30</td>\n",
       "      <td>68</td>\n",
       "      <td>45</td>\n",
       "      <td>1</td>\n",
       "      <td>78</td>\n",
       "    </tr>\n",
       "    <tr>\n",
       "      <th>...</th>\n",
       "      <td>...</td>\n",
       "      <td>...</td>\n",
       "      <td>...</td>\n",
       "      <td>...</td>\n",
       "      <td>...</td>\n",
       "    </tr>\n",
       "    <tr>\n",
       "      <th>97</th>\n",
       "      <td>61</td>\n",
       "      <td>21</td>\n",
       "      <td>91</td>\n",
       "      <td>74</td>\n",
       "      <td>85</td>\n",
       "    </tr>\n",
       "    <tr>\n",
       "      <th>98</th>\n",
       "      <td>32</td>\n",
       "      <td>49</td>\n",
       "      <td>45</td>\n",
       "      <td>46</td>\n",
       "      <td>33</td>\n",
       "    </tr>\n",
       "    <tr>\n",
       "      <th>99</th>\n",
       "      <td>16</td>\n",
       "      <td>38</td>\n",
       "      <td>14</td>\n",
       "      <td>18</td>\n",
       "      <td>33</td>\n",
       "    </tr>\n",
       "    <tr>\n",
       "      <th>100</th>\n",
       "      <td>16</td>\n",
       "      <td>38</td>\n",
       "      <td>14</td>\n",
       "      <td>45</td>\n",
       "      <td>41</td>\n",
       "    </tr>\n",
       "    <tr>\n",
       "      <th>101</th>\n",
       "      <td>68</td>\n",
       "      <td>92</td>\n",
       "      <td>86</td>\n",
       "      <td>43</td>\n",
       "      <td>43</td>\n",
       "    </tr>\n",
       "  </tbody>\n",
       "</table>\n",
       "<p>102 rows × 5 columns</p>\n",
       "</div>"
      ],
      "text/plain": [
       "      a   b   c   y   z\n",
       "0    85  72  72  92   5\n",
       "1     9  79  62  54  64\n",
       "2     9  86  98  54  64\n",
       "3    30  68  45   3  12\n",
       "4    30  68  45   1  78\n",
       "..   ..  ..  ..  ..  ..\n",
       "97   61  21  91  74  85\n",
       "98   32  49  45  46  33\n",
       "99   16  38  14  18  33\n",
       "100  16  38  14  45  41\n",
       "101  68  92  86  43  43\n",
       "\n",
       "[102 rows x 5 columns]"
      ]
     },
     "execution_count": 42,
     "metadata": {},
     "output_type": "execute_result"
    }
   ],
   "source": [
    "data3.merge(data4, on=\"a\")"
   ]
  },
  {
   "cell_type": "code",
   "execution_count": null,
   "id": "0e4472f0",
   "metadata": {},
   "outputs": [],
   "source": []
  },
  {
   "cell_type": "code",
   "execution_count": null,
   "id": "c7499a98",
   "metadata": {},
   "outputs": [],
   "source": []
  },
  {
   "cell_type": "code",
   "execution_count": null,
   "id": "172d57d5",
   "metadata": {},
   "outputs": [],
   "source": []
  },
  {
   "cell_type": "code",
   "execution_count": null,
   "id": "9a7b6096",
   "metadata": {},
   "outputs": [],
   "source": []
  },
  {
   "cell_type": "code",
   "execution_count": null,
   "id": "45343893",
   "metadata": {},
   "outputs": [],
   "source": []
  },
  {
   "cell_type": "code",
   "execution_count": null,
   "id": "3a42152f",
   "metadata": {},
   "outputs": [],
   "source": []
  },
  {
   "cell_type": "code",
   "execution_count": null,
   "id": "c18a2e19",
   "metadata": {},
   "outputs": [],
   "source": []
  },
  {
   "cell_type": "code",
   "execution_count": null,
   "id": "a35fbe89",
   "metadata": {},
   "outputs": [],
   "source": []
  },
  {
   "cell_type": "code",
   "execution_count": null,
   "id": "db5aaa4d",
   "metadata": {},
   "outputs": [],
   "source": []
  },
  {
   "cell_type": "code",
   "execution_count": null,
   "id": "dd4220fd",
   "metadata": {},
   "outputs": [],
   "source": []
  },
  {
   "cell_type": "code",
   "execution_count": null,
   "id": "572fdc8a",
   "metadata": {},
   "outputs": [],
   "source": []
  },
  {
   "cell_type": "code",
   "execution_count": null,
   "id": "f065f1c9",
   "metadata": {},
   "outputs": [],
   "source": []
  },
  {
   "cell_type": "code",
   "execution_count": null,
   "id": "af7510f8",
   "metadata": {},
   "outputs": [],
   "source": []
  }
 ],
 "metadata": {
  "kernelspec": {
   "display_name": "base",
   "language": "python",
   "name": "python3"
  },
  "language_info": {
   "codemirror_mode": {
    "name": "ipython",
    "version": 3
   },
   "file_extension": ".py",
   "mimetype": "text/x-python",
   "name": "python",
   "nbconvert_exporter": "python",
   "pygments_lexer": "ipython3",
   "version": "3.12.7"
  }
 },
 "nbformat": 4,
 "nbformat_minor": 5
}
